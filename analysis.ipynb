{
 "cells": [
  {
   "cell_type": "markdown",
   "metadata": {},
   "source": [
    "# Salary Prediction Project\n",
    "\n",
    "## Problem Statement\n",
    "\n",
    "InnovaTech, a leading company in the robotics industry, is now hiring! As the lead data scientist at the compnay, you have been tasked with creating an automated system that estimates annual salaries for conmpany employees based on information such as their age, gender, years of experience, education level, and job title.\n",
    "\n",
    "Estimates from your system will be used by potential employees to help them decide whether InnovaTech is right for them. Due to regulatory requirements, you must be able to explain why your system outputs a certain prediction.\n",
    "\n",
    "You will be given a CSV file consisting of the aforementioned information and the actual salaries of over 300 employees."
   ]
  },
  {
   "cell_type": "markdown",
   "metadata": {},
   "source": [
    "## Getting the Data"
   ]
  },
  {
   "cell_type": "code",
   "execution_count": 1,
   "metadata": {},
   "outputs": [],
   "source": [
    "import pandas as pd"
   ]
  },
  {
   "cell_type": "code",
   "execution_count": 2,
   "metadata": {},
   "outputs": [
    {
     "data": {
      "text/html": [
       "<div>\n",
       "<style scoped>\n",
       "    .dataframe tbody tr th:only-of-type {\n",
       "        vertical-align: middle;\n",
       "    }\n",
       "\n",
       "    .dataframe tbody tr th {\n",
       "        vertical-align: top;\n",
       "    }\n",
       "\n",
       "    .dataframe thead th {\n",
       "        text-align: right;\n",
       "    }\n",
       "</style>\n",
       "<table border=\"1\" class=\"dataframe\">\n",
       "  <thead>\n",
       "    <tr style=\"text-align: right;\">\n",
       "      <th></th>\n",
       "      <th>Age</th>\n",
       "      <th>Gender</th>\n",
       "      <th>Education Level</th>\n",
       "      <th>Job Title</th>\n",
       "      <th>Years of Experience</th>\n",
       "      <th>Salary</th>\n",
       "    </tr>\n",
       "  </thead>\n",
       "  <tbody>\n",
       "    <tr>\n",
       "      <th>0</th>\n",
       "      <td>32.0</td>\n",
       "      <td>Male</td>\n",
       "      <td>Bachelor's</td>\n",
       "      <td>Software Engineer</td>\n",
       "      <td>5.0</td>\n",
       "      <td>90000.0</td>\n",
       "    </tr>\n",
       "    <tr>\n",
       "      <th>1</th>\n",
       "      <td>28.0</td>\n",
       "      <td>Female</td>\n",
       "      <td>Master's</td>\n",
       "      <td>Data Analyst</td>\n",
       "      <td>3.0</td>\n",
       "      <td>65000.0</td>\n",
       "    </tr>\n",
       "    <tr>\n",
       "      <th>2</th>\n",
       "      <td>45.0</td>\n",
       "      <td>Male</td>\n",
       "      <td>PhD</td>\n",
       "      <td>Senior Manager</td>\n",
       "      <td>15.0</td>\n",
       "      <td>150000.0</td>\n",
       "    </tr>\n",
       "    <tr>\n",
       "      <th>3</th>\n",
       "      <td>36.0</td>\n",
       "      <td>Female</td>\n",
       "      <td>Bachelor's</td>\n",
       "      <td>Sales Associate</td>\n",
       "      <td>7.0</td>\n",
       "      <td>60000.0</td>\n",
       "    </tr>\n",
       "    <tr>\n",
       "      <th>4</th>\n",
       "      <td>52.0</td>\n",
       "      <td>Male</td>\n",
       "      <td>Master's</td>\n",
       "      <td>Director</td>\n",
       "      <td>20.0</td>\n",
       "      <td>200000.0</td>\n",
       "    </tr>\n",
       "    <tr>\n",
       "      <th>...</th>\n",
       "      <td>...</td>\n",
       "      <td>...</td>\n",
       "      <td>...</td>\n",
       "      <td>...</td>\n",
       "      <td>...</td>\n",
       "      <td>...</td>\n",
       "    </tr>\n",
       "    <tr>\n",
       "      <th>370</th>\n",
       "      <td>35.0</td>\n",
       "      <td>Female</td>\n",
       "      <td>Bachelor's</td>\n",
       "      <td>Senior Marketing Analyst</td>\n",
       "      <td>8.0</td>\n",
       "      <td>85000.0</td>\n",
       "    </tr>\n",
       "    <tr>\n",
       "      <th>371</th>\n",
       "      <td>43.0</td>\n",
       "      <td>Male</td>\n",
       "      <td>Master's</td>\n",
       "      <td>Director of Operations</td>\n",
       "      <td>19.0</td>\n",
       "      <td>170000.0</td>\n",
       "    </tr>\n",
       "    <tr>\n",
       "      <th>372</th>\n",
       "      <td>29.0</td>\n",
       "      <td>Female</td>\n",
       "      <td>Bachelor's</td>\n",
       "      <td>Junior Project Manager</td>\n",
       "      <td>2.0</td>\n",
       "      <td>40000.0</td>\n",
       "    </tr>\n",
       "    <tr>\n",
       "      <th>373</th>\n",
       "      <td>34.0</td>\n",
       "      <td>Male</td>\n",
       "      <td>Bachelor's</td>\n",
       "      <td>Senior Operations Coordinator</td>\n",
       "      <td>7.0</td>\n",
       "      <td>90000.0</td>\n",
       "    </tr>\n",
       "    <tr>\n",
       "      <th>374</th>\n",
       "      <td>44.0</td>\n",
       "      <td>Female</td>\n",
       "      <td>PhD</td>\n",
       "      <td>Senior Business Analyst</td>\n",
       "      <td>15.0</td>\n",
       "      <td>150000.0</td>\n",
       "    </tr>\n",
       "  </tbody>\n",
       "</table>\n",
       "<p>375 rows × 6 columns</p>\n",
       "</div>"
      ],
      "text/plain": [
       "      Age  Gender Education Level                      Job Title  \\\n",
       "0    32.0    Male      Bachelor's              Software Engineer   \n",
       "1    28.0  Female        Master's                   Data Analyst   \n",
       "2    45.0    Male             PhD                 Senior Manager   \n",
       "3    36.0  Female      Bachelor's                Sales Associate   \n",
       "4    52.0    Male        Master's                       Director   \n",
       "..    ...     ...             ...                            ...   \n",
       "370  35.0  Female      Bachelor's       Senior Marketing Analyst   \n",
       "371  43.0    Male        Master's         Director of Operations   \n",
       "372  29.0  Female      Bachelor's         Junior Project Manager   \n",
       "373  34.0    Male      Bachelor's  Senior Operations Coordinator   \n",
       "374  44.0  Female             PhD        Senior Business Analyst   \n",
       "\n",
       "     Years of Experience    Salary  \n",
       "0                    5.0   90000.0  \n",
       "1                    3.0   65000.0  \n",
       "2                   15.0  150000.0  \n",
       "3                    7.0   60000.0  \n",
       "4                   20.0  200000.0  \n",
       "..                   ...       ...  \n",
       "370                  8.0   85000.0  \n",
       "371                 19.0  170000.0  \n",
       "372                  2.0   40000.0  \n",
       "373                  7.0   90000.0  \n",
       "374                 15.0  150000.0  \n",
       "\n",
       "[375 rows x 6 columns]"
      ]
     },
     "execution_count": 2,
     "metadata": {},
     "output_type": "execute_result"
    }
   ],
   "source": [
    "data = pd.read_csv('data/Salary Data.csv')\n",
    "data"
   ]
  },
  {
   "cell_type": "markdown",
   "metadata": {},
   "source": [
    "The dataset has 375 rows and 6 columns, with each row representing information a specific employee. Let's take a closer look at the employee information."
   ]
  },
  {
   "cell_type": "code",
   "execution_count": 3,
   "metadata": {},
   "outputs": [
    {
     "name": "stdout",
     "output_type": "stream",
     "text": [
      "<class 'pandas.core.frame.DataFrame'>\n",
      "RangeIndex: 375 entries, 0 to 374\n",
      "Data columns (total 6 columns):\n",
      " #   Column               Non-Null Count  Dtype  \n",
      "---  ------               --------------  -----  \n",
      " 0   Age                  373 non-null    float64\n",
      " 1   Gender               373 non-null    object \n",
      " 2   Education Level      373 non-null    object \n",
      " 3   Job Title            373 non-null    object \n",
      " 4   Years of Experience  373 non-null    float64\n",
      " 5   Salary               373 non-null    float64\n",
      "dtypes: float64(3), object(3)\n",
      "memory usage: 17.7+ KB\n"
     ]
    }
   ],
   "source": [
    "data.info()"
   ]
  },
  {
   "cell_type": "markdown",
   "metadata": {},
   "source": [
    "The age and years of experience columns are numerical, and the gender, education level, and job title are strings (possible categories). There are no missing values in any of the columns.\n",
    "\n",
    "Let's now look at some statistics for the numerical columns."
   ]
  },
  {
   "cell_type": "code",
   "execution_count": 4,
   "metadata": {},
   "outputs": [
    {
     "data": {
      "text/html": [
       "<div>\n",
       "<style scoped>\n",
       "    .dataframe tbody tr th:only-of-type {\n",
       "        vertical-align: middle;\n",
       "    }\n",
       "\n",
       "    .dataframe tbody tr th {\n",
       "        vertical-align: top;\n",
       "    }\n",
       "\n",
       "    .dataframe thead th {\n",
       "        text-align: right;\n",
       "    }\n",
       "</style>\n",
       "<table border=\"1\" class=\"dataframe\">\n",
       "  <thead>\n",
       "    <tr style=\"text-align: right;\">\n",
       "      <th></th>\n",
       "      <th>Age</th>\n",
       "      <th>Years of Experience</th>\n",
       "      <th>Salary</th>\n",
       "    </tr>\n",
       "  </thead>\n",
       "  <tbody>\n",
       "    <tr>\n",
       "      <th>count</th>\n",
       "      <td>373.000000</td>\n",
       "      <td>373.000000</td>\n",
       "      <td>373.000000</td>\n",
       "    </tr>\n",
       "    <tr>\n",
       "      <th>mean</th>\n",
       "      <td>37.431635</td>\n",
       "      <td>10.030831</td>\n",
       "      <td>100577.345845</td>\n",
       "    </tr>\n",
       "    <tr>\n",
       "      <th>std</th>\n",
       "      <td>7.069073</td>\n",
       "      <td>6.557007</td>\n",
       "      <td>48240.013482</td>\n",
       "    </tr>\n",
       "    <tr>\n",
       "      <th>min</th>\n",
       "      <td>23.000000</td>\n",
       "      <td>0.000000</td>\n",
       "      <td>350.000000</td>\n",
       "    </tr>\n",
       "    <tr>\n",
       "      <th>25%</th>\n",
       "      <td>31.000000</td>\n",
       "      <td>4.000000</td>\n",
       "      <td>55000.000000</td>\n",
       "    </tr>\n",
       "    <tr>\n",
       "      <th>50%</th>\n",
       "      <td>36.000000</td>\n",
       "      <td>9.000000</td>\n",
       "      <td>95000.000000</td>\n",
       "    </tr>\n",
       "    <tr>\n",
       "      <th>75%</th>\n",
       "      <td>44.000000</td>\n",
       "      <td>15.000000</td>\n",
       "      <td>140000.000000</td>\n",
       "    </tr>\n",
       "    <tr>\n",
       "      <th>max</th>\n",
       "      <td>53.000000</td>\n",
       "      <td>25.000000</td>\n",
       "      <td>250000.000000</td>\n",
       "    </tr>\n",
       "  </tbody>\n",
       "</table>\n",
       "</div>"
      ],
      "text/plain": [
       "              Age  Years of Experience         Salary\n",
       "count  373.000000           373.000000     373.000000\n",
       "mean    37.431635            10.030831  100577.345845\n",
       "std      7.069073             6.557007   48240.013482\n",
       "min     23.000000             0.000000     350.000000\n",
       "25%     31.000000             4.000000   55000.000000\n",
       "50%     36.000000             9.000000   95000.000000\n",
       "75%     44.000000            15.000000  140000.000000\n",
       "max     53.000000            25.000000  250000.000000"
      ]
     },
     "execution_count": 4,
     "metadata": {},
     "output_type": "execute_result"
    }
   ],
   "source": [
    "data.describe()"
   ]
  },
  {
   "cell_type": "markdown",
   "metadata": {},
   "source": [
    "The values in all of the columns seem reasonable. The salary and years of experience columns look very skewed, as in both columns the median is much lower than the maxmimum value. \n",
    "\n",
    "The minimum value in the salaries column is 350, which doesn't look right. Let's take a closer look."
   ]
  },
  {
   "cell_type": "code",
   "execution_count": 5,
   "metadata": {},
   "outputs": [
    {
     "data": {
      "text/plain": [
       "259       350.0\n",
       "82      30000.0\n",
       "97      35000.0\n",
       "218     35000.0\n",
       "49      35000.0\n",
       "         ...   \n",
       "105    220000.0\n",
       "30     250000.0\n",
       "83     250000.0\n",
       "172         NaN\n",
       "260         NaN\n",
       "Name: Salary, Length: 375, dtype: float64"
      ]
     },
     "execution_count": 5,
     "metadata": {},
     "output_type": "execute_result"
    }
   ],
   "source": [
    "data.Salary.sort_values()"
   ]
  },
  {
   "cell_type": "markdown",
   "metadata": {},
   "source": [
    "Based on this, we can see that one of the salary entries is 350, and 2 of the salary entries are not present. Let's get rid of these rows to prevent our model from becoming skewed."
   ]
  },
  {
   "cell_type": "code",
   "execution_count": 6,
   "metadata": {},
   "outputs": [
    {
     "data": {
      "text/html": [
       "<div>\n",
       "<style scoped>\n",
       "    .dataframe tbody tr th:only-of-type {\n",
       "        vertical-align: middle;\n",
       "    }\n",
       "\n",
       "    .dataframe tbody tr th {\n",
       "        vertical-align: top;\n",
       "    }\n",
       "\n",
       "    .dataframe thead th {\n",
       "        text-align: right;\n",
       "    }\n",
       "</style>\n",
       "<table border=\"1\" class=\"dataframe\">\n",
       "  <thead>\n",
       "    <tr style=\"text-align: right;\">\n",
       "      <th></th>\n",
       "      <th>Age</th>\n",
       "      <th>Gender</th>\n",
       "      <th>Education Level</th>\n",
       "      <th>Job Title</th>\n",
       "      <th>Years of Experience</th>\n",
       "      <th>Salary</th>\n",
       "    </tr>\n",
       "  </thead>\n",
       "  <tbody>\n",
       "    <tr>\n",
       "      <th>0</th>\n",
       "      <td>32.0</td>\n",
       "      <td>Male</td>\n",
       "      <td>Bachelor's</td>\n",
       "      <td>Software Engineer</td>\n",
       "      <td>5.0</td>\n",
       "      <td>90000.0</td>\n",
       "    </tr>\n",
       "    <tr>\n",
       "      <th>1</th>\n",
       "      <td>28.0</td>\n",
       "      <td>Female</td>\n",
       "      <td>Master's</td>\n",
       "      <td>Data Analyst</td>\n",
       "      <td>3.0</td>\n",
       "      <td>65000.0</td>\n",
       "    </tr>\n",
       "    <tr>\n",
       "      <th>2</th>\n",
       "      <td>45.0</td>\n",
       "      <td>Male</td>\n",
       "      <td>PhD</td>\n",
       "      <td>Senior Manager</td>\n",
       "      <td>15.0</td>\n",
       "      <td>150000.0</td>\n",
       "    </tr>\n",
       "    <tr>\n",
       "      <th>3</th>\n",
       "      <td>36.0</td>\n",
       "      <td>Female</td>\n",
       "      <td>Bachelor's</td>\n",
       "      <td>Sales Associate</td>\n",
       "      <td>7.0</td>\n",
       "      <td>60000.0</td>\n",
       "    </tr>\n",
       "    <tr>\n",
       "      <th>4</th>\n",
       "      <td>52.0</td>\n",
       "      <td>Male</td>\n",
       "      <td>Master's</td>\n",
       "      <td>Director</td>\n",
       "      <td>20.0</td>\n",
       "      <td>200000.0</td>\n",
       "    </tr>\n",
       "    <tr>\n",
       "      <th>...</th>\n",
       "      <td>...</td>\n",
       "      <td>...</td>\n",
       "      <td>...</td>\n",
       "      <td>...</td>\n",
       "      <td>...</td>\n",
       "      <td>...</td>\n",
       "    </tr>\n",
       "    <tr>\n",
       "      <th>370</th>\n",
       "      <td>35.0</td>\n",
       "      <td>Female</td>\n",
       "      <td>Bachelor's</td>\n",
       "      <td>Senior Marketing Analyst</td>\n",
       "      <td>8.0</td>\n",
       "      <td>85000.0</td>\n",
       "    </tr>\n",
       "    <tr>\n",
       "      <th>371</th>\n",
       "      <td>43.0</td>\n",
       "      <td>Male</td>\n",
       "      <td>Master's</td>\n",
       "      <td>Director of Operations</td>\n",
       "      <td>19.0</td>\n",
       "      <td>170000.0</td>\n",
       "    </tr>\n",
       "    <tr>\n",
       "      <th>372</th>\n",
       "      <td>29.0</td>\n",
       "      <td>Female</td>\n",
       "      <td>Bachelor's</td>\n",
       "      <td>Junior Project Manager</td>\n",
       "      <td>2.0</td>\n",
       "      <td>40000.0</td>\n",
       "    </tr>\n",
       "    <tr>\n",
       "      <th>373</th>\n",
       "      <td>34.0</td>\n",
       "      <td>Male</td>\n",
       "      <td>Bachelor's</td>\n",
       "      <td>Senior Operations Coordinator</td>\n",
       "      <td>7.0</td>\n",
       "      <td>90000.0</td>\n",
       "    </tr>\n",
       "    <tr>\n",
       "      <th>374</th>\n",
       "      <td>44.0</td>\n",
       "      <td>Female</td>\n",
       "      <td>PhD</td>\n",
       "      <td>Senior Business Analyst</td>\n",
       "      <td>15.0</td>\n",
       "      <td>150000.0</td>\n",
       "    </tr>\n",
       "  </tbody>\n",
       "</table>\n",
       "<p>372 rows × 6 columns</p>\n",
       "</div>"
      ],
      "text/plain": [
       "      Age  Gender Education Level                      Job Title  \\\n",
       "0    32.0    Male      Bachelor's              Software Engineer   \n",
       "1    28.0  Female        Master's                   Data Analyst   \n",
       "2    45.0    Male             PhD                 Senior Manager   \n",
       "3    36.0  Female      Bachelor's                Sales Associate   \n",
       "4    52.0    Male        Master's                       Director   \n",
       "..    ...     ...             ...                            ...   \n",
       "370  35.0  Female      Bachelor's       Senior Marketing Analyst   \n",
       "371  43.0    Male        Master's         Director of Operations   \n",
       "372  29.0  Female      Bachelor's         Junior Project Manager   \n",
       "373  34.0    Male      Bachelor's  Senior Operations Coordinator   \n",
       "374  44.0  Female             PhD        Senior Business Analyst   \n",
       "\n",
       "     Years of Experience    Salary  \n",
       "0                    5.0   90000.0  \n",
       "1                    3.0   65000.0  \n",
       "2                   15.0  150000.0  \n",
       "3                    7.0   60000.0  \n",
       "4                   20.0  200000.0  \n",
       "..                   ...       ...  \n",
       "370                  8.0   85000.0  \n",
       "371                 19.0  170000.0  \n",
       "372                  2.0   40000.0  \n",
       "373                  7.0   90000.0  \n",
       "374                 15.0  150000.0  \n",
       "\n",
       "[372 rows x 6 columns]"
      ]
     },
     "execution_count": 6,
     "metadata": {},
     "output_type": "execute_result"
    }
   ],
   "source": [
    "data.dropna(inplace=True)\n",
    "data.drop(index=259, inplace=True)\n",
    "data"
   ]
  },
  {
   "cell_type": "code",
   "execution_count": 7,
   "metadata": {},
   "outputs": [
    {
     "data": {
      "text/plain": [
       "82      30000.0\n",
       "189     35000.0\n",
       "134     35000.0\n",
       "153     35000.0\n",
       "218     35000.0\n",
       "         ...   \n",
       "53     200000.0\n",
       "4      200000.0\n",
       "105    220000.0\n",
       "83     250000.0\n",
       "30     250000.0\n",
       "Name: Salary, Length: 372, dtype: float64"
      ]
     },
     "execution_count": 7,
     "metadata": {},
     "output_type": "execute_result"
    }
   ],
   "source": [
    "data.Salary.sort_values()"
   ]
  },
  {
   "cell_type": "markdown",
   "metadata": {},
   "source": [
    "Based on the new values, we successfully got rid of the faulty data values in the salary column. Now we can proceed with further data exploration and visualization."
   ]
  },
  {
   "cell_type": "markdown",
   "metadata": {},
   "source": [
    "## Exploratory Analysis and Visualization"
   ]
  },
  {
   "cell_type": "code",
   "execution_count": 8,
   "metadata": {},
   "outputs": [
    {
     "name": "stdout",
     "output_type": "stream",
     "text": [
      "Note: you may need to restart the kernel to use updated packages.\n"
     ]
    }
   ],
   "source": [
    "%pip install plotly --quiet"
   ]
  },
  {
   "cell_type": "code",
   "execution_count": 9,
   "metadata": {},
   "outputs": [],
   "source": [
    "import plotly.express as px\n",
    "import matplotlib\n",
    "import matplotlib.pyplot as plt\n",
    "import seaborn as sns\n",
    "import numpy as np\n",
    "%matplotlib inline"
   ]
  },
  {
   "cell_type": "markdown",
   "metadata": {},
   "source": [
    "We will now add some setting that will improve the default style and font sizes for our charts."
   ]
  },
  {
   "cell_type": "code",
   "execution_count": 10,
   "metadata": {},
   "outputs": [],
   "source": [
    "sns.set_style('darkgrid')\n",
    "matplotlib.rcParams['font.size'] = 14\n",
    "matplotlib.rcParams['figure.figsize'] = (10, 6)\n",
    "matplotlib.rcParams['figure.facecolor'] = '#00000000'"
   ]
  },
  {
   "cell_type": "markdown",
   "metadata": {},
   "source": [
    "### Age\n",
    "\n",
    "Age is a numeric column. The minimum age in the dataset is 23 and the maximum age is 53. Thus, we can use plotly to visualize the distribution of age using a histogram with 30 bins (one for each year) and a box plot. "
   ]
  },
  {
   "cell_type": "code",
   "execution_count": 11,
   "metadata": {},
   "outputs": [
    {
     "data": {
      "text/plain": [
       "count    372.000000\n",
       "mean      37.454301\n",
       "std        7.065009\n",
       "min       23.000000\n",
       "25%       31.750000\n",
       "50%       36.000000\n",
       "75%       44.000000\n",
       "max       53.000000\n",
       "Name: Age, dtype: float64"
      ]
     },
     "execution_count": 11,
     "metadata": {},
     "output_type": "execute_result"
    }
   ],
   "source": [
    "data.Age.describe()"
   ]
  },
  {
   "cell_type": "code",
   "execution_count": 12,
   "metadata": {},
   "outputs": [
    {
     "data": {
      "application/vnd.plotly.v1+json": {
       "config": {
        "plotlyServerURL": "https://plot.ly"
       },
       "data": [
        {
         "alignmentgroup": "True",
         "bingroup": "x",
         "hovertemplate": "Age=%{x}<br>count=%{y}<extra></extra>",
         "legendgroup": "",
         "marker": {
          "color": "#636efa",
          "pattern": {
           "shape": ""
          }
         },
         "name": "",
         "nbinsx": 30,
         "offsetgroup": "",
         "orientation": "v",
         "showlegend": false,
         "type": "histogram",
         "x": [
          32,
          28,
          45,
          36,
          52,
          29,
          42,
          31,
          26,
          38,
          29,
          48,
          35,
          40,
          27,
          44,
          33,
          39,
          25,
          51,
          34,
          47,
          30,
          36,
          41,
          28,
          37,
          24,
          43,
          33,
          50,
          31,
          29,
          39,
          46,
          27,
          35,
          42,
          26,
          49,
          34,
          48,
          30,
          36,
          41,
          28,
          32,
          45,
          38,
          25,
          51,
          33,
          40,
          47,
          29,
          36,
          27,
          43,
          30,
          35,
          51,
          29,
          40,
          47,
          26,
          38,
          46,
          31,
          34,
          49,
          33,
          39,
          45,
          28,
          42,
          37,
          50,
          32,
          48,
          30,
          36,
          41,
          25,
          52,
          29,
          34,
          27,
          40,
          46,
          31,
          36,
          29,
          43,
          52,
          33,
          39,
          47,
          26,
          38,
          45,
          31,
          35,
          49,
          33,
          39,
          44,
          30,
          36,
          41,
          28,
          42,
          37,
          50,
          32,
          23,
          31,
          40,
          48,
          29,
          35,
          42,
          53,
          33,
          38,
          44,
          26,
          37,
          45,
          32,
          34,
          50,
          29,
          40,
          47,
          27,
          39,
          46,
          30,
          36,
          43,
          28,
          41,
          33,
          47,
          25,
          34,
          42,
          31,
          38,
          45,
          29,
          36,
          43,
          26,
          37,
          44,
          32,
          33,
          51,
          28,
          39,
          48,
          30,
          35,
          41,
          27,
          40,
          46,
          31,
          34,
          50,
          29,
          43,
          26,
          35,
          42,
          31,
          38,
          46,
          29,
          37,
          44,
          27,
          36,
          43,
          33,
          34,
          50,
          28,
          39,
          47,
          30,
          34,
          40,
          28,
          41,
          45,
          32,
          35,
          49,
          30,
          44,
          27,
          36,
          41,
          31,
          39,
          47,
          30,
          38,
          45,
          28,
          35,
          44,
          34,
          35,
          50,
          29,
          40,
          48,
          31,
          33,
          42,
          28,
          40,
          46,
          33,
          37,
          51,
          30,
          43,
          27,
          35,
          42,
          32,
          37,
          45,
          33,
          39,
          44,
          29,
          38,
          46,
          34,
          36,
          49,
          31,
          41,
          47,
          30,
          38,
          45,
          28,
          35,
          44,
          34,
          35,
          50,
          37,
          46,
          31,
          42,
          29,
          36,
          44,
          33,
          39,
          45,
          32,
          37,
          47,
          30,
          38,
          46,
          34,
          36,
          49,
          31,
          41,
          47,
          29,
          35,
          44,
          33,
          35,
          44,
          32,
          38,
          49,
          29,
          35,
          45,
          33,
          40,
          44,
          30,
          37,
          48,
          31,
          38,
          45,
          33,
          36,
          49,
          31,
          42,
          47,
          29,
          35,
          44,
          33,
          35,
          44,
          34,
          36,
          30,
          37,
          45,
          32,
          39,
          47,
          29,
          36,
          43,
          32,
          38,
          48,
          31,
          40,
          45,
          33,
          36,
          47,
          29,
          34,
          44,
          33,
          35,
          43,
          31,
          41,
          44,
          33,
          35,
          45,
          28,
          36,
          44,
          31,
          38,
          48,
          31,
          40,
          45,
          33,
          36,
          47,
          29,
          34,
          44,
          33,
          35,
          43,
          31,
          41,
          44,
          33,
          35,
          43,
          29,
          34,
          44
         ],
         "xaxis": "x",
         "yaxis": "y"
        },
        {
         "alignmentgroup": "True",
         "hovertemplate": "Age=%{x}<extra></extra>",
         "legendgroup": "",
         "marker": {
          "color": "#636efa"
         },
         "name": "",
         "notched": true,
         "offsetgroup": "",
         "showlegend": false,
         "type": "box",
         "x": [
          32,
          28,
          45,
          36,
          52,
          29,
          42,
          31,
          26,
          38,
          29,
          48,
          35,
          40,
          27,
          44,
          33,
          39,
          25,
          51,
          34,
          47,
          30,
          36,
          41,
          28,
          37,
          24,
          43,
          33,
          50,
          31,
          29,
          39,
          46,
          27,
          35,
          42,
          26,
          49,
          34,
          48,
          30,
          36,
          41,
          28,
          32,
          45,
          38,
          25,
          51,
          33,
          40,
          47,
          29,
          36,
          27,
          43,
          30,
          35,
          51,
          29,
          40,
          47,
          26,
          38,
          46,
          31,
          34,
          49,
          33,
          39,
          45,
          28,
          42,
          37,
          50,
          32,
          48,
          30,
          36,
          41,
          25,
          52,
          29,
          34,
          27,
          40,
          46,
          31,
          36,
          29,
          43,
          52,
          33,
          39,
          47,
          26,
          38,
          45,
          31,
          35,
          49,
          33,
          39,
          44,
          30,
          36,
          41,
          28,
          42,
          37,
          50,
          32,
          23,
          31,
          40,
          48,
          29,
          35,
          42,
          53,
          33,
          38,
          44,
          26,
          37,
          45,
          32,
          34,
          50,
          29,
          40,
          47,
          27,
          39,
          46,
          30,
          36,
          43,
          28,
          41,
          33,
          47,
          25,
          34,
          42,
          31,
          38,
          45,
          29,
          36,
          43,
          26,
          37,
          44,
          32,
          33,
          51,
          28,
          39,
          48,
          30,
          35,
          41,
          27,
          40,
          46,
          31,
          34,
          50,
          29,
          43,
          26,
          35,
          42,
          31,
          38,
          46,
          29,
          37,
          44,
          27,
          36,
          43,
          33,
          34,
          50,
          28,
          39,
          47,
          30,
          34,
          40,
          28,
          41,
          45,
          32,
          35,
          49,
          30,
          44,
          27,
          36,
          41,
          31,
          39,
          47,
          30,
          38,
          45,
          28,
          35,
          44,
          34,
          35,
          50,
          29,
          40,
          48,
          31,
          33,
          42,
          28,
          40,
          46,
          33,
          37,
          51,
          30,
          43,
          27,
          35,
          42,
          32,
          37,
          45,
          33,
          39,
          44,
          29,
          38,
          46,
          34,
          36,
          49,
          31,
          41,
          47,
          30,
          38,
          45,
          28,
          35,
          44,
          34,
          35,
          50,
          37,
          46,
          31,
          42,
          29,
          36,
          44,
          33,
          39,
          45,
          32,
          37,
          47,
          30,
          38,
          46,
          34,
          36,
          49,
          31,
          41,
          47,
          29,
          35,
          44,
          33,
          35,
          44,
          32,
          38,
          49,
          29,
          35,
          45,
          33,
          40,
          44,
          30,
          37,
          48,
          31,
          38,
          45,
          33,
          36,
          49,
          31,
          42,
          47,
          29,
          35,
          44,
          33,
          35,
          44,
          34,
          36,
          30,
          37,
          45,
          32,
          39,
          47,
          29,
          36,
          43,
          32,
          38,
          48,
          31,
          40,
          45,
          33,
          36,
          47,
          29,
          34,
          44,
          33,
          35,
          43,
          31,
          41,
          44,
          33,
          35,
          45,
          28,
          36,
          44,
          31,
          38,
          48,
          31,
          40,
          45,
          33,
          36,
          47,
          29,
          34,
          44,
          33,
          35,
          43,
          31,
          41,
          44,
          33,
          35,
          43,
          29,
          34,
          44
         ],
         "xaxis": "x2",
         "yaxis": "y2"
        }
       ],
       "layout": {
        "bargap": 0.1,
        "barmode": "relative",
        "legend": {
         "tracegroupgap": 0
        },
        "template": {
         "data": {
          "bar": [
           {
            "error_x": {
             "color": "#2a3f5f"
            },
            "error_y": {
             "color": "#2a3f5f"
            },
            "marker": {
             "line": {
              "color": "#E5ECF6",
              "width": 0.5
             },
             "pattern": {
              "fillmode": "overlay",
              "size": 10,
              "solidity": 0.2
             }
            },
            "type": "bar"
           }
          ],
          "barpolar": [
           {
            "marker": {
             "line": {
              "color": "#E5ECF6",
              "width": 0.5
             },
             "pattern": {
              "fillmode": "overlay",
              "size": 10,
              "solidity": 0.2
             }
            },
            "type": "barpolar"
           }
          ],
          "carpet": [
           {
            "aaxis": {
             "endlinecolor": "#2a3f5f",
             "gridcolor": "white",
             "linecolor": "white",
             "minorgridcolor": "white",
             "startlinecolor": "#2a3f5f"
            },
            "baxis": {
             "endlinecolor": "#2a3f5f",
             "gridcolor": "white",
             "linecolor": "white",
             "minorgridcolor": "white",
             "startlinecolor": "#2a3f5f"
            },
            "type": "carpet"
           }
          ],
          "choropleth": [
           {
            "colorbar": {
             "outlinewidth": 0,
             "ticks": ""
            },
            "type": "choropleth"
           }
          ],
          "contour": [
           {
            "colorbar": {
             "outlinewidth": 0,
             "ticks": ""
            },
            "colorscale": [
             [
              0,
              "#0d0887"
             ],
             [
              0.1111111111111111,
              "#46039f"
             ],
             [
              0.2222222222222222,
              "#7201a8"
             ],
             [
              0.3333333333333333,
              "#9c179e"
             ],
             [
              0.4444444444444444,
              "#bd3786"
             ],
             [
              0.5555555555555556,
              "#d8576b"
             ],
             [
              0.6666666666666666,
              "#ed7953"
             ],
             [
              0.7777777777777778,
              "#fb9f3a"
             ],
             [
              0.8888888888888888,
              "#fdca26"
             ],
             [
              1,
              "#f0f921"
             ]
            ],
            "type": "contour"
           }
          ],
          "contourcarpet": [
           {
            "colorbar": {
             "outlinewidth": 0,
             "ticks": ""
            },
            "type": "contourcarpet"
           }
          ],
          "heatmap": [
           {
            "colorbar": {
             "outlinewidth": 0,
             "ticks": ""
            },
            "colorscale": [
             [
              0,
              "#0d0887"
             ],
             [
              0.1111111111111111,
              "#46039f"
             ],
             [
              0.2222222222222222,
              "#7201a8"
             ],
             [
              0.3333333333333333,
              "#9c179e"
             ],
             [
              0.4444444444444444,
              "#bd3786"
             ],
             [
              0.5555555555555556,
              "#d8576b"
             ],
             [
              0.6666666666666666,
              "#ed7953"
             ],
             [
              0.7777777777777778,
              "#fb9f3a"
             ],
             [
              0.8888888888888888,
              "#fdca26"
             ],
             [
              1,
              "#f0f921"
             ]
            ],
            "type": "heatmap"
           }
          ],
          "heatmapgl": [
           {
            "colorbar": {
             "outlinewidth": 0,
             "ticks": ""
            },
            "colorscale": [
             [
              0,
              "#0d0887"
             ],
             [
              0.1111111111111111,
              "#46039f"
             ],
             [
              0.2222222222222222,
              "#7201a8"
             ],
             [
              0.3333333333333333,
              "#9c179e"
             ],
             [
              0.4444444444444444,
              "#bd3786"
             ],
             [
              0.5555555555555556,
              "#d8576b"
             ],
             [
              0.6666666666666666,
              "#ed7953"
             ],
             [
              0.7777777777777778,
              "#fb9f3a"
             ],
             [
              0.8888888888888888,
              "#fdca26"
             ],
             [
              1,
              "#f0f921"
             ]
            ],
            "type": "heatmapgl"
           }
          ],
          "histogram": [
           {
            "marker": {
             "pattern": {
              "fillmode": "overlay",
              "size": 10,
              "solidity": 0.2
             }
            },
            "type": "histogram"
           }
          ],
          "histogram2d": [
           {
            "colorbar": {
             "outlinewidth": 0,
             "ticks": ""
            },
            "colorscale": [
             [
              0,
              "#0d0887"
             ],
             [
              0.1111111111111111,
              "#46039f"
             ],
             [
              0.2222222222222222,
              "#7201a8"
             ],
             [
              0.3333333333333333,
              "#9c179e"
             ],
             [
              0.4444444444444444,
              "#bd3786"
             ],
             [
              0.5555555555555556,
              "#d8576b"
             ],
             [
              0.6666666666666666,
              "#ed7953"
             ],
             [
              0.7777777777777778,
              "#fb9f3a"
             ],
             [
              0.8888888888888888,
              "#fdca26"
             ],
             [
              1,
              "#f0f921"
             ]
            ],
            "type": "histogram2d"
           }
          ],
          "histogram2dcontour": [
           {
            "colorbar": {
             "outlinewidth": 0,
             "ticks": ""
            },
            "colorscale": [
             [
              0,
              "#0d0887"
             ],
             [
              0.1111111111111111,
              "#46039f"
             ],
             [
              0.2222222222222222,
              "#7201a8"
             ],
             [
              0.3333333333333333,
              "#9c179e"
             ],
             [
              0.4444444444444444,
              "#bd3786"
             ],
             [
              0.5555555555555556,
              "#d8576b"
             ],
             [
              0.6666666666666666,
              "#ed7953"
             ],
             [
              0.7777777777777778,
              "#fb9f3a"
             ],
             [
              0.8888888888888888,
              "#fdca26"
             ],
             [
              1,
              "#f0f921"
             ]
            ],
            "type": "histogram2dcontour"
           }
          ],
          "mesh3d": [
           {
            "colorbar": {
             "outlinewidth": 0,
             "ticks": ""
            },
            "type": "mesh3d"
           }
          ],
          "parcoords": [
           {
            "line": {
             "colorbar": {
              "outlinewidth": 0,
              "ticks": ""
             }
            },
            "type": "parcoords"
           }
          ],
          "pie": [
           {
            "automargin": true,
            "type": "pie"
           }
          ],
          "scatter": [
           {
            "fillpattern": {
             "fillmode": "overlay",
             "size": 10,
             "solidity": 0.2
            },
            "type": "scatter"
           }
          ],
          "scatter3d": [
           {
            "line": {
             "colorbar": {
              "outlinewidth": 0,
              "ticks": ""
             }
            },
            "marker": {
             "colorbar": {
              "outlinewidth": 0,
              "ticks": ""
             }
            },
            "type": "scatter3d"
           }
          ],
          "scattercarpet": [
           {
            "marker": {
             "colorbar": {
              "outlinewidth": 0,
              "ticks": ""
             }
            },
            "type": "scattercarpet"
           }
          ],
          "scattergeo": [
           {
            "marker": {
             "colorbar": {
              "outlinewidth": 0,
              "ticks": ""
             }
            },
            "type": "scattergeo"
           }
          ],
          "scattergl": [
           {
            "marker": {
             "colorbar": {
              "outlinewidth": 0,
              "ticks": ""
             }
            },
            "type": "scattergl"
           }
          ],
          "scattermapbox": [
           {
            "marker": {
             "colorbar": {
              "outlinewidth": 0,
              "ticks": ""
             }
            },
            "type": "scattermapbox"
           }
          ],
          "scatterpolar": [
           {
            "marker": {
             "colorbar": {
              "outlinewidth": 0,
              "ticks": ""
             }
            },
            "type": "scatterpolar"
           }
          ],
          "scatterpolargl": [
           {
            "marker": {
             "colorbar": {
              "outlinewidth": 0,
              "ticks": ""
             }
            },
            "type": "scatterpolargl"
           }
          ],
          "scatterternary": [
           {
            "marker": {
             "colorbar": {
              "outlinewidth": 0,
              "ticks": ""
             }
            },
            "type": "scatterternary"
           }
          ],
          "surface": [
           {
            "colorbar": {
             "outlinewidth": 0,
             "ticks": ""
            },
            "colorscale": [
             [
              0,
              "#0d0887"
             ],
             [
              0.1111111111111111,
              "#46039f"
             ],
             [
              0.2222222222222222,
              "#7201a8"
             ],
             [
              0.3333333333333333,
              "#9c179e"
             ],
             [
              0.4444444444444444,
              "#bd3786"
             ],
             [
              0.5555555555555556,
              "#d8576b"
             ],
             [
              0.6666666666666666,
              "#ed7953"
             ],
             [
              0.7777777777777778,
              "#fb9f3a"
             ],
             [
              0.8888888888888888,
              "#fdca26"
             ],
             [
              1,
              "#f0f921"
             ]
            ],
            "type": "surface"
           }
          ],
          "table": [
           {
            "cells": {
             "fill": {
              "color": "#EBF0F8"
             },
             "line": {
              "color": "white"
             }
            },
            "header": {
             "fill": {
              "color": "#C8D4E3"
             },
             "line": {
              "color": "white"
             }
            },
            "type": "table"
           }
          ]
         },
         "layout": {
          "annotationdefaults": {
           "arrowcolor": "#2a3f5f",
           "arrowhead": 0,
           "arrowwidth": 1
          },
          "autotypenumbers": "strict",
          "coloraxis": {
           "colorbar": {
            "outlinewidth": 0,
            "ticks": ""
           }
          },
          "colorscale": {
           "diverging": [
            [
             0,
             "#8e0152"
            ],
            [
             0.1,
             "#c51b7d"
            ],
            [
             0.2,
             "#de77ae"
            ],
            [
             0.3,
             "#f1b6da"
            ],
            [
             0.4,
             "#fde0ef"
            ],
            [
             0.5,
             "#f7f7f7"
            ],
            [
             0.6,
             "#e6f5d0"
            ],
            [
             0.7,
             "#b8e186"
            ],
            [
             0.8,
             "#7fbc41"
            ],
            [
             0.9,
             "#4d9221"
            ],
            [
             1,
             "#276419"
            ]
           ],
           "sequential": [
            [
             0,
             "#0d0887"
            ],
            [
             0.1111111111111111,
             "#46039f"
            ],
            [
             0.2222222222222222,
             "#7201a8"
            ],
            [
             0.3333333333333333,
             "#9c179e"
            ],
            [
             0.4444444444444444,
             "#bd3786"
            ],
            [
             0.5555555555555556,
             "#d8576b"
            ],
            [
             0.6666666666666666,
             "#ed7953"
            ],
            [
             0.7777777777777778,
             "#fb9f3a"
            ],
            [
             0.8888888888888888,
             "#fdca26"
            ],
            [
             1,
             "#f0f921"
            ]
           ],
           "sequentialminus": [
            [
             0,
             "#0d0887"
            ],
            [
             0.1111111111111111,
             "#46039f"
            ],
            [
             0.2222222222222222,
             "#7201a8"
            ],
            [
             0.3333333333333333,
             "#9c179e"
            ],
            [
             0.4444444444444444,
             "#bd3786"
            ],
            [
             0.5555555555555556,
             "#d8576b"
            ],
            [
             0.6666666666666666,
             "#ed7953"
            ],
            [
             0.7777777777777778,
             "#fb9f3a"
            ],
            [
             0.8888888888888888,
             "#fdca26"
            ],
            [
             1,
             "#f0f921"
            ]
           ]
          },
          "colorway": [
           "#636efa",
           "#EF553B",
           "#00cc96",
           "#ab63fa",
           "#FFA15A",
           "#19d3f3",
           "#FF6692",
           "#B6E880",
           "#FF97FF",
           "#FECB52"
          ],
          "font": {
           "color": "#2a3f5f"
          },
          "geo": {
           "bgcolor": "white",
           "lakecolor": "white",
           "landcolor": "#E5ECF6",
           "showlakes": true,
           "showland": true,
           "subunitcolor": "white"
          },
          "hoverlabel": {
           "align": "left"
          },
          "hovermode": "closest",
          "mapbox": {
           "style": "light"
          },
          "paper_bgcolor": "white",
          "plot_bgcolor": "#E5ECF6",
          "polar": {
           "angularaxis": {
            "gridcolor": "white",
            "linecolor": "white",
            "ticks": ""
           },
           "bgcolor": "#E5ECF6",
           "radialaxis": {
            "gridcolor": "white",
            "linecolor": "white",
            "ticks": ""
           }
          },
          "scene": {
           "xaxis": {
            "backgroundcolor": "#E5ECF6",
            "gridcolor": "white",
            "gridwidth": 2,
            "linecolor": "white",
            "showbackground": true,
            "ticks": "",
            "zerolinecolor": "white"
           },
           "yaxis": {
            "backgroundcolor": "#E5ECF6",
            "gridcolor": "white",
            "gridwidth": 2,
            "linecolor": "white",
            "showbackground": true,
            "ticks": "",
            "zerolinecolor": "white"
           },
           "zaxis": {
            "backgroundcolor": "#E5ECF6",
            "gridcolor": "white",
            "gridwidth": 2,
            "linecolor": "white",
            "showbackground": true,
            "ticks": "",
            "zerolinecolor": "white"
           }
          },
          "shapedefaults": {
           "line": {
            "color": "#2a3f5f"
           }
          },
          "ternary": {
           "aaxis": {
            "gridcolor": "white",
            "linecolor": "white",
            "ticks": ""
           },
           "baxis": {
            "gridcolor": "white",
            "linecolor": "white",
            "ticks": ""
           },
           "bgcolor": "#E5ECF6",
           "caxis": {
            "gridcolor": "white",
            "linecolor": "white",
            "ticks": ""
           }
          },
          "title": {
           "x": 0.05
          },
          "xaxis": {
           "automargin": true,
           "gridcolor": "white",
           "linecolor": "white",
           "ticks": "",
           "title": {
            "standoff": 15
           },
           "zerolinecolor": "white",
           "zerolinewidth": 2
          },
          "yaxis": {
           "automargin": true,
           "gridcolor": "white",
           "linecolor": "white",
           "ticks": "",
           "title": {
            "standoff": 15
           },
           "zerolinecolor": "white",
           "zerolinewidth": 2
          }
         }
        },
        "title": {
         "text": "Age Distribution"
        },
        "xaxis": {
         "anchor": "y",
         "domain": [
          0,
          1
         ],
         "title": {
          "text": "Age"
         }
        },
        "xaxis2": {
         "anchor": "y2",
         "domain": [
          0,
          1
         ],
         "matches": "x",
         "showgrid": true,
         "showticklabels": false
        },
        "yaxis": {
         "anchor": "x",
         "domain": [
          0,
          0.8316
         ],
         "title": {
          "text": "count"
         }
        },
        "yaxis2": {
         "anchor": "x2",
         "domain": [
          0.8416,
          1
         ],
         "matches": "y2",
         "showgrid": false,
         "showline": false,
         "showticklabels": false,
         "ticks": ""
        }
       }
      }
     },
     "metadata": {},
     "output_type": "display_data"
    }
   ],
   "source": [
    "fig = px.histogram(data, \n",
    "                   x='Age', \n",
    "                   marginal='box', \n",
    "                   nbins=30, \n",
    "                   title='Age Distribution')\n",
    "fig.update_layout(bargap=0.1)\n",
    "fig.show()"
   ]
  },
  {
   "cell_type": "markdown",
   "metadata": {},
   "source": [
    "The age distribution in the dataset is mostly uniform except for the edges of the dataset, which could be because the company wants more experience (thereby hiring less young people) or because the older employees are retiring (which is why there are less old people). "
   ]
  },
  {
   "cell_type": "markdown",
   "metadata": {},
   "source": [
    "### Gender\n",
    "\n",
    "Let's now visualize the distribution of gender, a categorical column, using a histogram."
   ]
  },
  {
   "cell_type": "code",
   "execution_count": 13,
   "metadata": {},
   "outputs": [
    {
     "data": {
      "text/plain": [
       "Gender\n",
       "Male      193\n",
       "Female    179\n",
       "Name: count, dtype: int64"
      ]
     },
     "execution_count": 13,
     "metadata": {},
     "output_type": "execute_result"
    }
   ],
   "source": [
    "data.Gender.value_counts()"
   ]
  },
  {
   "cell_type": "code",
   "execution_count": 14,
   "metadata": {},
   "outputs": [
    {
     "data": {
      "application/vnd.plotly.v1+json": {
       "config": {
        "plotlyServerURL": "https://plot.ly"
       },
       "data": [
        {
         "alignmentgroup": "True",
         "bingroup": "x",
         "hovertemplate": "Gender=%{x}<br>count=%{y}<extra></extra>",
         "legendgroup": "",
         "marker": {
          "color": "purple",
          "pattern": {
           "shape": ""
          }
         },
         "name": "",
         "offsetgroup": "",
         "orientation": "v",
         "showlegend": false,
         "type": "histogram",
         "x": [
          "Male",
          "Female",
          "Male",
          "Female",
          "Male",
          "Male",
          "Female",
          "Male",
          "Female",
          "Male",
          "Male",
          "Female",
          "Male",
          "Female",
          "Male",
          "Male",
          "Female",
          "Male",
          "Female",
          "Male",
          "Female",
          "Male",
          "Male",
          "Female",
          "Male",
          "Female",
          "Female",
          "Male",
          "Female",
          "Male",
          "Male",
          "Female",
          "Male",
          "Female",
          "Male",
          "Male",
          "Female",
          "Male",
          "Female",
          "Male",
          "Female",
          "Male",
          "Male",
          "Female",
          "Male",
          "Female",
          "Male",
          "Female",
          "Male",
          "Male",
          "Female",
          "Male",
          "Female",
          "Male",
          "Female",
          "Male",
          "Female",
          "Male",
          "Female",
          "Male",
          "Female",
          "Male",
          "Female",
          "Male",
          "Male",
          "Female",
          "Male",
          "Female",
          "Male",
          "Female",
          "Male",
          "Female",
          "Male",
          "Male",
          "Female",
          "Male",
          "Female",
          "Male",
          "Female",
          "Female",
          "Male",
          "Female",
          "Male",
          "Male",
          "Female",
          "Female",
          "Male",
          "Female",
          "Male",
          "Female",
          "Male",
          "Female",
          "Male",
          "Female",
          "Male",
          "Female",
          "Male",
          "Male",
          "Female",
          "Male",
          "Female",
          "Male",
          "Female",
          "Male",
          "Female",
          "Male",
          "Female",
          "Male",
          "Female",
          "Male",
          "Female",
          "Male",
          "Female",
          "Male",
          "Female",
          "Male",
          "Female",
          "Male",
          "Female",
          "Male",
          "Female",
          "Male",
          "Female",
          "Male",
          "Female",
          "Male",
          "Female",
          "Male",
          "Female",
          "Male",
          "Female",
          "Male",
          "Female",
          "Male",
          "Male",
          "Female",
          "Male",
          "Female",
          "Male",
          "Female",
          "Male",
          "Female",
          "Male",
          "Male",
          "Female",
          "Male",
          "Female",
          "Male",
          "Female",
          "Male",
          "Female",
          "Male",
          "Female",
          "Male",
          "Female",
          "Male",
          "Female",
          "Male",
          "Female",
          "Male",
          "Female",
          "Male",
          "Female",
          "Male",
          "Female",
          "Male",
          "Female",
          "Male",
          "Female",
          "Male",
          "Female",
          "Male",
          "Male",
          "Female",
          "Male",
          "Female",
          "Male",
          "Female",
          "Male",
          "Female",
          "Male",
          "Female",
          "Male",
          "Female",
          "Male",
          "Female",
          "Male",
          "Female",
          "Male",
          "Female",
          "Male",
          "Female",
          "Male",
          "Female",
          "Male",
          "Female",
          "Male",
          "Female",
          "Male",
          "Female",
          "Male",
          "Male",
          "Female",
          "Male",
          "Female",
          "Male",
          "Female",
          "Male",
          "Female",
          "Male",
          "Female",
          "Male",
          "Female",
          "Male",
          "Female",
          "Male",
          "Female",
          "Male",
          "Female",
          "Male",
          "Female",
          "Male",
          "Female",
          "Male",
          "Female",
          "Male",
          "Female",
          "Male",
          "Female",
          "Male",
          "Male",
          "Female",
          "Male",
          "Female",
          "Male",
          "Female",
          "Male",
          "Female",
          "Male",
          "Female",
          "Male",
          "Female",
          "Male",
          "Female",
          "Male",
          "Female",
          "Male",
          "Female",
          "Male",
          "Female",
          "Male",
          "Female",
          "Male",
          "Female",
          "Male",
          "Female",
          "Male",
          "Female",
          "Female",
          "Male",
          "Female",
          "Male",
          "Female",
          "Male",
          "Female",
          "Male",
          "Female",
          "Male",
          "Female",
          "Male",
          "Female",
          "Male",
          "Female",
          "Male",
          "Female",
          "Male",
          "Female",
          "Male",
          "Female",
          "Male",
          "Female",
          "Male",
          "Female",
          "Male",
          "Female",
          "Male",
          "Male",
          "Female",
          "Male",
          "Female",
          "Male",
          "Female",
          "Male",
          "Female",
          "Male",
          "Female",
          "Male",
          "Female",
          "Male",
          "Female",
          "Male",
          "Female",
          "Male",
          "Female",
          "Male",
          "Female",
          "Male",
          "Female",
          "Male",
          "Female",
          "Male",
          "Female",
          "Male",
          "Female",
          "Male",
          "Female",
          "Male",
          "Female",
          "Male",
          "Female",
          "Male",
          "Female",
          "Male",
          "Female",
          "Male",
          "Female",
          "Male",
          "Female",
          "Male",
          "Female",
          "Male",
          "Female",
          "Male",
          "Female",
          "Male",
          "Female",
          "Male",
          "Female",
          "Male",
          "Female",
          "Male",
          "Female",
          "Male",
          "Female",
          "Male",
          "Female",
          "Male",
          "Female",
          "Male",
          "Female",
          "Male",
          "Female",
          "Male",
          "Female",
          "Male",
          "Female",
          "Male",
          "Female",
          "Male",
          "Female",
          "Male",
          "Female",
          "Male",
          "Female",
          "Male",
          "Female",
          "Male",
          "Female",
          "Male",
          "Female",
          "Male",
          "Female"
         ],
         "xaxis": "x",
         "yaxis": "y"
        }
       ],
       "layout": {
        "barmode": "relative",
        "legend": {
         "tracegroupgap": 0
        },
        "template": {
         "data": {
          "bar": [
           {
            "error_x": {
             "color": "#2a3f5f"
            },
            "error_y": {
             "color": "#2a3f5f"
            },
            "marker": {
             "line": {
              "color": "#E5ECF6",
              "width": 0.5
             },
             "pattern": {
              "fillmode": "overlay",
              "size": 10,
              "solidity": 0.2
             }
            },
            "type": "bar"
           }
          ],
          "barpolar": [
           {
            "marker": {
             "line": {
              "color": "#E5ECF6",
              "width": 0.5
             },
             "pattern": {
              "fillmode": "overlay",
              "size": 10,
              "solidity": 0.2
             }
            },
            "type": "barpolar"
           }
          ],
          "carpet": [
           {
            "aaxis": {
             "endlinecolor": "#2a3f5f",
             "gridcolor": "white",
             "linecolor": "white",
             "minorgridcolor": "white",
             "startlinecolor": "#2a3f5f"
            },
            "baxis": {
             "endlinecolor": "#2a3f5f",
             "gridcolor": "white",
             "linecolor": "white",
             "minorgridcolor": "white",
             "startlinecolor": "#2a3f5f"
            },
            "type": "carpet"
           }
          ],
          "choropleth": [
           {
            "colorbar": {
             "outlinewidth": 0,
             "ticks": ""
            },
            "type": "choropleth"
           }
          ],
          "contour": [
           {
            "colorbar": {
             "outlinewidth": 0,
             "ticks": ""
            },
            "colorscale": [
             [
              0,
              "#0d0887"
             ],
             [
              0.1111111111111111,
              "#46039f"
             ],
             [
              0.2222222222222222,
              "#7201a8"
             ],
             [
              0.3333333333333333,
              "#9c179e"
             ],
             [
              0.4444444444444444,
              "#bd3786"
             ],
             [
              0.5555555555555556,
              "#d8576b"
             ],
             [
              0.6666666666666666,
              "#ed7953"
             ],
             [
              0.7777777777777778,
              "#fb9f3a"
             ],
             [
              0.8888888888888888,
              "#fdca26"
             ],
             [
              1,
              "#f0f921"
             ]
            ],
            "type": "contour"
           }
          ],
          "contourcarpet": [
           {
            "colorbar": {
             "outlinewidth": 0,
             "ticks": ""
            },
            "type": "contourcarpet"
           }
          ],
          "heatmap": [
           {
            "colorbar": {
             "outlinewidth": 0,
             "ticks": ""
            },
            "colorscale": [
             [
              0,
              "#0d0887"
             ],
             [
              0.1111111111111111,
              "#46039f"
             ],
             [
              0.2222222222222222,
              "#7201a8"
             ],
             [
              0.3333333333333333,
              "#9c179e"
             ],
             [
              0.4444444444444444,
              "#bd3786"
             ],
             [
              0.5555555555555556,
              "#d8576b"
             ],
             [
              0.6666666666666666,
              "#ed7953"
             ],
             [
              0.7777777777777778,
              "#fb9f3a"
             ],
             [
              0.8888888888888888,
              "#fdca26"
             ],
             [
              1,
              "#f0f921"
             ]
            ],
            "type": "heatmap"
           }
          ],
          "heatmapgl": [
           {
            "colorbar": {
             "outlinewidth": 0,
             "ticks": ""
            },
            "colorscale": [
             [
              0,
              "#0d0887"
             ],
             [
              0.1111111111111111,
              "#46039f"
             ],
             [
              0.2222222222222222,
              "#7201a8"
             ],
             [
              0.3333333333333333,
              "#9c179e"
             ],
             [
              0.4444444444444444,
              "#bd3786"
             ],
             [
              0.5555555555555556,
              "#d8576b"
             ],
             [
              0.6666666666666666,
              "#ed7953"
             ],
             [
              0.7777777777777778,
              "#fb9f3a"
             ],
             [
              0.8888888888888888,
              "#fdca26"
             ],
             [
              1,
              "#f0f921"
             ]
            ],
            "type": "heatmapgl"
           }
          ],
          "histogram": [
           {
            "marker": {
             "pattern": {
              "fillmode": "overlay",
              "size": 10,
              "solidity": 0.2
             }
            },
            "type": "histogram"
           }
          ],
          "histogram2d": [
           {
            "colorbar": {
             "outlinewidth": 0,
             "ticks": ""
            },
            "colorscale": [
             [
              0,
              "#0d0887"
             ],
             [
              0.1111111111111111,
              "#46039f"
             ],
             [
              0.2222222222222222,
              "#7201a8"
             ],
             [
              0.3333333333333333,
              "#9c179e"
             ],
             [
              0.4444444444444444,
              "#bd3786"
             ],
             [
              0.5555555555555556,
              "#d8576b"
             ],
             [
              0.6666666666666666,
              "#ed7953"
             ],
             [
              0.7777777777777778,
              "#fb9f3a"
             ],
             [
              0.8888888888888888,
              "#fdca26"
             ],
             [
              1,
              "#f0f921"
             ]
            ],
            "type": "histogram2d"
           }
          ],
          "histogram2dcontour": [
           {
            "colorbar": {
             "outlinewidth": 0,
             "ticks": ""
            },
            "colorscale": [
             [
              0,
              "#0d0887"
             ],
             [
              0.1111111111111111,
              "#46039f"
             ],
             [
              0.2222222222222222,
              "#7201a8"
             ],
             [
              0.3333333333333333,
              "#9c179e"
             ],
             [
              0.4444444444444444,
              "#bd3786"
             ],
             [
              0.5555555555555556,
              "#d8576b"
             ],
             [
              0.6666666666666666,
              "#ed7953"
             ],
             [
              0.7777777777777778,
              "#fb9f3a"
             ],
             [
              0.8888888888888888,
              "#fdca26"
             ],
             [
              1,
              "#f0f921"
             ]
            ],
            "type": "histogram2dcontour"
           }
          ],
          "mesh3d": [
           {
            "colorbar": {
             "outlinewidth": 0,
             "ticks": ""
            },
            "type": "mesh3d"
           }
          ],
          "parcoords": [
           {
            "line": {
             "colorbar": {
              "outlinewidth": 0,
              "ticks": ""
             }
            },
            "type": "parcoords"
           }
          ],
          "pie": [
           {
            "automargin": true,
            "type": "pie"
           }
          ],
          "scatter": [
           {
            "fillpattern": {
             "fillmode": "overlay",
             "size": 10,
             "solidity": 0.2
            },
            "type": "scatter"
           }
          ],
          "scatter3d": [
           {
            "line": {
             "colorbar": {
              "outlinewidth": 0,
              "ticks": ""
             }
            },
            "marker": {
             "colorbar": {
              "outlinewidth": 0,
              "ticks": ""
             }
            },
            "type": "scatter3d"
           }
          ],
          "scattercarpet": [
           {
            "marker": {
             "colorbar": {
              "outlinewidth": 0,
              "ticks": ""
             }
            },
            "type": "scattercarpet"
           }
          ],
          "scattergeo": [
           {
            "marker": {
             "colorbar": {
              "outlinewidth": 0,
              "ticks": ""
             }
            },
            "type": "scattergeo"
           }
          ],
          "scattergl": [
           {
            "marker": {
             "colorbar": {
              "outlinewidth": 0,
              "ticks": ""
             }
            },
            "type": "scattergl"
           }
          ],
          "scattermapbox": [
           {
            "marker": {
             "colorbar": {
              "outlinewidth": 0,
              "ticks": ""
             }
            },
            "type": "scattermapbox"
           }
          ],
          "scatterpolar": [
           {
            "marker": {
             "colorbar": {
              "outlinewidth": 0,
              "ticks": ""
             }
            },
            "type": "scatterpolar"
           }
          ],
          "scatterpolargl": [
           {
            "marker": {
             "colorbar": {
              "outlinewidth": 0,
              "ticks": ""
             }
            },
            "type": "scatterpolargl"
           }
          ],
          "scatterternary": [
           {
            "marker": {
             "colorbar": {
              "outlinewidth": 0,
              "ticks": ""
             }
            },
            "type": "scatterternary"
           }
          ],
          "surface": [
           {
            "colorbar": {
             "outlinewidth": 0,
             "ticks": ""
            },
            "colorscale": [
             [
              0,
              "#0d0887"
             ],
             [
              0.1111111111111111,
              "#46039f"
             ],
             [
              0.2222222222222222,
              "#7201a8"
             ],
             [
              0.3333333333333333,
              "#9c179e"
             ],
             [
              0.4444444444444444,
              "#bd3786"
             ],
             [
              0.5555555555555556,
              "#d8576b"
             ],
             [
              0.6666666666666666,
              "#ed7953"
             ],
             [
              0.7777777777777778,
              "#fb9f3a"
             ],
             [
              0.8888888888888888,
              "#fdca26"
             ],
             [
              1,
              "#f0f921"
             ]
            ],
            "type": "surface"
           }
          ],
          "table": [
           {
            "cells": {
             "fill": {
              "color": "#EBF0F8"
             },
             "line": {
              "color": "white"
             }
            },
            "header": {
             "fill": {
              "color": "#C8D4E3"
             },
             "line": {
              "color": "white"
             }
            },
            "type": "table"
           }
          ]
         },
         "layout": {
          "annotationdefaults": {
           "arrowcolor": "#2a3f5f",
           "arrowhead": 0,
           "arrowwidth": 1
          },
          "autotypenumbers": "strict",
          "coloraxis": {
           "colorbar": {
            "outlinewidth": 0,
            "ticks": ""
           }
          },
          "colorscale": {
           "diverging": [
            [
             0,
             "#8e0152"
            ],
            [
             0.1,
             "#c51b7d"
            ],
            [
             0.2,
             "#de77ae"
            ],
            [
             0.3,
             "#f1b6da"
            ],
            [
             0.4,
             "#fde0ef"
            ],
            [
             0.5,
             "#f7f7f7"
            ],
            [
             0.6,
             "#e6f5d0"
            ],
            [
             0.7,
             "#b8e186"
            ],
            [
             0.8,
             "#7fbc41"
            ],
            [
             0.9,
             "#4d9221"
            ],
            [
             1,
             "#276419"
            ]
           ],
           "sequential": [
            [
             0,
             "#0d0887"
            ],
            [
             0.1111111111111111,
             "#46039f"
            ],
            [
             0.2222222222222222,
             "#7201a8"
            ],
            [
             0.3333333333333333,
             "#9c179e"
            ],
            [
             0.4444444444444444,
             "#bd3786"
            ],
            [
             0.5555555555555556,
             "#d8576b"
            ],
            [
             0.6666666666666666,
             "#ed7953"
            ],
            [
             0.7777777777777778,
             "#fb9f3a"
            ],
            [
             0.8888888888888888,
             "#fdca26"
            ],
            [
             1,
             "#f0f921"
            ]
           ],
           "sequentialminus": [
            [
             0,
             "#0d0887"
            ],
            [
             0.1111111111111111,
             "#46039f"
            ],
            [
             0.2222222222222222,
             "#7201a8"
            ],
            [
             0.3333333333333333,
             "#9c179e"
            ],
            [
             0.4444444444444444,
             "#bd3786"
            ],
            [
             0.5555555555555556,
             "#d8576b"
            ],
            [
             0.6666666666666666,
             "#ed7953"
            ],
            [
             0.7777777777777778,
             "#fb9f3a"
            ],
            [
             0.8888888888888888,
             "#fdca26"
            ],
            [
             1,
             "#f0f921"
            ]
           ]
          },
          "colorway": [
           "#636efa",
           "#EF553B",
           "#00cc96",
           "#ab63fa",
           "#FFA15A",
           "#19d3f3",
           "#FF6692",
           "#B6E880",
           "#FF97FF",
           "#FECB52"
          ],
          "font": {
           "color": "#2a3f5f"
          },
          "geo": {
           "bgcolor": "white",
           "lakecolor": "white",
           "landcolor": "#E5ECF6",
           "showlakes": true,
           "showland": true,
           "subunitcolor": "white"
          },
          "hoverlabel": {
           "align": "left"
          },
          "hovermode": "closest",
          "mapbox": {
           "style": "light"
          },
          "paper_bgcolor": "white",
          "plot_bgcolor": "#E5ECF6",
          "polar": {
           "angularaxis": {
            "gridcolor": "white",
            "linecolor": "white",
            "ticks": ""
           },
           "bgcolor": "#E5ECF6",
           "radialaxis": {
            "gridcolor": "white",
            "linecolor": "white",
            "ticks": ""
           }
          },
          "scene": {
           "xaxis": {
            "backgroundcolor": "#E5ECF6",
            "gridcolor": "white",
            "gridwidth": 2,
            "linecolor": "white",
            "showbackground": true,
            "ticks": "",
            "zerolinecolor": "white"
           },
           "yaxis": {
            "backgroundcolor": "#E5ECF6",
            "gridcolor": "white",
            "gridwidth": 2,
            "linecolor": "white",
            "showbackground": true,
            "ticks": "",
            "zerolinecolor": "white"
           },
           "zaxis": {
            "backgroundcolor": "#E5ECF6",
            "gridcolor": "white",
            "gridwidth": 2,
            "linecolor": "white",
            "showbackground": true,
            "ticks": "",
            "zerolinecolor": "white"
           }
          },
          "shapedefaults": {
           "line": {
            "color": "#2a3f5f"
           }
          },
          "ternary": {
           "aaxis": {
            "gridcolor": "white",
            "linecolor": "white",
            "ticks": ""
           },
           "baxis": {
            "gridcolor": "white",
            "linecolor": "white",
            "ticks": ""
           },
           "bgcolor": "#E5ECF6",
           "caxis": {
            "gridcolor": "white",
            "linecolor": "white",
            "ticks": ""
           }
          },
          "title": {
           "x": 0.05
          },
          "xaxis": {
           "automargin": true,
           "gridcolor": "white",
           "linecolor": "white",
           "ticks": "",
           "title": {
            "standoff": 15
           },
           "zerolinecolor": "white",
           "zerolinewidth": 2
          },
          "yaxis": {
           "automargin": true,
           "gridcolor": "white",
           "linecolor": "white",
           "ticks": "",
           "title": {
            "standoff": 15
           },
           "zerolinecolor": "white",
           "zerolinewidth": 2
          }
         }
        },
        "title": {
         "text": "Gender Distribution"
        },
        "xaxis": {
         "anchor": "y",
         "domain": [
          0,
          1
         ],
         "title": {
          "text": "Gender"
         }
        },
        "yaxis": {
         "anchor": "x",
         "domain": [
          0,
          1
         ],
         "title": {
          "text": "count"
         }
        }
       }
      }
     },
     "metadata": {},
     "output_type": "display_data"
    }
   ],
   "source": [
    "px.histogram(data, \n",
    "             x='Gender', \n",
    "             title='Gender Distribution', \n",
    "             color_discrete_sequence=['purple'])"
   ]
  },
  {
   "cell_type": "markdown",
   "metadata": {},
   "source": [
    "Based on this distribution, there is about an equal numbers of males and females working at this company based on the dataset. This is different from the US national average in that males are usually the majority of software engineers/data scientists; however, there are more positions than just those two in the dataset, which may have led to the distribution shown. "
   ]
  },
  {
   "cell_type": "markdown",
   "metadata": {},
   "source": [
    "### Education Level\n",
    "\n",
    "Let's now visualize education level, another categorical column, using a histogram."
   ]
  },
  {
   "cell_type": "code",
   "execution_count": 15,
   "metadata": {},
   "outputs": [
    {
     "data": {
      "text/plain": [
       "Education Level\n",
       "Bachelor's    223\n",
       "Master's       98\n",
       "PhD            51\n",
       "Name: count, dtype: int64"
      ]
     },
     "execution_count": 15,
     "metadata": {},
     "output_type": "execute_result"
    }
   ],
   "source": [
    "data['Education Level'].value_counts()"
   ]
  },
  {
   "cell_type": "code",
   "execution_count": 16,
   "metadata": {},
   "outputs": [
    {
     "data": {
      "application/vnd.plotly.v1+json": {
       "config": {
        "plotlyServerURL": "https://plot.ly"
       },
       "data": [
        {
         "alignmentgroup": "True",
         "bingroup": "x",
         "hovertemplate": "Education Level=%{x}<br>count=%{y}<extra></extra>",
         "legendgroup": "",
         "marker": {
          "color": "yellowgreen",
          "pattern": {
           "shape": ""
          }
         },
         "name": "",
         "offsetgroup": "",
         "orientation": "v",
         "showlegend": false,
         "type": "histogram",
         "x": [
          "Bachelor's",
          "Master's",
          "PhD",
          "Bachelor's",
          "Master's",
          "Bachelor's",
          "Master's",
          "Bachelor's",
          "Bachelor's",
          "PhD",
          "Master's",
          "Bachelor's",
          "Bachelor's",
          "Master's",
          "Bachelor's",
          "Bachelor's",
          "Master's",
          "PhD",
          "Bachelor's",
          "Bachelor's",
          "Master's",
          "Master's",
          "Bachelor's",
          "Bachelor's",
          "Master's",
          "Bachelor's",
          "Master's",
          "Bachelor's",
          "PhD",
          "Master's",
          "Bachelor's",
          "Bachelor's",
          "Master's",
          "Bachelor's",
          "PhD",
          "Bachelor's",
          "Bachelor's",
          "Master's",
          "Bachelor's",
          "Bachelor's",
          "Master's",
          "Master's",
          "Bachelor's",
          "Bachelor's",
          "Master's",
          "Bachelor's",
          "Bachelor's",
          "Master's",
          "PhD",
          "Bachelor's",
          "Bachelor's",
          "Master's",
          "Bachelor's",
          "Master's",
          "Bachelor's",
          "Bachelor's",
          "Master's",
          "PhD",
          "Bachelor's",
          "Master's",
          "Master's",
          "Bachelor's",
          "Bachelor's",
          "PhD",
          "Bachelor's",
          "Master's",
          "Bachelor's",
          "Bachelor's",
          "Master's",
          "Master's",
          "Bachelor's",
          "Bachelor's",
          "PhD",
          "Bachelor's",
          "Master's",
          "Bachelor's",
          "Bachelor's",
          "Master's",
          "Master's",
          "Bachelor's",
          "Bachelor's",
          "Master's",
          "Bachelor's",
          "PhD",
          "Bachelor's",
          "Master's",
          "Bachelor's",
          "Bachelor's",
          "Master's",
          "Bachelor's",
          "PhD",
          "Bachelor's",
          "Bachelor's",
          "Master's",
          "Bachelor's",
          "Bachelor's",
          "PhD",
          "Bachelor's",
          "Master's",
          "Bachelor's",
          "Bachelor's",
          "Master's",
          "Master's",
          "Bachelor's",
          "Master's",
          "PhD",
          "Bachelor's",
          "Bachelor's",
          "Master's",
          "Bachelor's",
          "Master's",
          "Bachelor's",
          "Bachelor's",
          "Master's",
          "Bachelor's",
          "Master's",
          "Bachelor's",
          "PhD",
          "Bachelor's",
          "Master's",
          "Bachelor's",
          "Master's",
          "Bachelor's",
          "Bachelor's",
          "PhD",
          "Bachelor's",
          "Master's",
          "Bachelor's",
          "Bachelor's",
          "Master's",
          "Master's",
          "Bachelor's",
          "Master's",
          "PhD",
          "Bachelor's",
          "Bachelor's",
          "Master's",
          "Bachelor's",
          "Bachelor's",
          "Master's",
          "Bachelor's",
          "Master's",
          "Bachelor's",
          "Bachelor's",
          "Master's",
          "Bachelor's",
          "PhD",
          "Bachelor's",
          "Bachelor's",
          "Master's",
          "Bachelor's",
          "Master's",
          "PhD",
          "Bachelor's",
          "Master's",
          "Bachelor's",
          "Bachelor's",
          "Master's",
          "PhD",
          "Bachelor's",
          "Bachelor's",
          "Master's",
          "Bachelor's",
          "Bachelor's",
          "Master's",
          "Bachelor's",
          "Bachelor's",
          "PhD",
          "Bachelor's",
          "Master's",
          "Master's",
          "Bachelor's",
          "Bachelor's",
          "Master's",
          "Bachelor's",
          "PhD",
          "Bachelor's",
          "Bachelor's",
          "Master's",
          "Bachelor's",
          "Master's",
          "PhD",
          "Bachelor's",
          "Bachelor's",
          "Bachelor's",
          "Master's",
          "Bachelor's",
          "PhD",
          "Bachelor's",
          "Bachelor's",
          "Master's",
          "Bachelor's",
          "Bachelor's",
          "Master's",
          "Bachelor's",
          "Bachelor's",
          "PhD",
          "Bachelor's",
          "Master's",
          "Master's",
          "Bachelor's",
          "Bachelor's",
          "Master's",
          "Bachelor's",
          "PhD",
          "Bachelor's",
          "Bachelor's",
          "Master's",
          "Bachelor's",
          "Master's",
          "PhD",
          "Bachelor's",
          "Bachelor's",
          "Bachelor's",
          "Master's",
          "Bachelor's",
          "PhD",
          "Bachelor's",
          "Bachelor's",
          "Master's",
          "Bachelor's",
          "Bachelor's",
          "Master's",
          "Bachelor's",
          "Bachelor's",
          "PhD",
          "Bachelor's",
          "Master's",
          "Master's",
          "Bachelor's",
          "Bachelor's",
          "Master's",
          "Bachelor's",
          "PhD",
          "Bachelor's",
          "Bachelor's",
          "Master's",
          "Bachelor's",
          "Bachelor's",
          "PhD",
          "Bachelor's",
          "Bachelor's",
          "PhD",
          "Bachelor's",
          "Bachelor's",
          "Master's",
          "Bachelor's",
          "Bachelor's",
          "Master's",
          "Bachelor's",
          "Master's",
          "PhD",
          "Bachelor's",
          "Bachelor's",
          "Bachelor's",
          "Master's",
          "Bachelor's",
          "PhD",
          "Bachelor's",
          "PhD",
          "Bachelor's",
          "Bachelor's",
          "Bachelor's",
          "Bachelor's",
          "Master's",
          "Bachelor's",
          "Bachelor's",
          "PhD",
          "Bachelor's",
          "Bachelor's",
          "Master's",
          "Bachelor's",
          "Bachelor's",
          "PhD",
          "Bachelor's",
          "Bachelor's",
          "Master's",
          "Bachelor's",
          "Bachelor's",
          "Master's",
          "Bachelor's",
          "Bachelor's",
          "PhD",
          "Bachelor's",
          "Bachelor's",
          "Bachelor's",
          "Bachelor's",
          "Bachelor's",
          "PhD",
          "Bachelor's",
          "Bachelor's",
          "Master's",
          "Bachelor's",
          "Bachelor's",
          "PhD",
          "Bachelor's",
          "Bachelor's",
          "Master's",
          "Bachelor's",
          "Bachelor's",
          "PhD",
          "Bachelor's",
          "Bachelor's",
          "Master's",
          "Bachelor's",
          "Bachelor's",
          "Master's",
          "Bachelor's",
          "Bachelor's",
          "PhD",
          "Bachelor's",
          "Bachelor's",
          "Bachelor's",
          "Master's",
          "Bachelor's",
          "Bachelor's",
          "Bachelor's",
          "Master's",
          "Bachelor's",
          "Bachelor's",
          "PhD",
          "Bachelor's",
          "Bachelor's",
          "PhD",
          "Bachelor's",
          "Bachelor's",
          "Master's",
          "Bachelor's",
          "Bachelor's",
          "PhD",
          "Bachelor's",
          "Bachelor's",
          "Master's",
          "Bachelor's",
          "Bachelor's",
          "PhD",
          "Bachelor's",
          "Bachelor's",
          "Master's",
          "Bachelor's",
          "Bachelor's",
          "PhD",
          "Bachelor's",
          "Bachelor's",
          "Master's",
          "Bachelor's",
          "Bachelor's",
          "PhD",
          "Bachelor's",
          "Bachelor's",
          "Master's",
          "Bachelor's",
          "Bachelor's",
          "PhD",
          "Bachelor's",
          "Bachelor's",
          "Master's",
          "Bachelor's",
          "Bachelor's",
          "PhD",
          "Bachelor's",
          "Bachelor's",
          "Master's",
          "Bachelor's",
          "Bachelor's",
          "PhD",
          "Bachelor's",
          "Bachelor's",
          "Master's",
          "Bachelor's",
          "Bachelor's",
          "PhD"
         ],
         "xaxis": "x",
         "yaxis": "y"
        }
       ],
       "layout": {
        "barmode": "relative",
        "legend": {
         "tracegroupgap": 0
        },
        "template": {
         "data": {
          "bar": [
           {
            "error_x": {
             "color": "#2a3f5f"
            },
            "error_y": {
             "color": "#2a3f5f"
            },
            "marker": {
             "line": {
              "color": "#E5ECF6",
              "width": 0.5
             },
             "pattern": {
              "fillmode": "overlay",
              "size": 10,
              "solidity": 0.2
             }
            },
            "type": "bar"
           }
          ],
          "barpolar": [
           {
            "marker": {
             "line": {
              "color": "#E5ECF6",
              "width": 0.5
             },
             "pattern": {
              "fillmode": "overlay",
              "size": 10,
              "solidity": 0.2
             }
            },
            "type": "barpolar"
           }
          ],
          "carpet": [
           {
            "aaxis": {
             "endlinecolor": "#2a3f5f",
             "gridcolor": "white",
             "linecolor": "white",
             "minorgridcolor": "white",
             "startlinecolor": "#2a3f5f"
            },
            "baxis": {
             "endlinecolor": "#2a3f5f",
             "gridcolor": "white",
             "linecolor": "white",
             "minorgridcolor": "white",
             "startlinecolor": "#2a3f5f"
            },
            "type": "carpet"
           }
          ],
          "choropleth": [
           {
            "colorbar": {
             "outlinewidth": 0,
             "ticks": ""
            },
            "type": "choropleth"
           }
          ],
          "contour": [
           {
            "colorbar": {
             "outlinewidth": 0,
             "ticks": ""
            },
            "colorscale": [
             [
              0,
              "#0d0887"
             ],
             [
              0.1111111111111111,
              "#46039f"
             ],
             [
              0.2222222222222222,
              "#7201a8"
             ],
             [
              0.3333333333333333,
              "#9c179e"
             ],
             [
              0.4444444444444444,
              "#bd3786"
             ],
             [
              0.5555555555555556,
              "#d8576b"
             ],
             [
              0.6666666666666666,
              "#ed7953"
             ],
             [
              0.7777777777777778,
              "#fb9f3a"
             ],
             [
              0.8888888888888888,
              "#fdca26"
             ],
             [
              1,
              "#f0f921"
             ]
            ],
            "type": "contour"
           }
          ],
          "contourcarpet": [
           {
            "colorbar": {
             "outlinewidth": 0,
             "ticks": ""
            },
            "type": "contourcarpet"
           }
          ],
          "heatmap": [
           {
            "colorbar": {
             "outlinewidth": 0,
             "ticks": ""
            },
            "colorscale": [
             [
              0,
              "#0d0887"
             ],
             [
              0.1111111111111111,
              "#46039f"
             ],
             [
              0.2222222222222222,
              "#7201a8"
             ],
             [
              0.3333333333333333,
              "#9c179e"
             ],
             [
              0.4444444444444444,
              "#bd3786"
             ],
             [
              0.5555555555555556,
              "#d8576b"
             ],
             [
              0.6666666666666666,
              "#ed7953"
             ],
             [
              0.7777777777777778,
              "#fb9f3a"
             ],
             [
              0.8888888888888888,
              "#fdca26"
             ],
             [
              1,
              "#f0f921"
             ]
            ],
            "type": "heatmap"
           }
          ],
          "heatmapgl": [
           {
            "colorbar": {
             "outlinewidth": 0,
             "ticks": ""
            },
            "colorscale": [
             [
              0,
              "#0d0887"
             ],
             [
              0.1111111111111111,
              "#46039f"
             ],
             [
              0.2222222222222222,
              "#7201a8"
             ],
             [
              0.3333333333333333,
              "#9c179e"
             ],
             [
              0.4444444444444444,
              "#bd3786"
             ],
             [
              0.5555555555555556,
              "#d8576b"
             ],
             [
              0.6666666666666666,
              "#ed7953"
             ],
             [
              0.7777777777777778,
              "#fb9f3a"
             ],
             [
              0.8888888888888888,
              "#fdca26"
             ],
             [
              1,
              "#f0f921"
             ]
            ],
            "type": "heatmapgl"
           }
          ],
          "histogram": [
           {
            "marker": {
             "pattern": {
              "fillmode": "overlay",
              "size": 10,
              "solidity": 0.2
             }
            },
            "type": "histogram"
           }
          ],
          "histogram2d": [
           {
            "colorbar": {
             "outlinewidth": 0,
             "ticks": ""
            },
            "colorscale": [
             [
              0,
              "#0d0887"
             ],
             [
              0.1111111111111111,
              "#46039f"
             ],
             [
              0.2222222222222222,
              "#7201a8"
             ],
             [
              0.3333333333333333,
              "#9c179e"
             ],
             [
              0.4444444444444444,
              "#bd3786"
             ],
             [
              0.5555555555555556,
              "#d8576b"
             ],
             [
              0.6666666666666666,
              "#ed7953"
             ],
             [
              0.7777777777777778,
              "#fb9f3a"
             ],
             [
              0.8888888888888888,
              "#fdca26"
             ],
             [
              1,
              "#f0f921"
             ]
            ],
            "type": "histogram2d"
           }
          ],
          "histogram2dcontour": [
           {
            "colorbar": {
             "outlinewidth": 0,
             "ticks": ""
            },
            "colorscale": [
             [
              0,
              "#0d0887"
             ],
             [
              0.1111111111111111,
              "#46039f"
             ],
             [
              0.2222222222222222,
              "#7201a8"
             ],
             [
              0.3333333333333333,
              "#9c179e"
             ],
             [
              0.4444444444444444,
              "#bd3786"
             ],
             [
              0.5555555555555556,
              "#d8576b"
             ],
             [
              0.6666666666666666,
              "#ed7953"
             ],
             [
              0.7777777777777778,
              "#fb9f3a"
             ],
             [
              0.8888888888888888,
              "#fdca26"
             ],
             [
              1,
              "#f0f921"
             ]
            ],
            "type": "histogram2dcontour"
           }
          ],
          "mesh3d": [
           {
            "colorbar": {
             "outlinewidth": 0,
             "ticks": ""
            },
            "type": "mesh3d"
           }
          ],
          "parcoords": [
           {
            "line": {
             "colorbar": {
              "outlinewidth": 0,
              "ticks": ""
             }
            },
            "type": "parcoords"
           }
          ],
          "pie": [
           {
            "automargin": true,
            "type": "pie"
           }
          ],
          "scatter": [
           {
            "fillpattern": {
             "fillmode": "overlay",
             "size": 10,
             "solidity": 0.2
            },
            "type": "scatter"
           }
          ],
          "scatter3d": [
           {
            "line": {
             "colorbar": {
              "outlinewidth": 0,
              "ticks": ""
             }
            },
            "marker": {
             "colorbar": {
              "outlinewidth": 0,
              "ticks": ""
             }
            },
            "type": "scatter3d"
           }
          ],
          "scattercarpet": [
           {
            "marker": {
             "colorbar": {
              "outlinewidth": 0,
              "ticks": ""
             }
            },
            "type": "scattercarpet"
           }
          ],
          "scattergeo": [
           {
            "marker": {
             "colorbar": {
              "outlinewidth": 0,
              "ticks": ""
             }
            },
            "type": "scattergeo"
           }
          ],
          "scattergl": [
           {
            "marker": {
             "colorbar": {
              "outlinewidth": 0,
              "ticks": ""
             }
            },
            "type": "scattergl"
           }
          ],
          "scattermapbox": [
           {
            "marker": {
             "colorbar": {
              "outlinewidth": 0,
              "ticks": ""
             }
            },
            "type": "scattermapbox"
           }
          ],
          "scatterpolar": [
           {
            "marker": {
             "colorbar": {
              "outlinewidth": 0,
              "ticks": ""
             }
            },
            "type": "scatterpolar"
           }
          ],
          "scatterpolargl": [
           {
            "marker": {
             "colorbar": {
              "outlinewidth": 0,
              "ticks": ""
             }
            },
            "type": "scatterpolargl"
           }
          ],
          "scatterternary": [
           {
            "marker": {
             "colorbar": {
              "outlinewidth": 0,
              "ticks": ""
             }
            },
            "type": "scatterternary"
           }
          ],
          "surface": [
           {
            "colorbar": {
             "outlinewidth": 0,
             "ticks": ""
            },
            "colorscale": [
             [
              0,
              "#0d0887"
             ],
             [
              0.1111111111111111,
              "#46039f"
             ],
             [
              0.2222222222222222,
              "#7201a8"
             ],
             [
              0.3333333333333333,
              "#9c179e"
             ],
             [
              0.4444444444444444,
              "#bd3786"
             ],
             [
              0.5555555555555556,
              "#d8576b"
             ],
             [
              0.6666666666666666,
              "#ed7953"
             ],
             [
              0.7777777777777778,
              "#fb9f3a"
             ],
             [
              0.8888888888888888,
              "#fdca26"
             ],
             [
              1,
              "#f0f921"
             ]
            ],
            "type": "surface"
           }
          ],
          "table": [
           {
            "cells": {
             "fill": {
              "color": "#EBF0F8"
             },
             "line": {
              "color": "white"
             }
            },
            "header": {
             "fill": {
              "color": "#C8D4E3"
             },
             "line": {
              "color": "white"
             }
            },
            "type": "table"
           }
          ]
         },
         "layout": {
          "annotationdefaults": {
           "arrowcolor": "#2a3f5f",
           "arrowhead": 0,
           "arrowwidth": 1
          },
          "autotypenumbers": "strict",
          "coloraxis": {
           "colorbar": {
            "outlinewidth": 0,
            "ticks": ""
           }
          },
          "colorscale": {
           "diverging": [
            [
             0,
             "#8e0152"
            ],
            [
             0.1,
             "#c51b7d"
            ],
            [
             0.2,
             "#de77ae"
            ],
            [
             0.3,
             "#f1b6da"
            ],
            [
             0.4,
             "#fde0ef"
            ],
            [
             0.5,
             "#f7f7f7"
            ],
            [
             0.6,
             "#e6f5d0"
            ],
            [
             0.7,
             "#b8e186"
            ],
            [
             0.8,
             "#7fbc41"
            ],
            [
             0.9,
             "#4d9221"
            ],
            [
             1,
             "#276419"
            ]
           ],
           "sequential": [
            [
             0,
             "#0d0887"
            ],
            [
             0.1111111111111111,
             "#46039f"
            ],
            [
             0.2222222222222222,
             "#7201a8"
            ],
            [
             0.3333333333333333,
             "#9c179e"
            ],
            [
             0.4444444444444444,
             "#bd3786"
            ],
            [
             0.5555555555555556,
             "#d8576b"
            ],
            [
             0.6666666666666666,
             "#ed7953"
            ],
            [
             0.7777777777777778,
             "#fb9f3a"
            ],
            [
             0.8888888888888888,
             "#fdca26"
            ],
            [
             1,
             "#f0f921"
            ]
           ],
           "sequentialminus": [
            [
             0,
             "#0d0887"
            ],
            [
             0.1111111111111111,
             "#46039f"
            ],
            [
             0.2222222222222222,
             "#7201a8"
            ],
            [
             0.3333333333333333,
             "#9c179e"
            ],
            [
             0.4444444444444444,
             "#bd3786"
            ],
            [
             0.5555555555555556,
             "#d8576b"
            ],
            [
             0.6666666666666666,
             "#ed7953"
            ],
            [
             0.7777777777777778,
             "#fb9f3a"
            ],
            [
             0.8888888888888888,
             "#fdca26"
            ],
            [
             1,
             "#f0f921"
            ]
           ]
          },
          "colorway": [
           "#636efa",
           "#EF553B",
           "#00cc96",
           "#ab63fa",
           "#FFA15A",
           "#19d3f3",
           "#FF6692",
           "#B6E880",
           "#FF97FF",
           "#FECB52"
          ],
          "font": {
           "color": "#2a3f5f"
          },
          "geo": {
           "bgcolor": "white",
           "lakecolor": "white",
           "landcolor": "#E5ECF6",
           "showlakes": true,
           "showland": true,
           "subunitcolor": "white"
          },
          "hoverlabel": {
           "align": "left"
          },
          "hovermode": "closest",
          "mapbox": {
           "style": "light"
          },
          "paper_bgcolor": "white",
          "plot_bgcolor": "#E5ECF6",
          "polar": {
           "angularaxis": {
            "gridcolor": "white",
            "linecolor": "white",
            "ticks": ""
           },
           "bgcolor": "#E5ECF6",
           "radialaxis": {
            "gridcolor": "white",
            "linecolor": "white",
            "ticks": ""
           }
          },
          "scene": {
           "xaxis": {
            "backgroundcolor": "#E5ECF6",
            "gridcolor": "white",
            "gridwidth": 2,
            "linecolor": "white",
            "showbackground": true,
            "ticks": "",
            "zerolinecolor": "white"
           },
           "yaxis": {
            "backgroundcolor": "#E5ECF6",
            "gridcolor": "white",
            "gridwidth": 2,
            "linecolor": "white",
            "showbackground": true,
            "ticks": "",
            "zerolinecolor": "white"
           },
           "zaxis": {
            "backgroundcolor": "#E5ECF6",
            "gridcolor": "white",
            "gridwidth": 2,
            "linecolor": "white",
            "showbackground": true,
            "ticks": "",
            "zerolinecolor": "white"
           }
          },
          "shapedefaults": {
           "line": {
            "color": "#2a3f5f"
           }
          },
          "ternary": {
           "aaxis": {
            "gridcolor": "white",
            "linecolor": "white",
            "ticks": ""
           },
           "baxis": {
            "gridcolor": "white",
            "linecolor": "white",
            "ticks": ""
           },
           "bgcolor": "#E5ECF6",
           "caxis": {
            "gridcolor": "white",
            "linecolor": "white",
            "ticks": ""
           }
          },
          "title": {
           "x": 0.05
          },
          "xaxis": {
           "automargin": true,
           "gridcolor": "white",
           "linecolor": "white",
           "ticks": "",
           "title": {
            "standoff": 15
           },
           "zerolinecolor": "white",
           "zerolinewidth": 2
          },
          "yaxis": {
           "automargin": true,
           "gridcolor": "white",
           "linecolor": "white",
           "ticks": "",
           "title": {
            "standoff": 15
           },
           "zerolinecolor": "white",
           "zerolinewidth": 2
          }
         }
        },
        "title": {
         "text": "Education Levels"
        },
        "xaxis": {
         "anchor": "y",
         "domain": [
          0,
          1
         ],
         "title": {
          "text": "Education Level"
         }
        },
        "yaxis": {
         "anchor": "x",
         "domain": [
          0,
          1
         ],
         "title": {
          "text": "count"
         }
        }
       }
      }
     },
     "metadata": {},
     "output_type": "display_data"
    }
   ],
   "source": [
    "px.histogram(data, x='Education Level', title='Education Levels', color_discrete_sequence=['yellowgreen'])"
   ]
  },
  {
   "cell_type": "markdown",
   "metadata": {},
   "source": [
    "Based on this distribution, over half of the workers have a Bachelor's degree, while the rest have a higher education, whether it be a Master's degree or PhD. Most jobs usually require only a Bachelor's, while more research intensive jobs require higher education, and there usually aren't many types of those jobs."
   ]
  },
  {
   "cell_type": "markdown",
   "metadata": {},
   "source": [
    "### Years of Experience\n",
    "\n",
    "Let's now visualize the distribution of years of exeprience, a numerical column, using a histogram and box plot."
   ]
  },
  {
   "cell_type": "code",
   "execution_count": 17,
   "metadata": {},
   "outputs": [
    {
     "data": {
      "application/vnd.plotly.v1+json": {
       "config": {
        "plotlyServerURL": "https://plot.ly"
       },
       "data": [
        {
         "alignmentgroup": "True",
         "bingroup": "x",
         "hovertemplate": "Years of Experience=%{x}<br>count=%{y}<extra></extra>",
         "legendgroup": "",
         "marker": {
          "color": "red",
          "pattern": {
           "shape": ""
          }
         },
         "name": "",
         "offsetgroup": "",
         "orientation": "v",
         "showlegend": false,
         "type": "histogram",
         "x": [
          5,
          3,
          15,
          7,
          20,
          2,
          12,
          4,
          1,
          10,
          3,
          18,
          6,
          14,
          2,
          16,
          7,
          12,
          0,
          22,
          5,
          19,
          2,
          9,
          13,
          3,
          11,
          1,
          15,
          6,
          25,
          4,
          3,
          10,
          20,
          2,
          7,
          14,
          1,
          21,
          5,
          18,
          3,
          8,
          13,
          2,
          5,
          16,
          11,
          0,
          22,
          7,
          12,
          19,
          3,
          9,
          2,
          17,
          4,
          7,
          23,
          3,
          12,
          21,
          1,
          10,
          19,
          5,
          8,
          18,
          6,
          11,
          16,
          2,
          14,
          10,
          22,
          6,
          20,
          3,
          8,
          13,
          0,
          24,
          2,
          10,
          2,
          15,
          21,
          6,
          11,
          3,
          18,
          25,
          7,
          12,
          22,
          1,
          10,
          20,
          5,
          8,
          19,
          5,
          13,
          16,
          3,
          7,
          14,
          2,
          15,
          9,
          22,
          6,
          0.5,
          6,
          15,
          20,
          3,
          10,
          17,
          25,
          5,
          11,
          16,
          2,
          9,
          18,
          4,
          8,
          21,
          3,
          12,
          22,
          1,
          10,
          19,
          4,
          7,
          14,
          2,
          13,
          5,
          20,
          1.5,
          8,
          16,
          4,
          10,
          19,
          3,
          11,
          18,
          2,
          9,
          14,
          5,
          7,
          23,
          2,
          12,
          21,
          3,
          7,
          13,
          1.5,
          14,
          18,
          4,
          9,
          20,
          2,
          16,
          1.5,
          7,
          18,
          4,
          10,
          20,
          2,
          9,
          15,
          2,
          8,
          14,
          6,
          9,
          22,
          1.5,
          12,
          19,
          3,
          7,
          13,
          2,
          11,
          17,
          5,
          9,
          21,
          3,
          16,
          1.5,
          7,
          17,
          4,
          10,
          20,
          2,
          9,
          15,
          2,
          8,
          14,
          6,
          9,
          22,
          1.5,
          12,
          19,
          3,
          7,
          13,
          2,
          11,
          18,
          5,
          9,
          21,
          3,
          15,
          1.5,
          8,
          13,
          3,
          9,
          16,
          5,
          10,
          18,
          1.5,
          10,
          19,
          6,
          8,
          21,
          3,
          11,
          20,
          2,
          9,
          15,
          2,
          8,
          14,
          6,
          9,
          22,
          10,
          18,
          3,
          12,
          1.5,
          8,
          15,
          4,
          9,
          16,
          4,
          8,
          20,
          2,
          9,
          17,
          5,
          8,
          21,
          3,
          11,
          19,
          1.5,
          9,
          15,
          4,
          8,
          13,
          4,
          10,
          21,
          2,
          7,
          14,
          4,
          12,
          16,
          2,
          9,
          20,
          3,
          9,
          16,
          5,
          8,
          21,
          3,
          12,
          19,
          1.5,
          9,
          15,
          4,
          8,
          13,
          6,
          8,
          2,
          10,
          16,
          4,
          12,
          20,
          2,
          9,
          15,
          3,
          10,
          21,
          3,
          12,
          16,
          4,
          8,
          19,
          2,
          7,
          15,
          5,
          8,
          18,
          3,
          14,
          16,
          4,
          8,
          19,
          1,
          8,
          16,
          3,
          10,
          21,
          3,
          12,
          16,
          4,
          8,
          19,
          2,
          7,
          15,
          5,
          8,
          18,
          3,
          14,
          16,
          4,
          8,
          19,
          2,
          7,
          15
         ],
         "xaxis": "x",
         "yaxis": "y"
        },
        {
         "alignmentgroup": "True",
         "hovertemplate": "Years of Experience=%{x}<extra></extra>",
         "legendgroup": "",
         "marker": {
          "color": "red"
         },
         "name": "",
         "notched": true,
         "offsetgroup": "",
         "showlegend": false,
         "type": "box",
         "x": [
          5,
          3,
          15,
          7,
          20,
          2,
          12,
          4,
          1,
          10,
          3,
          18,
          6,
          14,
          2,
          16,
          7,
          12,
          0,
          22,
          5,
          19,
          2,
          9,
          13,
          3,
          11,
          1,
          15,
          6,
          25,
          4,
          3,
          10,
          20,
          2,
          7,
          14,
          1,
          21,
          5,
          18,
          3,
          8,
          13,
          2,
          5,
          16,
          11,
          0,
          22,
          7,
          12,
          19,
          3,
          9,
          2,
          17,
          4,
          7,
          23,
          3,
          12,
          21,
          1,
          10,
          19,
          5,
          8,
          18,
          6,
          11,
          16,
          2,
          14,
          10,
          22,
          6,
          20,
          3,
          8,
          13,
          0,
          24,
          2,
          10,
          2,
          15,
          21,
          6,
          11,
          3,
          18,
          25,
          7,
          12,
          22,
          1,
          10,
          20,
          5,
          8,
          19,
          5,
          13,
          16,
          3,
          7,
          14,
          2,
          15,
          9,
          22,
          6,
          0.5,
          6,
          15,
          20,
          3,
          10,
          17,
          25,
          5,
          11,
          16,
          2,
          9,
          18,
          4,
          8,
          21,
          3,
          12,
          22,
          1,
          10,
          19,
          4,
          7,
          14,
          2,
          13,
          5,
          20,
          1.5,
          8,
          16,
          4,
          10,
          19,
          3,
          11,
          18,
          2,
          9,
          14,
          5,
          7,
          23,
          2,
          12,
          21,
          3,
          7,
          13,
          1.5,
          14,
          18,
          4,
          9,
          20,
          2,
          16,
          1.5,
          7,
          18,
          4,
          10,
          20,
          2,
          9,
          15,
          2,
          8,
          14,
          6,
          9,
          22,
          1.5,
          12,
          19,
          3,
          7,
          13,
          2,
          11,
          17,
          5,
          9,
          21,
          3,
          16,
          1.5,
          7,
          17,
          4,
          10,
          20,
          2,
          9,
          15,
          2,
          8,
          14,
          6,
          9,
          22,
          1.5,
          12,
          19,
          3,
          7,
          13,
          2,
          11,
          18,
          5,
          9,
          21,
          3,
          15,
          1.5,
          8,
          13,
          3,
          9,
          16,
          5,
          10,
          18,
          1.5,
          10,
          19,
          6,
          8,
          21,
          3,
          11,
          20,
          2,
          9,
          15,
          2,
          8,
          14,
          6,
          9,
          22,
          10,
          18,
          3,
          12,
          1.5,
          8,
          15,
          4,
          9,
          16,
          4,
          8,
          20,
          2,
          9,
          17,
          5,
          8,
          21,
          3,
          11,
          19,
          1.5,
          9,
          15,
          4,
          8,
          13,
          4,
          10,
          21,
          2,
          7,
          14,
          4,
          12,
          16,
          2,
          9,
          20,
          3,
          9,
          16,
          5,
          8,
          21,
          3,
          12,
          19,
          1.5,
          9,
          15,
          4,
          8,
          13,
          6,
          8,
          2,
          10,
          16,
          4,
          12,
          20,
          2,
          9,
          15,
          3,
          10,
          21,
          3,
          12,
          16,
          4,
          8,
          19,
          2,
          7,
          15,
          5,
          8,
          18,
          3,
          14,
          16,
          4,
          8,
          19,
          1,
          8,
          16,
          3,
          10,
          21,
          3,
          12,
          16,
          4,
          8,
          19,
          2,
          7,
          15,
          5,
          8,
          18,
          3,
          14,
          16,
          4,
          8,
          19,
          2,
          7,
          15
         ],
         "xaxis": "x2",
         "yaxis": "y2"
        }
       ],
       "layout": {
        "bargap": 0.1,
        "barmode": "relative",
        "legend": {
         "tracegroupgap": 0
        },
        "template": {
         "data": {
          "bar": [
           {
            "error_x": {
             "color": "#2a3f5f"
            },
            "error_y": {
             "color": "#2a3f5f"
            },
            "marker": {
             "line": {
              "color": "#E5ECF6",
              "width": 0.5
             },
             "pattern": {
              "fillmode": "overlay",
              "size": 10,
              "solidity": 0.2
             }
            },
            "type": "bar"
           }
          ],
          "barpolar": [
           {
            "marker": {
             "line": {
              "color": "#E5ECF6",
              "width": 0.5
             },
             "pattern": {
              "fillmode": "overlay",
              "size": 10,
              "solidity": 0.2
             }
            },
            "type": "barpolar"
           }
          ],
          "carpet": [
           {
            "aaxis": {
             "endlinecolor": "#2a3f5f",
             "gridcolor": "white",
             "linecolor": "white",
             "minorgridcolor": "white",
             "startlinecolor": "#2a3f5f"
            },
            "baxis": {
             "endlinecolor": "#2a3f5f",
             "gridcolor": "white",
             "linecolor": "white",
             "minorgridcolor": "white",
             "startlinecolor": "#2a3f5f"
            },
            "type": "carpet"
           }
          ],
          "choropleth": [
           {
            "colorbar": {
             "outlinewidth": 0,
             "ticks": ""
            },
            "type": "choropleth"
           }
          ],
          "contour": [
           {
            "colorbar": {
             "outlinewidth": 0,
             "ticks": ""
            },
            "colorscale": [
             [
              0,
              "#0d0887"
             ],
             [
              0.1111111111111111,
              "#46039f"
             ],
             [
              0.2222222222222222,
              "#7201a8"
             ],
             [
              0.3333333333333333,
              "#9c179e"
             ],
             [
              0.4444444444444444,
              "#bd3786"
             ],
             [
              0.5555555555555556,
              "#d8576b"
             ],
             [
              0.6666666666666666,
              "#ed7953"
             ],
             [
              0.7777777777777778,
              "#fb9f3a"
             ],
             [
              0.8888888888888888,
              "#fdca26"
             ],
             [
              1,
              "#f0f921"
             ]
            ],
            "type": "contour"
           }
          ],
          "contourcarpet": [
           {
            "colorbar": {
             "outlinewidth": 0,
             "ticks": ""
            },
            "type": "contourcarpet"
           }
          ],
          "heatmap": [
           {
            "colorbar": {
             "outlinewidth": 0,
             "ticks": ""
            },
            "colorscale": [
             [
              0,
              "#0d0887"
             ],
             [
              0.1111111111111111,
              "#46039f"
             ],
             [
              0.2222222222222222,
              "#7201a8"
             ],
             [
              0.3333333333333333,
              "#9c179e"
             ],
             [
              0.4444444444444444,
              "#bd3786"
             ],
             [
              0.5555555555555556,
              "#d8576b"
             ],
             [
              0.6666666666666666,
              "#ed7953"
             ],
             [
              0.7777777777777778,
              "#fb9f3a"
             ],
             [
              0.8888888888888888,
              "#fdca26"
             ],
             [
              1,
              "#f0f921"
             ]
            ],
            "type": "heatmap"
           }
          ],
          "heatmapgl": [
           {
            "colorbar": {
             "outlinewidth": 0,
             "ticks": ""
            },
            "colorscale": [
             [
              0,
              "#0d0887"
             ],
             [
              0.1111111111111111,
              "#46039f"
             ],
             [
              0.2222222222222222,
              "#7201a8"
             ],
             [
              0.3333333333333333,
              "#9c179e"
             ],
             [
              0.4444444444444444,
              "#bd3786"
             ],
             [
              0.5555555555555556,
              "#d8576b"
             ],
             [
              0.6666666666666666,
              "#ed7953"
             ],
             [
              0.7777777777777778,
              "#fb9f3a"
             ],
             [
              0.8888888888888888,
              "#fdca26"
             ],
             [
              1,
              "#f0f921"
             ]
            ],
            "type": "heatmapgl"
           }
          ],
          "histogram": [
           {
            "marker": {
             "pattern": {
              "fillmode": "overlay",
              "size": 10,
              "solidity": 0.2
             }
            },
            "type": "histogram"
           }
          ],
          "histogram2d": [
           {
            "colorbar": {
             "outlinewidth": 0,
             "ticks": ""
            },
            "colorscale": [
             [
              0,
              "#0d0887"
             ],
             [
              0.1111111111111111,
              "#46039f"
             ],
             [
              0.2222222222222222,
              "#7201a8"
             ],
             [
              0.3333333333333333,
              "#9c179e"
             ],
             [
              0.4444444444444444,
              "#bd3786"
             ],
             [
              0.5555555555555556,
              "#d8576b"
             ],
             [
              0.6666666666666666,
              "#ed7953"
             ],
             [
              0.7777777777777778,
              "#fb9f3a"
             ],
             [
              0.8888888888888888,
              "#fdca26"
             ],
             [
              1,
              "#f0f921"
             ]
            ],
            "type": "histogram2d"
           }
          ],
          "histogram2dcontour": [
           {
            "colorbar": {
             "outlinewidth": 0,
             "ticks": ""
            },
            "colorscale": [
             [
              0,
              "#0d0887"
             ],
             [
              0.1111111111111111,
              "#46039f"
             ],
             [
              0.2222222222222222,
              "#7201a8"
             ],
             [
              0.3333333333333333,
              "#9c179e"
             ],
             [
              0.4444444444444444,
              "#bd3786"
             ],
             [
              0.5555555555555556,
              "#d8576b"
             ],
             [
              0.6666666666666666,
              "#ed7953"
             ],
             [
              0.7777777777777778,
              "#fb9f3a"
             ],
             [
              0.8888888888888888,
              "#fdca26"
             ],
             [
              1,
              "#f0f921"
             ]
            ],
            "type": "histogram2dcontour"
           }
          ],
          "mesh3d": [
           {
            "colorbar": {
             "outlinewidth": 0,
             "ticks": ""
            },
            "type": "mesh3d"
           }
          ],
          "parcoords": [
           {
            "line": {
             "colorbar": {
              "outlinewidth": 0,
              "ticks": ""
             }
            },
            "type": "parcoords"
           }
          ],
          "pie": [
           {
            "automargin": true,
            "type": "pie"
           }
          ],
          "scatter": [
           {
            "fillpattern": {
             "fillmode": "overlay",
             "size": 10,
             "solidity": 0.2
            },
            "type": "scatter"
           }
          ],
          "scatter3d": [
           {
            "line": {
             "colorbar": {
              "outlinewidth": 0,
              "ticks": ""
             }
            },
            "marker": {
             "colorbar": {
              "outlinewidth": 0,
              "ticks": ""
             }
            },
            "type": "scatter3d"
           }
          ],
          "scattercarpet": [
           {
            "marker": {
             "colorbar": {
              "outlinewidth": 0,
              "ticks": ""
             }
            },
            "type": "scattercarpet"
           }
          ],
          "scattergeo": [
           {
            "marker": {
             "colorbar": {
              "outlinewidth": 0,
              "ticks": ""
             }
            },
            "type": "scattergeo"
           }
          ],
          "scattergl": [
           {
            "marker": {
             "colorbar": {
              "outlinewidth": 0,
              "ticks": ""
             }
            },
            "type": "scattergl"
           }
          ],
          "scattermapbox": [
           {
            "marker": {
             "colorbar": {
              "outlinewidth": 0,
              "ticks": ""
             }
            },
            "type": "scattermapbox"
           }
          ],
          "scatterpolar": [
           {
            "marker": {
             "colorbar": {
              "outlinewidth": 0,
              "ticks": ""
             }
            },
            "type": "scatterpolar"
           }
          ],
          "scatterpolargl": [
           {
            "marker": {
             "colorbar": {
              "outlinewidth": 0,
              "ticks": ""
             }
            },
            "type": "scatterpolargl"
           }
          ],
          "scatterternary": [
           {
            "marker": {
             "colorbar": {
              "outlinewidth": 0,
              "ticks": ""
             }
            },
            "type": "scatterternary"
           }
          ],
          "surface": [
           {
            "colorbar": {
             "outlinewidth": 0,
             "ticks": ""
            },
            "colorscale": [
             [
              0,
              "#0d0887"
             ],
             [
              0.1111111111111111,
              "#46039f"
             ],
             [
              0.2222222222222222,
              "#7201a8"
             ],
             [
              0.3333333333333333,
              "#9c179e"
             ],
             [
              0.4444444444444444,
              "#bd3786"
             ],
             [
              0.5555555555555556,
              "#d8576b"
             ],
             [
              0.6666666666666666,
              "#ed7953"
             ],
             [
              0.7777777777777778,
              "#fb9f3a"
             ],
             [
              0.8888888888888888,
              "#fdca26"
             ],
             [
              1,
              "#f0f921"
             ]
            ],
            "type": "surface"
           }
          ],
          "table": [
           {
            "cells": {
             "fill": {
              "color": "#EBF0F8"
             },
             "line": {
              "color": "white"
             }
            },
            "header": {
             "fill": {
              "color": "#C8D4E3"
             },
             "line": {
              "color": "white"
             }
            },
            "type": "table"
           }
          ]
         },
         "layout": {
          "annotationdefaults": {
           "arrowcolor": "#2a3f5f",
           "arrowhead": 0,
           "arrowwidth": 1
          },
          "autotypenumbers": "strict",
          "coloraxis": {
           "colorbar": {
            "outlinewidth": 0,
            "ticks": ""
           }
          },
          "colorscale": {
           "diverging": [
            [
             0,
             "#8e0152"
            ],
            [
             0.1,
             "#c51b7d"
            ],
            [
             0.2,
             "#de77ae"
            ],
            [
             0.3,
             "#f1b6da"
            ],
            [
             0.4,
             "#fde0ef"
            ],
            [
             0.5,
             "#f7f7f7"
            ],
            [
             0.6,
             "#e6f5d0"
            ],
            [
             0.7,
             "#b8e186"
            ],
            [
             0.8,
             "#7fbc41"
            ],
            [
             0.9,
             "#4d9221"
            ],
            [
             1,
             "#276419"
            ]
           ],
           "sequential": [
            [
             0,
             "#0d0887"
            ],
            [
             0.1111111111111111,
             "#46039f"
            ],
            [
             0.2222222222222222,
             "#7201a8"
            ],
            [
             0.3333333333333333,
             "#9c179e"
            ],
            [
             0.4444444444444444,
             "#bd3786"
            ],
            [
             0.5555555555555556,
             "#d8576b"
            ],
            [
             0.6666666666666666,
             "#ed7953"
            ],
            [
             0.7777777777777778,
             "#fb9f3a"
            ],
            [
             0.8888888888888888,
             "#fdca26"
            ],
            [
             1,
             "#f0f921"
            ]
           ],
           "sequentialminus": [
            [
             0,
             "#0d0887"
            ],
            [
             0.1111111111111111,
             "#46039f"
            ],
            [
             0.2222222222222222,
             "#7201a8"
            ],
            [
             0.3333333333333333,
             "#9c179e"
            ],
            [
             0.4444444444444444,
             "#bd3786"
            ],
            [
             0.5555555555555556,
             "#d8576b"
            ],
            [
             0.6666666666666666,
             "#ed7953"
            ],
            [
             0.7777777777777778,
             "#fb9f3a"
            ],
            [
             0.8888888888888888,
             "#fdca26"
            ],
            [
             1,
             "#f0f921"
            ]
           ]
          },
          "colorway": [
           "#636efa",
           "#EF553B",
           "#00cc96",
           "#ab63fa",
           "#FFA15A",
           "#19d3f3",
           "#FF6692",
           "#B6E880",
           "#FF97FF",
           "#FECB52"
          ],
          "font": {
           "color": "#2a3f5f"
          },
          "geo": {
           "bgcolor": "white",
           "lakecolor": "white",
           "landcolor": "#E5ECF6",
           "showlakes": true,
           "showland": true,
           "subunitcolor": "white"
          },
          "hoverlabel": {
           "align": "left"
          },
          "hovermode": "closest",
          "mapbox": {
           "style": "light"
          },
          "paper_bgcolor": "white",
          "plot_bgcolor": "#E5ECF6",
          "polar": {
           "angularaxis": {
            "gridcolor": "white",
            "linecolor": "white",
            "ticks": ""
           },
           "bgcolor": "#E5ECF6",
           "radialaxis": {
            "gridcolor": "white",
            "linecolor": "white",
            "ticks": ""
           }
          },
          "scene": {
           "xaxis": {
            "backgroundcolor": "#E5ECF6",
            "gridcolor": "white",
            "gridwidth": 2,
            "linecolor": "white",
            "showbackground": true,
            "ticks": "",
            "zerolinecolor": "white"
           },
           "yaxis": {
            "backgroundcolor": "#E5ECF6",
            "gridcolor": "white",
            "gridwidth": 2,
            "linecolor": "white",
            "showbackground": true,
            "ticks": "",
            "zerolinecolor": "white"
           },
           "zaxis": {
            "backgroundcolor": "#E5ECF6",
            "gridcolor": "white",
            "gridwidth": 2,
            "linecolor": "white",
            "showbackground": true,
            "ticks": "",
            "zerolinecolor": "white"
           }
          },
          "shapedefaults": {
           "line": {
            "color": "#2a3f5f"
           }
          },
          "ternary": {
           "aaxis": {
            "gridcolor": "white",
            "linecolor": "white",
            "ticks": ""
           },
           "baxis": {
            "gridcolor": "white",
            "linecolor": "white",
            "ticks": ""
           },
           "bgcolor": "#E5ECF6",
           "caxis": {
            "gridcolor": "white",
            "linecolor": "white",
            "ticks": ""
           }
          },
          "title": {
           "x": 0.05
          },
          "xaxis": {
           "automargin": true,
           "gridcolor": "white",
           "linecolor": "white",
           "ticks": "",
           "title": {
            "standoff": 15
           },
           "zerolinecolor": "white",
           "zerolinewidth": 2
          },
          "yaxis": {
           "automargin": true,
           "gridcolor": "white",
           "linecolor": "white",
           "ticks": "",
           "title": {
            "standoff": 15
           },
           "zerolinecolor": "white",
           "zerolinewidth": 2
          }
         }
        },
        "title": {
         "text": "Distribution of Years of Experience"
        },
        "xaxis": {
         "anchor": "y",
         "domain": [
          0,
          1
         ],
         "title": {
          "text": "Years of Experience"
         }
        },
        "xaxis2": {
         "anchor": "y2",
         "domain": [
          0,
          1
         ],
         "matches": "x",
         "showgrid": true,
         "showticklabels": false
        },
        "yaxis": {
         "anchor": "x",
         "domain": [
          0,
          0.8316
         ],
         "title": {
          "text": "count"
         }
        },
        "yaxis2": {
         "anchor": "x2",
         "domain": [
          0.8416,
          1
         ],
         "matches": "y2",
         "showgrid": false,
         "showline": false,
         "showticklabels": false,
         "ticks": ""
        }
       }
      }
     },
     "metadata": {},
     "output_type": "display_data"
    }
   ],
   "source": [
    "fig = px.histogram(data, \n",
    "                   x='Years of Experience', \n",
    "                   marginal='box', \n",
    "                   color_discrete_sequence=['red'], \n",
    "                   title='Distribution of Years of Experience')\n",
    "fig.update_layout(bargap=0.1)\n",
    "fig.show()"
   ]
  },
  {
   "cell_type": "markdown",
   "metadata": {},
   "source": [
    "This is a Gaussian distribution that is skewed right, which is typical, as there are less people that are more experienced."
   ]
  },
  {
   "cell_type": "markdown",
   "metadata": {},
   "source": [
    "### Salary\n",
    "\n",
    "Finally, let's visualize the salaries of the employees; the salary column is the one we are trying to predict. We can also use the categorical column \"gender\" to distinguish the salaries for men and women."
   ]
  },
  {
   "cell_type": "code",
   "execution_count": 18,
   "metadata": {},
   "outputs": [
    {
     "data": {
      "application/vnd.plotly.v1+json": {
       "config": {
        "plotlyServerURL": "https://plot.ly"
       },
       "data": [
        {
         "alignmentgroup": "True",
         "bingroup": "x",
         "hovertemplate": "Gender=Male<br>Salary=%{x}<br>count=%{y}<extra></extra>",
         "legendgroup": "Male",
         "marker": {
          "color": "turquoise",
          "pattern": {
           "shape": ""
          }
         },
         "name": "Male",
         "offsetgroup": "Male",
         "orientation": "v",
         "showlegend": true,
         "type": "histogram",
         "x": [
          90000,
          150000,
          200000,
          55000,
          80000,
          110000,
          75000,
          65000,
          40000,
          125000,
          115000,
          180000,
          190000,
          50000,
          140000,
          40000,
          90000,
          250000,
          75000,
          170000,
          45000,
          115000,
          160000,
          190000,
          60000,
          130000,
          75000,
          120000,
          35000,
          85000,
          200000,
          95000,
          140000,
          105000,
          50000,
          180000,
          35000,
          120000,
          90000,
          65000,
          190000,
          40000,
          95000,
          100000,
          70000,
          30000,
          250000,
          45000,
          135000,
          120000,
          105000,
          75000,
          160000,
          35000,
          110000,
          95000,
          50000,
          220000,
          60000,
          40000,
          95000,
          90000,
          95000,
          170000,
          120000,
          180000,
          80000,
          40000,
          110000,
          105000,
          45000,
          160000,
          35000,
          140000,
          60000,
          40000,
          50000,
          135000,
          90000,
          60000,
          175000,
          120000,
          35000,
          110000,
          115000,
          40000,
          175000,
          80000,
          35000,
          150000,
          105000,
          40000,
          140000,
          85000,
          50000,
          170000,
          105000,
          40000,
          130000,
          100000,
          35000,
          170000,
          95000,
          40000,
          155000,
          110000,
          45000,
          130000,
          90000,
          50000,
          170000,
          110000,
          40000,
          130000,
          95000,
          35000,
          170000,
          100000,
          40000,
          160000,
          120000,
          45000,
          120000,
          85000,
          45000,
          140000,
          120000,
          40000,
          150000,
          95000,
          50000,
          170000,
          110000,
          40000,
          130000,
          95000,
          160000,
          110000,
          95000,
          60000,
          150000,
          90000,
          40000,
          160000,
          95000,
          50000,
          170000,
          100000,
          60000,
          130000,
          65000,
          180000,
          90000,
          60000,
          160000,
          100000,
          55000,
          150000,
          95000,
          50000,
          170000,
          100000,
          60000,
          130000,
          95000,
          120000,
          65000,
          180000,
          100000,
          55000,
          180000,
          130000,
          60000,
          170000,
          90000,
          70000,
          170000,
          150000,
          60000,
          180000,
          110000,
          55000,
          180000,
          130000,
          60000,
          170000,
          90000,
          70000,
          170000,
          150000,
          60000,
          170000,
          90000
         ],
         "xaxis": "x",
         "yaxis": "y"
        },
        {
         "alignmentgroup": "True",
         "hovertemplate": "Gender=Male<br>Salary=%{x}<extra></extra>",
         "legendgroup": "Male",
         "marker": {
          "color": "turquoise"
         },
         "name": "Male",
         "notched": true,
         "offsetgroup": "Male",
         "showlegend": false,
         "type": "box",
         "x": [
          90000,
          150000,
          200000,
          55000,
          80000,
          110000,
          75000,
          65000,
          40000,
          125000,
          115000,
          180000,
          190000,
          50000,
          140000,
          40000,
          90000,
          250000,
          75000,
          170000,
          45000,
          115000,
          160000,
          190000,
          60000,
          130000,
          75000,
          120000,
          35000,
          85000,
          200000,
          95000,
          140000,
          105000,
          50000,
          180000,
          35000,
          120000,
          90000,
          65000,
          190000,
          40000,
          95000,
          100000,
          70000,
          30000,
          250000,
          45000,
          135000,
          120000,
          105000,
          75000,
          160000,
          35000,
          110000,
          95000,
          50000,
          220000,
          60000,
          40000,
          95000,
          90000,
          95000,
          170000,
          120000,
          180000,
          80000,
          40000,
          110000,
          105000,
          45000,
          160000,
          35000,
          140000,
          60000,
          40000,
          50000,
          135000,
          90000,
          60000,
          175000,
          120000,
          35000,
          110000,
          115000,
          40000,
          175000,
          80000,
          35000,
          150000,
          105000,
          40000,
          140000,
          85000,
          50000,
          170000,
          105000,
          40000,
          130000,
          100000,
          35000,
          170000,
          95000,
          40000,
          155000,
          110000,
          45000,
          130000,
          90000,
          50000,
          170000,
          110000,
          40000,
          130000,
          95000,
          35000,
          170000,
          100000,
          40000,
          160000,
          120000,
          45000,
          120000,
          85000,
          45000,
          140000,
          120000,
          40000,
          150000,
          95000,
          50000,
          170000,
          110000,
          40000,
          130000,
          95000,
          160000,
          110000,
          95000,
          60000,
          150000,
          90000,
          40000,
          160000,
          95000,
          50000,
          170000,
          100000,
          60000,
          130000,
          65000,
          180000,
          90000,
          60000,
          160000,
          100000,
          55000,
          150000,
          95000,
          50000,
          170000,
          100000,
          60000,
          130000,
          95000,
          120000,
          65000,
          180000,
          100000,
          55000,
          180000,
          130000,
          60000,
          170000,
          90000,
          70000,
          170000,
          150000,
          60000,
          180000,
          110000,
          55000,
          180000,
          130000,
          60000,
          170000,
          90000,
          70000,
          170000,
          150000,
          60000,
          170000,
          90000
         ],
         "xaxis": "x2",
         "yaxis": "y2"
        },
        {
         "alignmentgroup": "True",
         "bingroup": "x",
         "hovertemplate": "Gender=Female<br>Salary=%{x}<br>count=%{y}<extra></extra>",
         "legendgroup": "Female",
         "marker": {
          "color": "#CB0000",
          "pattern": {
           "shape": ""
          }
         },
         "name": "Female",
         "offsetgroup": "Female",
         "orientation": "v",
         "showlegend": true,
         "type": "histogram",
         "x": [
          65000,
          60000,
          120000,
          45000,
          140000,
          130000,
          90000,
          35000,
          80000,
          60000,
          45000,
          110000,
          140000,
          55000,
          65000,
          60000,
          40000,
          80000,
          45000,
          40000,
          180000,
          130000,
          60000,
          50000,
          65000,
          55000,
          170000,
          80000,
          90000,
          45000,
          150000,
          70000,
          120000,
          160000,
          180000,
          55000,
          80000,
          40000,
          95000,
          80000,
          55000,
          40000,
          170000,
          65000,
          90000,
          45000,
          150000,
          80000,
          50000,
          100000,
          110000,
          130000,
          35000,
          65000,
          45000,
          100000,
          50000,
          140000,
          95000,
          50000,
          160000,
          100000,
          55000,
          50000,
          120000,
          110000,
          40000,
          150000,
          80000,
          45000,
          140000,
          95000,
          50000,
          185000,
          90000,
          45000,
          120000,
          110000,
          50000,
          180000,
          45000,
          140000,
          80000,
          40000,
          145000,
          85000,
          95000,
          180000,
          95000,
          45000,
          120000,
          90000,
          55000,
          180000,
          45000,
          160000,
          120000,
          40000,
          150000,
          85000,
          100000,
          180000,
          100000,
          45000,
          140000,
          105000,
          70000,
          190000,
          50000,
          140000,
          100000,
          70000,
          160000,
          120000,
          70000,
          180000,
          95000,
          40000,
          150000,
          85000,
          100000,
          180000,
          120000,
          50000,
          40000,
          140000,
          110000,
          60000,
          180000,
          120000,
          70000,
          180000,
          95000,
          35000,
          150000,
          85000,
          110000,
          40000,
          140000,
          130000,
          40000,
          180000,
          120000,
          70000,
          180000,
          120000,
          35000,
          150000,
          85000,
          80000,
          40000,
          160000,
          130000,
          40000,
          150000,
          110000,
          50000,
          160000,
          95000,
          40000,
          150000,
          90000,
          50000,
          160000,
          85000,
          35000,
          160000,
          110000,
          50000,
          160000,
          95000,
          40000,
          150000,
          90000,
          50000,
          160000,
          85000,
          40000,
          150000
         ],
         "xaxis": "x",
         "yaxis": "y"
        },
        {
         "alignmentgroup": "True",
         "hovertemplate": "Gender=Female<br>Salary=%{x}<extra></extra>",
         "legendgroup": "Female",
         "marker": {
          "color": "#CB0000"
         },
         "name": "Female",
         "notched": true,
         "offsetgroup": "Female",
         "showlegend": false,
         "type": "box",
         "x": [
          65000,
          60000,
          120000,
          45000,
          140000,
          130000,
          90000,
          35000,
          80000,
          60000,
          45000,
          110000,
          140000,
          55000,
          65000,
          60000,
          40000,
          80000,
          45000,
          40000,
          180000,
          130000,
          60000,
          50000,
          65000,
          55000,
          170000,
          80000,
          90000,
          45000,
          150000,
          70000,
          120000,
          160000,
          180000,
          55000,
          80000,
          40000,
          95000,
          80000,
          55000,
          40000,
          170000,
          65000,
          90000,
          45000,
          150000,
          80000,
          50000,
          100000,
          110000,
          130000,
          35000,
          65000,
          45000,
          100000,
          50000,
          140000,
          95000,
          50000,
          160000,
          100000,
          55000,
          50000,
          120000,
          110000,
          40000,
          150000,
          80000,
          45000,
          140000,
          95000,
          50000,
          185000,
          90000,
          45000,
          120000,
          110000,
          50000,
          180000,
          45000,
          140000,
          80000,
          40000,
          145000,
          85000,
          95000,
          180000,
          95000,
          45000,
          120000,
          90000,
          55000,
          180000,
          45000,
          160000,
          120000,
          40000,
          150000,
          85000,
          100000,
          180000,
          100000,
          45000,
          140000,
          105000,
          70000,
          190000,
          50000,
          140000,
          100000,
          70000,
          160000,
          120000,
          70000,
          180000,
          95000,
          40000,
          150000,
          85000,
          100000,
          180000,
          120000,
          50000,
          40000,
          140000,
          110000,
          60000,
          180000,
          120000,
          70000,
          180000,
          95000,
          35000,
          150000,
          85000,
          110000,
          40000,
          140000,
          130000,
          40000,
          180000,
          120000,
          70000,
          180000,
          120000,
          35000,
          150000,
          85000,
          80000,
          40000,
          160000,
          130000,
          40000,
          150000,
          110000,
          50000,
          160000,
          95000,
          40000,
          150000,
          90000,
          50000,
          160000,
          85000,
          35000,
          160000,
          110000,
          50000,
          160000,
          95000,
          40000,
          150000,
          90000,
          50000,
          160000,
          85000,
          40000,
          150000
         ],
         "xaxis": "x2",
         "yaxis": "y2"
        }
       ],
       "layout": {
        "bargap": 0.1,
        "barmode": "relative",
        "legend": {
         "title": {
          "text": "Gender"
         },
         "tracegroupgap": 0
        },
        "template": {
         "data": {
          "bar": [
           {
            "error_x": {
             "color": "#2a3f5f"
            },
            "error_y": {
             "color": "#2a3f5f"
            },
            "marker": {
             "line": {
              "color": "#E5ECF6",
              "width": 0.5
             },
             "pattern": {
              "fillmode": "overlay",
              "size": 10,
              "solidity": 0.2
             }
            },
            "type": "bar"
           }
          ],
          "barpolar": [
           {
            "marker": {
             "line": {
              "color": "#E5ECF6",
              "width": 0.5
             },
             "pattern": {
              "fillmode": "overlay",
              "size": 10,
              "solidity": 0.2
             }
            },
            "type": "barpolar"
           }
          ],
          "carpet": [
           {
            "aaxis": {
             "endlinecolor": "#2a3f5f",
             "gridcolor": "white",
             "linecolor": "white",
             "minorgridcolor": "white",
             "startlinecolor": "#2a3f5f"
            },
            "baxis": {
             "endlinecolor": "#2a3f5f",
             "gridcolor": "white",
             "linecolor": "white",
             "minorgridcolor": "white",
             "startlinecolor": "#2a3f5f"
            },
            "type": "carpet"
           }
          ],
          "choropleth": [
           {
            "colorbar": {
             "outlinewidth": 0,
             "ticks": ""
            },
            "type": "choropleth"
           }
          ],
          "contour": [
           {
            "colorbar": {
             "outlinewidth": 0,
             "ticks": ""
            },
            "colorscale": [
             [
              0,
              "#0d0887"
             ],
             [
              0.1111111111111111,
              "#46039f"
             ],
             [
              0.2222222222222222,
              "#7201a8"
             ],
             [
              0.3333333333333333,
              "#9c179e"
             ],
             [
              0.4444444444444444,
              "#bd3786"
             ],
             [
              0.5555555555555556,
              "#d8576b"
             ],
             [
              0.6666666666666666,
              "#ed7953"
             ],
             [
              0.7777777777777778,
              "#fb9f3a"
             ],
             [
              0.8888888888888888,
              "#fdca26"
             ],
             [
              1,
              "#f0f921"
             ]
            ],
            "type": "contour"
           }
          ],
          "contourcarpet": [
           {
            "colorbar": {
             "outlinewidth": 0,
             "ticks": ""
            },
            "type": "contourcarpet"
           }
          ],
          "heatmap": [
           {
            "colorbar": {
             "outlinewidth": 0,
             "ticks": ""
            },
            "colorscale": [
             [
              0,
              "#0d0887"
             ],
             [
              0.1111111111111111,
              "#46039f"
             ],
             [
              0.2222222222222222,
              "#7201a8"
             ],
             [
              0.3333333333333333,
              "#9c179e"
             ],
             [
              0.4444444444444444,
              "#bd3786"
             ],
             [
              0.5555555555555556,
              "#d8576b"
             ],
             [
              0.6666666666666666,
              "#ed7953"
             ],
             [
              0.7777777777777778,
              "#fb9f3a"
             ],
             [
              0.8888888888888888,
              "#fdca26"
             ],
             [
              1,
              "#f0f921"
             ]
            ],
            "type": "heatmap"
           }
          ],
          "heatmapgl": [
           {
            "colorbar": {
             "outlinewidth": 0,
             "ticks": ""
            },
            "colorscale": [
             [
              0,
              "#0d0887"
             ],
             [
              0.1111111111111111,
              "#46039f"
             ],
             [
              0.2222222222222222,
              "#7201a8"
             ],
             [
              0.3333333333333333,
              "#9c179e"
             ],
             [
              0.4444444444444444,
              "#bd3786"
             ],
             [
              0.5555555555555556,
              "#d8576b"
             ],
             [
              0.6666666666666666,
              "#ed7953"
             ],
             [
              0.7777777777777778,
              "#fb9f3a"
             ],
             [
              0.8888888888888888,
              "#fdca26"
             ],
             [
              1,
              "#f0f921"
             ]
            ],
            "type": "heatmapgl"
           }
          ],
          "histogram": [
           {
            "marker": {
             "pattern": {
              "fillmode": "overlay",
              "size": 10,
              "solidity": 0.2
             }
            },
            "type": "histogram"
           }
          ],
          "histogram2d": [
           {
            "colorbar": {
             "outlinewidth": 0,
             "ticks": ""
            },
            "colorscale": [
             [
              0,
              "#0d0887"
             ],
             [
              0.1111111111111111,
              "#46039f"
             ],
             [
              0.2222222222222222,
              "#7201a8"
             ],
             [
              0.3333333333333333,
              "#9c179e"
             ],
             [
              0.4444444444444444,
              "#bd3786"
             ],
             [
              0.5555555555555556,
              "#d8576b"
             ],
             [
              0.6666666666666666,
              "#ed7953"
             ],
             [
              0.7777777777777778,
              "#fb9f3a"
             ],
             [
              0.8888888888888888,
              "#fdca26"
             ],
             [
              1,
              "#f0f921"
             ]
            ],
            "type": "histogram2d"
           }
          ],
          "histogram2dcontour": [
           {
            "colorbar": {
             "outlinewidth": 0,
             "ticks": ""
            },
            "colorscale": [
             [
              0,
              "#0d0887"
             ],
             [
              0.1111111111111111,
              "#46039f"
             ],
             [
              0.2222222222222222,
              "#7201a8"
             ],
             [
              0.3333333333333333,
              "#9c179e"
             ],
             [
              0.4444444444444444,
              "#bd3786"
             ],
             [
              0.5555555555555556,
              "#d8576b"
             ],
             [
              0.6666666666666666,
              "#ed7953"
             ],
             [
              0.7777777777777778,
              "#fb9f3a"
             ],
             [
              0.8888888888888888,
              "#fdca26"
             ],
             [
              1,
              "#f0f921"
             ]
            ],
            "type": "histogram2dcontour"
           }
          ],
          "mesh3d": [
           {
            "colorbar": {
             "outlinewidth": 0,
             "ticks": ""
            },
            "type": "mesh3d"
           }
          ],
          "parcoords": [
           {
            "line": {
             "colorbar": {
              "outlinewidth": 0,
              "ticks": ""
             }
            },
            "type": "parcoords"
           }
          ],
          "pie": [
           {
            "automargin": true,
            "type": "pie"
           }
          ],
          "scatter": [
           {
            "fillpattern": {
             "fillmode": "overlay",
             "size": 10,
             "solidity": 0.2
            },
            "type": "scatter"
           }
          ],
          "scatter3d": [
           {
            "line": {
             "colorbar": {
              "outlinewidth": 0,
              "ticks": ""
             }
            },
            "marker": {
             "colorbar": {
              "outlinewidth": 0,
              "ticks": ""
             }
            },
            "type": "scatter3d"
           }
          ],
          "scattercarpet": [
           {
            "marker": {
             "colorbar": {
              "outlinewidth": 0,
              "ticks": ""
             }
            },
            "type": "scattercarpet"
           }
          ],
          "scattergeo": [
           {
            "marker": {
             "colorbar": {
              "outlinewidth": 0,
              "ticks": ""
             }
            },
            "type": "scattergeo"
           }
          ],
          "scattergl": [
           {
            "marker": {
             "colorbar": {
              "outlinewidth": 0,
              "ticks": ""
             }
            },
            "type": "scattergl"
           }
          ],
          "scattermapbox": [
           {
            "marker": {
             "colorbar": {
              "outlinewidth": 0,
              "ticks": ""
             }
            },
            "type": "scattermapbox"
           }
          ],
          "scatterpolar": [
           {
            "marker": {
             "colorbar": {
              "outlinewidth": 0,
              "ticks": ""
             }
            },
            "type": "scatterpolar"
           }
          ],
          "scatterpolargl": [
           {
            "marker": {
             "colorbar": {
              "outlinewidth": 0,
              "ticks": ""
             }
            },
            "type": "scatterpolargl"
           }
          ],
          "scatterternary": [
           {
            "marker": {
             "colorbar": {
              "outlinewidth": 0,
              "ticks": ""
             }
            },
            "type": "scatterternary"
           }
          ],
          "surface": [
           {
            "colorbar": {
             "outlinewidth": 0,
             "ticks": ""
            },
            "colorscale": [
             [
              0,
              "#0d0887"
             ],
             [
              0.1111111111111111,
              "#46039f"
             ],
             [
              0.2222222222222222,
              "#7201a8"
             ],
             [
              0.3333333333333333,
              "#9c179e"
             ],
             [
              0.4444444444444444,
              "#bd3786"
             ],
             [
              0.5555555555555556,
              "#d8576b"
             ],
             [
              0.6666666666666666,
              "#ed7953"
             ],
             [
              0.7777777777777778,
              "#fb9f3a"
             ],
             [
              0.8888888888888888,
              "#fdca26"
             ],
             [
              1,
              "#f0f921"
             ]
            ],
            "type": "surface"
           }
          ],
          "table": [
           {
            "cells": {
             "fill": {
              "color": "#EBF0F8"
             },
             "line": {
              "color": "white"
             }
            },
            "header": {
             "fill": {
              "color": "#C8D4E3"
             },
             "line": {
              "color": "white"
             }
            },
            "type": "table"
           }
          ]
         },
         "layout": {
          "annotationdefaults": {
           "arrowcolor": "#2a3f5f",
           "arrowhead": 0,
           "arrowwidth": 1
          },
          "autotypenumbers": "strict",
          "coloraxis": {
           "colorbar": {
            "outlinewidth": 0,
            "ticks": ""
           }
          },
          "colorscale": {
           "diverging": [
            [
             0,
             "#8e0152"
            ],
            [
             0.1,
             "#c51b7d"
            ],
            [
             0.2,
             "#de77ae"
            ],
            [
             0.3,
             "#f1b6da"
            ],
            [
             0.4,
             "#fde0ef"
            ],
            [
             0.5,
             "#f7f7f7"
            ],
            [
             0.6,
             "#e6f5d0"
            ],
            [
             0.7,
             "#b8e186"
            ],
            [
             0.8,
             "#7fbc41"
            ],
            [
             0.9,
             "#4d9221"
            ],
            [
             1,
             "#276419"
            ]
           ],
           "sequential": [
            [
             0,
             "#0d0887"
            ],
            [
             0.1111111111111111,
             "#46039f"
            ],
            [
             0.2222222222222222,
             "#7201a8"
            ],
            [
             0.3333333333333333,
             "#9c179e"
            ],
            [
             0.4444444444444444,
             "#bd3786"
            ],
            [
             0.5555555555555556,
             "#d8576b"
            ],
            [
             0.6666666666666666,
             "#ed7953"
            ],
            [
             0.7777777777777778,
             "#fb9f3a"
            ],
            [
             0.8888888888888888,
             "#fdca26"
            ],
            [
             1,
             "#f0f921"
            ]
           ],
           "sequentialminus": [
            [
             0,
             "#0d0887"
            ],
            [
             0.1111111111111111,
             "#46039f"
            ],
            [
             0.2222222222222222,
             "#7201a8"
            ],
            [
             0.3333333333333333,
             "#9c179e"
            ],
            [
             0.4444444444444444,
             "#bd3786"
            ],
            [
             0.5555555555555556,
             "#d8576b"
            ],
            [
             0.6666666666666666,
             "#ed7953"
            ],
            [
             0.7777777777777778,
             "#fb9f3a"
            ],
            [
             0.8888888888888888,
             "#fdca26"
            ],
            [
             1,
             "#f0f921"
            ]
           ]
          },
          "colorway": [
           "#636efa",
           "#EF553B",
           "#00cc96",
           "#ab63fa",
           "#FFA15A",
           "#19d3f3",
           "#FF6692",
           "#B6E880",
           "#FF97FF",
           "#FECB52"
          ],
          "font": {
           "color": "#2a3f5f"
          },
          "geo": {
           "bgcolor": "white",
           "lakecolor": "white",
           "landcolor": "#E5ECF6",
           "showlakes": true,
           "showland": true,
           "subunitcolor": "white"
          },
          "hoverlabel": {
           "align": "left"
          },
          "hovermode": "closest",
          "mapbox": {
           "style": "light"
          },
          "paper_bgcolor": "white",
          "plot_bgcolor": "#E5ECF6",
          "polar": {
           "angularaxis": {
            "gridcolor": "white",
            "linecolor": "white",
            "ticks": ""
           },
           "bgcolor": "#E5ECF6",
           "radialaxis": {
            "gridcolor": "white",
            "linecolor": "white",
            "ticks": ""
           }
          },
          "scene": {
           "xaxis": {
            "backgroundcolor": "#E5ECF6",
            "gridcolor": "white",
            "gridwidth": 2,
            "linecolor": "white",
            "showbackground": true,
            "ticks": "",
            "zerolinecolor": "white"
           },
           "yaxis": {
            "backgroundcolor": "#E5ECF6",
            "gridcolor": "white",
            "gridwidth": 2,
            "linecolor": "white",
            "showbackground": true,
            "ticks": "",
            "zerolinecolor": "white"
           },
           "zaxis": {
            "backgroundcolor": "#E5ECF6",
            "gridcolor": "white",
            "gridwidth": 2,
            "linecolor": "white",
            "showbackground": true,
            "ticks": "",
            "zerolinecolor": "white"
           }
          },
          "shapedefaults": {
           "line": {
            "color": "#2a3f5f"
           }
          },
          "ternary": {
           "aaxis": {
            "gridcolor": "white",
            "linecolor": "white",
            "ticks": ""
           },
           "baxis": {
            "gridcolor": "white",
            "linecolor": "white",
            "ticks": ""
           },
           "bgcolor": "#E5ECF6",
           "caxis": {
            "gridcolor": "white",
            "linecolor": "white",
            "ticks": ""
           }
          },
          "title": {
           "x": 0.05
          },
          "xaxis": {
           "automargin": true,
           "gridcolor": "white",
           "linecolor": "white",
           "ticks": "",
           "title": {
            "standoff": 15
           },
           "zerolinecolor": "white",
           "zerolinewidth": 2
          },
          "yaxis": {
           "automargin": true,
           "gridcolor": "white",
           "linecolor": "white",
           "ticks": "",
           "title": {
            "standoff": 15
           },
           "zerolinecolor": "white",
           "zerolinewidth": 2
          }
         }
        },
        "title": {
         "text": "Annual Employee Salaries"
        },
        "xaxis": {
         "anchor": "y",
         "domain": [
          0,
          1
         ],
         "title": {
          "text": "Salary"
         }
        },
        "xaxis2": {
         "anchor": "y2",
         "domain": [
          0,
          1
         ],
         "matches": "x",
         "showgrid": true,
         "showticklabels": false
        },
        "yaxis": {
         "anchor": "x",
         "domain": [
          0,
          0.7326
         ],
         "title": {
          "text": "count"
         }
        },
        "yaxis2": {
         "anchor": "x2",
         "domain": [
          0.7426,
          1
         ],
         "matches": "y2",
         "showgrid": false,
         "showline": false,
         "showticklabels": false,
         "ticks": ""
        }
       }
      }
     },
     "metadata": {},
     "output_type": "display_data"
    }
   ],
   "source": [
    "fig = px.histogram(data, \n",
    "                   x='Salary', \n",
    "                   marginal='box', \n",
    "                   color='Gender', \n",
    "                   color_discrete_sequence=[ 'turquoise', '#CB0000'], \n",
    "                   title='Annual Employee Salaries')\n",
    "fig.update_layout(bargap=0.1)\n",
    "fig.show()"
   ]
  },
  {
   "cell_type": "markdown",
   "metadata": {},
   "source": [
    "Based on this graph, we can make the following obersvations\n",
    "* A majority of the employees are making money within $100,000 a year or a little bit lower than that, and only a small portion of employees are making well above 100k (greater than $150,000).\n",
    "* There isn't a significant difference between men and women's salaries, as the median for women is 90k while the median for men is 100k; however, the maximum for men is much higher than the maximum for women.\n",
    "\n",
    "Instead of using gender, let's use level of education to display employee salaries now."
   ]
  },
  {
   "cell_type": "code",
   "execution_count": 19,
   "metadata": {},
   "outputs": [
    {
     "data": {
      "application/vnd.plotly.v1+json": {
       "config": {
        "plotlyServerURL": "https://plot.ly"
       },
       "data": [
        {
         "alignmentgroup": "True",
         "bingroup": "x",
         "hovertemplate": "Education Level=Bachelor's<br>Salary=%{x}<br>count=%{y}<extra></extra>",
         "legendgroup": "Bachelor's",
         "marker": {
          "color": "#46211A",
          "pattern": {
           "shape": ""
          }
         },
         "name": "Bachelor's",
         "offsetgroup": "Bachelor's",
         "orientation": "v",
         "showlegend": true,
         "type": "histogram",
         "x": [
          90000,
          60000,
          55000,
          80000,
          45000,
          140000,
          65000,
          40000,
          125000,
          35000,
          180000,
          50000,
          60000,
          45000,
          40000,
          250000,
          55000,
          65000,
          45000,
          60000,
          40000,
          160000,
          60000,
          45000,
          40000,
          75000,
          35000,
          130000,
          60000,
          50000,
          95000,
          55000,
          50000,
          80000,
          35000,
          120000,
          45000,
          65000,
          70000,
          40000,
          95000,
          160000,
          55000,
          70000,
          30000,
          40000,
          45000,
          80000,
          55000,
          40000,
          105000,
          75000,
          65000,
          35000,
          110000,
          45000,
          50000,
          50000,
          60000,
          40000,
          95000,
          130000,
          35000,
          65000,
          45000,
          100000,
          50000,
          80000,
          40000,
          110000,
          50000,
          45000,
          35000,
          55000,
          50000,
          60000,
          40000,
          50000,
          135000,
          90000,
          60000,
          80000,
          45000,
          35000,
          110000,
          50000,
          40000,
          90000,
          45000,
          80000,
          35000,
          110000,
          50000,
          40000,
          140000,
          85000,
          50000,
          80000,
          40000,
          40000,
          85000,
          130000,
          100000,
          35000,
          95000,
          45000,
          95000,
          40000,
          90000,
          55000,
          45000,
          130000,
          90000,
          50000,
          120000,
          40000,
          40000,
          85000,
          130000,
          95000,
          35000,
          100000,
          45000,
          100000,
          40000,
          105000,
          70000,
          45000,
          120000,
          85000,
          45000,
          100000,
          70000,
          120000,
          40000,
          120000,
          70000,
          95000,
          50000,
          95000,
          40000,
          40000,
          85000,
          130000,
          95000,
          120000,
          50000,
          110000,
          40000,
          95000,
          60000,
          110000,
          60000,
          90000,
          40000,
          120000,
          70000,
          95000,
          50000,
          95000,
          35000,
          100000,
          60000,
          85000,
          130000,
          65000,
          110000,
          40000,
          90000,
          60000,
          130000,
          40000,
          100000,
          55000,
          120000,
          70000,
          95000,
          50000,
          120000,
          35000,
          100000,
          60000,
          85000,
          130000,
          95000,
          40000,
          120000,
          65000,
          130000,
          40000,
          100000,
          55000,
          110000,
          50000,
          130000,
          60000,
          95000,
          40000,
          90000,
          70000,
          90000,
          50000,
          150000,
          60000,
          85000,
          35000,
          110000,
          55000,
          110000,
          50000,
          130000,
          60000,
          95000,
          40000,
          90000,
          70000,
          90000,
          50000,
          150000,
          60000,
          85000,
          40000,
          90000
         ],
         "xaxis": "x",
         "yaxis": "y"
        },
        {
         "alignmentgroup": "True",
         "hovertemplate": "Education Level=Bachelor's<br>Salary=%{x}<extra></extra>",
         "legendgroup": "Bachelor's",
         "marker": {
          "color": "#46211A"
         },
         "name": "Bachelor's",
         "notched": true,
         "offsetgroup": "Bachelor's",
         "showlegend": false,
         "type": "box",
         "x": [
          90000,
          60000,
          55000,
          80000,
          45000,
          140000,
          65000,
          40000,
          125000,
          35000,
          180000,
          50000,
          60000,
          45000,
          40000,
          250000,
          55000,
          65000,
          45000,
          60000,
          40000,
          160000,
          60000,
          45000,
          40000,
          75000,
          35000,
          130000,
          60000,
          50000,
          95000,
          55000,
          50000,
          80000,
          35000,
          120000,
          45000,
          65000,
          70000,
          40000,
          95000,
          160000,
          55000,
          70000,
          30000,
          40000,
          45000,
          80000,
          55000,
          40000,
          105000,
          75000,
          65000,
          35000,
          110000,
          45000,
          50000,
          50000,
          60000,
          40000,
          95000,
          130000,
          35000,
          65000,
          45000,
          100000,
          50000,
          80000,
          40000,
          110000,
          50000,
          45000,
          35000,
          55000,
          50000,
          60000,
          40000,
          50000,
          135000,
          90000,
          60000,
          80000,
          45000,
          35000,
          110000,
          50000,
          40000,
          90000,
          45000,
          80000,
          35000,
          110000,
          50000,
          40000,
          140000,
          85000,
          50000,
          80000,
          40000,
          40000,
          85000,
          130000,
          100000,
          35000,
          95000,
          45000,
          95000,
          40000,
          90000,
          55000,
          45000,
          130000,
          90000,
          50000,
          120000,
          40000,
          40000,
          85000,
          130000,
          95000,
          35000,
          100000,
          45000,
          100000,
          40000,
          105000,
          70000,
          45000,
          120000,
          85000,
          45000,
          100000,
          70000,
          120000,
          40000,
          120000,
          70000,
          95000,
          50000,
          95000,
          40000,
          40000,
          85000,
          130000,
          95000,
          120000,
          50000,
          110000,
          40000,
          95000,
          60000,
          110000,
          60000,
          90000,
          40000,
          120000,
          70000,
          95000,
          50000,
          95000,
          35000,
          100000,
          60000,
          85000,
          130000,
          65000,
          110000,
          40000,
          90000,
          60000,
          130000,
          40000,
          100000,
          55000,
          120000,
          70000,
          95000,
          50000,
          120000,
          35000,
          100000,
          60000,
          85000,
          130000,
          95000,
          40000,
          120000,
          65000,
          130000,
          40000,
          100000,
          55000,
          110000,
          50000,
          130000,
          60000,
          95000,
          40000,
          90000,
          70000,
          90000,
          50000,
          150000,
          60000,
          85000,
          35000,
          110000,
          55000,
          110000,
          50000,
          130000,
          60000,
          95000,
          40000,
          90000,
          70000,
          90000,
          50000,
          150000,
          60000,
          85000,
          40000,
          90000
         ],
         "xaxis": "x2",
         "yaxis": "y2"
        },
        {
         "alignmentgroup": "True",
         "bingroup": "x",
         "hovertemplate": "Education Level=Master's<br>Salary=%{x}<br>count=%{y}<extra></extra>",
         "legendgroup": "Master's",
         "marker": {
          "color": "#A43820",
          "pattern": {
           "shape": ""
          }
         },
         "name": "Master's",
         "offsetgroup": "Master's",
         "orientation": "v",
         "showlegend": true,
         "type": "histogram",
         "x": [
          65000,
          200000,
          120000,
          75000,
          130000,
          90000,
          80000,
          190000,
          140000,
          110000,
          90000,
          75000,
          115000,
          80000,
          190000,
          130000,
          180000,
          85000,
          200000,
          65000,
          105000,
          170000,
          90000,
          90000,
          150000,
          120000,
          100000,
          180000,
          80000,
          95000,
          135000,
          170000,
          90000,
          95000,
          150000,
          80000,
          100000,
          110000,
          90000,
          95000,
          120000,
          180000,
          95000,
          105000,
          160000,
          100000,
          140000,
          120000,
          110000,
          40000,
          175000,
          120000,
          95000,
          115000,
          175000,
          120000,
          105000,
          180000,
          45000,
          170000,
          105000,
          95000,
          170000,
          120000,
          110000,
          180000,
          45000,
          170000,
          110000,
          100000,
          170000,
          140000,
          120000,
          190000,
          50000,
          140000,
          180000,
          170000,
          110000,
          100000,
          140000,
          180000,
          180000,
          170000,
          140000,
          180000,
          180000,
          170000,
          80000,
          160000,
          180000,
          170000,
          170000,
          180000,
          180000,
          170000,
          170000,
          170000
         ],
         "xaxis": "x",
         "yaxis": "y"
        },
        {
         "alignmentgroup": "True",
         "hovertemplate": "Education Level=Master's<br>Salary=%{x}<extra></extra>",
         "legendgroup": "Master's",
         "marker": {
          "color": "#A43820"
         },
         "name": "Master's",
         "notched": true,
         "offsetgroup": "Master's",
         "showlegend": false,
         "type": "box",
         "x": [
          65000,
          200000,
          120000,
          75000,
          130000,
          90000,
          80000,
          190000,
          140000,
          110000,
          90000,
          75000,
          115000,
          80000,
          190000,
          130000,
          180000,
          85000,
          200000,
          65000,
          105000,
          170000,
          90000,
          90000,
          150000,
          120000,
          100000,
          180000,
          80000,
          95000,
          135000,
          170000,
          90000,
          95000,
          150000,
          80000,
          100000,
          110000,
          90000,
          95000,
          120000,
          180000,
          95000,
          105000,
          160000,
          100000,
          140000,
          120000,
          110000,
          40000,
          175000,
          120000,
          95000,
          115000,
          175000,
          120000,
          105000,
          180000,
          45000,
          170000,
          105000,
          95000,
          170000,
          120000,
          110000,
          180000,
          45000,
          170000,
          110000,
          100000,
          170000,
          140000,
          120000,
          190000,
          50000,
          140000,
          180000,
          170000,
          110000,
          100000,
          140000,
          180000,
          180000,
          170000,
          140000,
          180000,
          180000,
          170000,
          80000,
          160000,
          180000,
          170000,
          170000,
          180000,
          180000,
          170000,
          170000,
          170000
         ],
         "xaxis": "x2",
         "yaxis": "y2"
        },
        {
         "alignmentgroup": "True",
         "bingroup": "x",
         "hovertemplate": "Education Level=PhD<br>Salary=%{x}<br>count=%{y}<extra></extra>",
         "legendgroup": "PhD",
         "marker": {
          "color": "#F1D3B2",
          "pattern": {
           "shape": ""
          }
         },
         "name": "PhD",
         "offsetgroup": "PhD",
         "orientation": "v",
         "showlegend": true,
         "type": "histogram",
         "x": [
          150000,
          110000,
          115000,
          140000,
          170000,
          120000,
          140000,
          180000,
          190000,
          250000,
          120000,
          160000,
          220000,
          170000,
          140000,
          160000,
          150000,
          140000,
          185000,
          150000,
          140000,
          145000,
          180000,
          155000,
          160000,
          150000,
          180000,
          160000,
          140000,
          160000,
          150000,
          150000,
          180000,
          160000,
          150000,
          160000,
          150000,
          180000,
          160000,
          150000,
          150000,
          180000,
          150000,
          160000,
          150000,
          160000,
          160000,
          160000,
          150000,
          160000,
          150000
         ],
         "xaxis": "x",
         "yaxis": "y"
        },
        {
         "alignmentgroup": "True",
         "hovertemplate": "Education Level=PhD<br>Salary=%{x}<extra></extra>",
         "legendgroup": "PhD",
         "marker": {
          "color": "#F1D3B2"
         },
         "name": "PhD",
         "notched": true,
         "offsetgroup": "PhD",
         "showlegend": false,
         "type": "box",
         "x": [
          150000,
          110000,
          115000,
          140000,
          170000,
          120000,
          140000,
          180000,
          190000,
          250000,
          120000,
          160000,
          220000,
          170000,
          140000,
          160000,
          150000,
          140000,
          185000,
          150000,
          140000,
          145000,
          180000,
          155000,
          160000,
          150000,
          180000,
          160000,
          140000,
          160000,
          150000,
          150000,
          180000,
          160000,
          150000,
          160000,
          150000,
          180000,
          160000,
          150000,
          150000,
          180000,
          150000,
          160000,
          150000,
          160000,
          160000,
          160000,
          150000,
          160000,
          150000
         ],
         "xaxis": "x2",
         "yaxis": "y2"
        }
       ],
       "layout": {
        "bargap": 0.1,
        "barmode": "relative",
        "legend": {
         "title": {
          "text": "Education Level"
         },
         "tracegroupgap": 0
        },
        "template": {
         "data": {
          "bar": [
           {
            "error_x": {
             "color": "#2a3f5f"
            },
            "error_y": {
             "color": "#2a3f5f"
            },
            "marker": {
             "line": {
              "color": "#E5ECF6",
              "width": 0.5
             },
             "pattern": {
              "fillmode": "overlay",
              "size": 10,
              "solidity": 0.2
             }
            },
            "type": "bar"
           }
          ],
          "barpolar": [
           {
            "marker": {
             "line": {
              "color": "#E5ECF6",
              "width": 0.5
             },
             "pattern": {
              "fillmode": "overlay",
              "size": 10,
              "solidity": 0.2
             }
            },
            "type": "barpolar"
           }
          ],
          "carpet": [
           {
            "aaxis": {
             "endlinecolor": "#2a3f5f",
             "gridcolor": "white",
             "linecolor": "white",
             "minorgridcolor": "white",
             "startlinecolor": "#2a3f5f"
            },
            "baxis": {
             "endlinecolor": "#2a3f5f",
             "gridcolor": "white",
             "linecolor": "white",
             "minorgridcolor": "white",
             "startlinecolor": "#2a3f5f"
            },
            "type": "carpet"
           }
          ],
          "choropleth": [
           {
            "colorbar": {
             "outlinewidth": 0,
             "ticks": ""
            },
            "type": "choropleth"
           }
          ],
          "contour": [
           {
            "colorbar": {
             "outlinewidth": 0,
             "ticks": ""
            },
            "colorscale": [
             [
              0,
              "#0d0887"
             ],
             [
              0.1111111111111111,
              "#46039f"
             ],
             [
              0.2222222222222222,
              "#7201a8"
             ],
             [
              0.3333333333333333,
              "#9c179e"
             ],
             [
              0.4444444444444444,
              "#bd3786"
             ],
             [
              0.5555555555555556,
              "#d8576b"
             ],
             [
              0.6666666666666666,
              "#ed7953"
             ],
             [
              0.7777777777777778,
              "#fb9f3a"
             ],
             [
              0.8888888888888888,
              "#fdca26"
             ],
             [
              1,
              "#f0f921"
             ]
            ],
            "type": "contour"
           }
          ],
          "contourcarpet": [
           {
            "colorbar": {
             "outlinewidth": 0,
             "ticks": ""
            },
            "type": "contourcarpet"
           }
          ],
          "heatmap": [
           {
            "colorbar": {
             "outlinewidth": 0,
             "ticks": ""
            },
            "colorscale": [
             [
              0,
              "#0d0887"
             ],
             [
              0.1111111111111111,
              "#46039f"
             ],
             [
              0.2222222222222222,
              "#7201a8"
             ],
             [
              0.3333333333333333,
              "#9c179e"
             ],
             [
              0.4444444444444444,
              "#bd3786"
             ],
             [
              0.5555555555555556,
              "#d8576b"
             ],
             [
              0.6666666666666666,
              "#ed7953"
             ],
             [
              0.7777777777777778,
              "#fb9f3a"
             ],
             [
              0.8888888888888888,
              "#fdca26"
             ],
             [
              1,
              "#f0f921"
             ]
            ],
            "type": "heatmap"
           }
          ],
          "heatmapgl": [
           {
            "colorbar": {
             "outlinewidth": 0,
             "ticks": ""
            },
            "colorscale": [
             [
              0,
              "#0d0887"
             ],
             [
              0.1111111111111111,
              "#46039f"
             ],
             [
              0.2222222222222222,
              "#7201a8"
             ],
             [
              0.3333333333333333,
              "#9c179e"
             ],
             [
              0.4444444444444444,
              "#bd3786"
             ],
             [
              0.5555555555555556,
              "#d8576b"
             ],
             [
              0.6666666666666666,
              "#ed7953"
             ],
             [
              0.7777777777777778,
              "#fb9f3a"
             ],
             [
              0.8888888888888888,
              "#fdca26"
             ],
             [
              1,
              "#f0f921"
             ]
            ],
            "type": "heatmapgl"
           }
          ],
          "histogram": [
           {
            "marker": {
             "pattern": {
              "fillmode": "overlay",
              "size": 10,
              "solidity": 0.2
             }
            },
            "type": "histogram"
           }
          ],
          "histogram2d": [
           {
            "colorbar": {
             "outlinewidth": 0,
             "ticks": ""
            },
            "colorscale": [
             [
              0,
              "#0d0887"
             ],
             [
              0.1111111111111111,
              "#46039f"
             ],
             [
              0.2222222222222222,
              "#7201a8"
             ],
             [
              0.3333333333333333,
              "#9c179e"
             ],
             [
              0.4444444444444444,
              "#bd3786"
             ],
             [
              0.5555555555555556,
              "#d8576b"
             ],
             [
              0.6666666666666666,
              "#ed7953"
             ],
             [
              0.7777777777777778,
              "#fb9f3a"
             ],
             [
              0.8888888888888888,
              "#fdca26"
             ],
             [
              1,
              "#f0f921"
             ]
            ],
            "type": "histogram2d"
           }
          ],
          "histogram2dcontour": [
           {
            "colorbar": {
             "outlinewidth": 0,
             "ticks": ""
            },
            "colorscale": [
             [
              0,
              "#0d0887"
             ],
             [
              0.1111111111111111,
              "#46039f"
             ],
             [
              0.2222222222222222,
              "#7201a8"
             ],
             [
              0.3333333333333333,
              "#9c179e"
             ],
             [
              0.4444444444444444,
              "#bd3786"
             ],
             [
              0.5555555555555556,
              "#d8576b"
             ],
             [
              0.6666666666666666,
              "#ed7953"
             ],
             [
              0.7777777777777778,
              "#fb9f3a"
             ],
             [
              0.8888888888888888,
              "#fdca26"
             ],
             [
              1,
              "#f0f921"
             ]
            ],
            "type": "histogram2dcontour"
           }
          ],
          "mesh3d": [
           {
            "colorbar": {
             "outlinewidth": 0,
             "ticks": ""
            },
            "type": "mesh3d"
           }
          ],
          "parcoords": [
           {
            "line": {
             "colorbar": {
              "outlinewidth": 0,
              "ticks": ""
             }
            },
            "type": "parcoords"
           }
          ],
          "pie": [
           {
            "automargin": true,
            "type": "pie"
           }
          ],
          "scatter": [
           {
            "fillpattern": {
             "fillmode": "overlay",
             "size": 10,
             "solidity": 0.2
            },
            "type": "scatter"
           }
          ],
          "scatter3d": [
           {
            "line": {
             "colorbar": {
              "outlinewidth": 0,
              "ticks": ""
             }
            },
            "marker": {
             "colorbar": {
              "outlinewidth": 0,
              "ticks": ""
             }
            },
            "type": "scatter3d"
           }
          ],
          "scattercarpet": [
           {
            "marker": {
             "colorbar": {
              "outlinewidth": 0,
              "ticks": ""
             }
            },
            "type": "scattercarpet"
           }
          ],
          "scattergeo": [
           {
            "marker": {
             "colorbar": {
              "outlinewidth": 0,
              "ticks": ""
             }
            },
            "type": "scattergeo"
           }
          ],
          "scattergl": [
           {
            "marker": {
             "colorbar": {
              "outlinewidth": 0,
              "ticks": ""
             }
            },
            "type": "scattergl"
           }
          ],
          "scattermapbox": [
           {
            "marker": {
             "colorbar": {
              "outlinewidth": 0,
              "ticks": ""
             }
            },
            "type": "scattermapbox"
           }
          ],
          "scatterpolar": [
           {
            "marker": {
             "colorbar": {
              "outlinewidth": 0,
              "ticks": ""
             }
            },
            "type": "scatterpolar"
           }
          ],
          "scatterpolargl": [
           {
            "marker": {
             "colorbar": {
              "outlinewidth": 0,
              "ticks": ""
             }
            },
            "type": "scatterpolargl"
           }
          ],
          "scatterternary": [
           {
            "marker": {
             "colorbar": {
              "outlinewidth": 0,
              "ticks": ""
             }
            },
            "type": "scatterternary"
           }
          ],
          "surface": [
           {
            "colorbar": {
             "outlinewidth": 0,
             "ticks": ""
            },
            "colorscale": [
             [
              0,
              "#0d0887"
             ],
             [
              0.1111111111111111,
              "#46039f"
             ],
             [
              0.2222222222222222,
              "#7201a8"
             ],
             [
              0.3333333333333333,
              "#9c179e"
             ],
             [
              0.4444444444444444,
              "#bd3786"
             ],
             [
              0.5555555555555556,
              "#d8576b"
             ],
             [
              0.6666666666666666,
              "#ed7953"
             ],
             [
              0.7777777777777778,
              "#fb9f3a"
             ],
             [
              0.8888888888888888,
              "#fdca26"
             ],
             [
              1,
              "#f0f921"
             ]
            ],
            "type": "surface"
           }
          ],
          "table": [
           {
            "cells": {
             "fill": {
              "color": "#EBF0F8"
             },
             "line": {
              "color": "white"
             }
            },
            "header": {
             "fill": {
              "color": "#C8D4E3"
             },
             "line": {
              "color": "white"
             }
            },
            "type": "table"
           }
          ]
         },
         "layout": {
          "annotationdefaults": {
           "arrowcolor": "#2a3f5f",
           "arrowhead": 0,
           "arrowwidth": 1
          },
          "autotypenumbers": "strict",
          "coloraxis": {
           "colorbar": {
            "outlinewidth": 0,
            "ticks": ""
           }
          },
          "colorscale": {
           "diverging": [
            [
             0,
             "#8e0152"
            ],
            [
             0.1,
             "#c51b7d"
            ],
            [
             0.2,
             "#de77ae"
            ],
            [
             0.3,
             "#f1b6da"
            ],
            [
             0.4,
             "#fde0ef"
            ],
            [
             0.5,
             "#f7f7f7"
            ],
            [
             0.6,
             "#e6f5d0"
            ],
            [
             0.7,
             "#b8e186"
            ],
            [
             0.8,
             "#7fbc41"
            ],
            [
             0.9,
             "#4d9221"
            ],
            [
             1,
             "#276419"
            ]
           ],
           "sequential": [
            [
             0,
             "#0d0887"
            ],
            [
             0.1111111111111111,
             "#46039f"
            ],
            [
             0.2222222222222222,
             "#7201a8"
            ],
            [
             0.3333333333333333,
             "#9c179e"
            ],
            [
             0.4444444444444444,
             "#bd3786"
            ],
            [
             0.5555555555555556,
             "#d8576b"
            ],
            [
             0.6666666666666666,
             "#ed7953"
            ],
            [
             0.7777777777777778,
             "#fb9f3a"
            ],
            [
             0.8888888888888888,
             "#fdca26"
            ],
            [
             1,
             "#f0f921"
            ]
           ],
           "sequentialminus": [
            [
             0,
             "#0d0887"
            ],
            [
             0.1111111111111111,
             "#46039f"
            ],
            [
             0.2222222222222222,
             "#7201a8"
            ],
            [
             0.3333333333333333,
             "#9c179e"
            ],
            [
             0.4444444444444444,
             "#bd3786"
            ],
            [
             0.5555555555555556,
             "#d8576b"
            ],
            [
             0.6666666666666666,
             "#ed7953"
            ],
            [
             0.7777777777777778,
             "#fb9f3a"
            ],
            [
             0.8888888888888888,
             "#fdca26"
            ],
            [
             1,
             "#f0f921"
            ]
           ]
          },
          "colorway": [
           "#636efa",
           "#EF553B",
           "#00cc96",
           "#ab63fa",
           "#FFA15A",
           "#19d3f3",
           "#FF6692",
           "#B6E880",
           "#FF97FF",
           "#FECB52"
          ],
          "font": {
           "color": "#2a3f5f"
          },
          "geo": {
           "bgcolor": "white",
           "lakecolor": "white",
           "landcolor": "#E5ECF6",
           "showlakes": true,
           "showland": true,
           "subunitcolor": "white"
          },
          "hoverlabel": {
           "align": "left"
          },
          "hovermode": "closest",
          "mapbox": {
           "style": "light"
          },
          "paper_bgcolor": "white",
          "plot_bgcolor": "#E5ECF6",
          "polar": {
           "angularaxis": {
            "gridcolor": "white",
            "linecolor": "white",
            "ticks": ""
           },
           "bgcolor": "#E5ECF6",
           "radialaxis": {
            "gridcolor": "white",
            "linecolor": "white",
            "ticks": ""
           }
          },
          "scene": {
           "xaxis": {
            "backgroundcolor": "#E5ECF6",
            "gridcolor": "white",
            "gridwidth": 2,
            "linecolor": "white",
            "showbackground": true,
            "ticks": "",
            "zerolinecolor": "white"
           },
           "yaxis": {
            "backgroundcolor": "#E5ECF6",
            "gridcolor": "white",
            "gridwidth": 2,
            "linecolor": "white",
            "showbackground": true,
            "ticks": "",
            "zerolinecolor": "white"
           },
           "zaxis": {
            "backgroundcolor": "#E5ECF6",
            "gridcolor": "white",
            "gridwidth": 2,
            "linecolor": "white",
            "showbackground": true,
            "ticks": "",
            "zerolinecolor": "white"
           }
          },
          "shapedefaults": {
           "line": {
            "color": "#2a3f5f"
           }
          },
          "ternary": {
           "aaxis": {
            "gridcolor": "white",
            "linecolor": "white",
            "ticks": ""
           },
           "baxis": {
            "gridcolor": "white",
            "linecolor": "white",
            "ticks": ""
           },
           "bgcolor": "#E5ECF6",
           "caxis": {
            "gridcolor": "white",
            "linecolor": "white",
            "ticks": ""
           }
          },
          "title": {
           "x": 0.05
          },
          "xaxis": {
           "automargin": true,
           "gridcolor": "white",
           "linecolor": "white",
           "ticks": "",
           "title": {
            "standoff": 15
           },
           "zerolinecolor": "white",
           "zerolinewidth": 2
          },
          "yaxis": {
           "automargin": true,
           "gridcolor": "white",
           "linecolor": "white",
           "ticks": "",
           "title": {
            "standoff": 15
           },
           "zerolinecolor": "white",
           "zerolinewidth": 2
          }
         }
        },
        "title": {
         "text": "Annual Employee Salaries"
        },
        "xaxis": {
         "anchor": "y",
         "domain": [
          0,
          1
         ],
         "title": {
          "text": "Salary"
         }
        },
        "xaxis2": {
         "anchor": "y2",
         "domain": [
          0,
          1
         ],
         "matches": "x",
         "showgrid": true,
         "showticklabels": false
        },
        "yaxis": {
         "anchor": "x",
         "domain": [
          0,
          0.7326
         ],
         "title": {
          "text": "count"
         }
        },
        "yaxis2": {
         "anchor": "x2",
         "domain": [
          0.7426,
          1
         ],
         "matches": "y2",
         "showgrid": false,
         "showline": false,
         "showticklabels": false,
         "ticks": ""
        }
       }
      }
     },
     "metadata": {},
     "output_type": "display_data"
    }
   ],
   "source": [
    "fig = px.histogram(data, \n",
    "                   x='Salary', \n",
    "                   marginal='box', \n",
    "                   color='Education Level', \n",
    "                   color_discrete_sequence=['#46211A', '#A43820', \"#F1D3B2\"], \n",
    "                   title='Annual Employee Salaries')\n",
    "fig.update_layout(bargap=0.1)\n",
    "fig.show()"
   ]
  },
  {
   "cell_type": "markdown",
   "metadata": {},
   "source": [
    "Based on this graph, we can observe that those with a PhD earn a much higher salary than those with Bachelor's or Master's, which is expected, and that most of the lower income jobs are held by those with just a Bachelor's Degree.\n",
    "\n",
    "Now that we have looked at individual columns, let's now visualize the relationship between the salary column and other columns."
   ]
  },
  {
   "cell_type": "markdown",
   "metadata": {},
   "source": [
    "### Age and Salary\n",
    "\n",
    "Let's visualize the relationship between age and salary using a scatter plot, where each point on the scatter plot would represent one employee. We'll also use values from the gender column to color the points."
   ]
  },
  {
   "cell_type": "code",
   "execution_count": 20,
   "metadata": {},
   "outputs": [
    {
     "data": {
      "application/vnd.plotly.v1+json": {
       "config": {
        "plotlyServerURL": "https://plot.ly"
       },
       "data": [
        {
         "customdata": [
          [
           "Software Engineer"
          ],
          [
           "Senior Manager"
          ],
          [
           "Director"
          ],
          [
           "Marketing Analyst"
          ],
          [
           "Sales Manager"
          ],
          [
           "Senior Scientist"
          ],
          [
           "Software Developer"
          ],
          [
           "Financial Analyst"
          ],
          [
           "Customer Service Rep"
          ],
          [
           "Operations Manager"
          ],
          [
           "Senior Engineer"
          ],
          [
           "Sales Director"
          ],
          [
           "VP of Operations"
          ],
          [
           "IT Support"
          ],
          [
           "Financial Manager"
          ],
          [
           "Junior Developer"
          ],
          [
           "Product Designer"
          ],
          [
           "CEO"
          ],
          [
           "Data Scientist"
          ],
          [
           "Senior Manager"
          ],
          [
           "Technical Writer"
          ],
          [
           "Project Engineer"
          ],
          [
           "Sales Executive"
          ],
          [
           "Operations Director"
          ],
          [
           "Network Engineer"
          ],
          [
           "Strategy Consultant"
          ],
          [
           "Account Manager"
          ],
          [
           "Senior Scientist"
          ],
          [
           "Help Desk Analyst"
          ],
          [
           "Business Intelligence Analyst"
          ],
          [
           "VP of Finance"
          ],
          [
           "Sales Manager"
          ],
          [
           "Senior Engineer"
          ],
          [
           "Product Manager"
          ],
          [
           "Marketing Analyst"
          ],
          [
           "Senior Data Scientist"
          ],
          [
           "Junior Accountant"
          ],
          [
           "IT Manager"
          ],
          [
           "Business Development Manager"
          ],
          [
           "Web Developer"
          ],
          [
           "Research Director"
          ],
          [
           "Technical Support Specialist"
          ],
          [
           "Project Manager"
          ],
          [
           "Senior Software Engineer"
          ],
          [
           "Technical Recruiter"
          ],
          [
           "Sales Representative"
          ],
          [
           "Chief Technology Officer"
          ],
          [
           "Junior Account Manager"
          ],
          [
           "Senior Project Manager"
          ],
          [
           "Principal Scientist"
          ],
          [
           "Supply Chain Manager"
          ],
          [
           "Business Analyst"
          ],
          [
           "Research Scientist"
          ],
          [
           "Junior Software Developer"
          ],
          [
           "Operations Analyst"
          ],
          [
           "Product Marketing Manager"
          ],
          [
           "Junior Web Developer"
          ],
          [
           "Chief Data Officer"
          ],
          [
           "IT Support Specialist"
          ],
          [
           "Customer Success Manager"
          ],
          [
           "Software Project Manager"
          ],
          [
           "Senior Business Analyst"
          ],
          [
           "Senior Financial Analyst"
          ],
          [
           "Principal Engineer"
          ],
          [
           "Senior Product Manager"
          ],
          [
           "Director of Marketing"
          ],
          [
           "Customer Service Manager"
          ],
          [
           "Junior Accountant"
          ],
          [
           "Sales Operations Manager"
          ],
          [
           "Senior Software Developer"
          ],
          [
           "Junior Web Designer"
          ],
          [
           "Senior Research Scientist"
          ],
          [
           "Junior Sales Representative"
          ],
          [
           "Senior Project Manager"
          ],
          [
           "Junior Data Analyst"
          ],
          [
           "Junior Business Analyst"
          ],
          [
           "Junior Software Developer"
          ],
          [
           "Senior Sales Manager"
          ],
          [
           "Senior Business Analyst"
          ],
          [
           "Junior Project Manager"
          ],
          [
           "Director of Sales"
          ],
          [
           "Senior Business Development Manager"
          ],
          [
           "Junior Customer Support Specialist"
          ],
          [
           "Senior IT Support Specialist"
          ],
          [
           "Senior Operations Manager"
          ],
          [
           "Junior Software Engineer"
          ],
          [
           "Director of Product Management"
          ],
          [
           "Senior Marketing Coordinator"
          ],
          [
           "Junior Business Development Associate"
          ],
          [
           "Senior Researcher"
          ],
          [
           "Senior Software Engineer"
          ],
          [
           "Junior Marketing Coordinator"
          ],
          [
           "Senior Project Manager"
          ],
          [
           "Senior Operations Analyst"
          ],
          [
           "Junior Accountant"
          ],
          [
           "Director of Operations"
          ],
          [
           "Senior Business Analyst"
          ],
          [
           "Junior Product Manager"
          ],
          [
           "Senior IT Project Manager"
          ],
          [
           "Senior Quality Assurance Analyst"
          ],
          [
           "Junior Operations Analyst"
          ],
          [
           "Director of Business Development"
          ],
          [
           "Senior Product Manager"
          ],
          [
           "Junior Business Analyst"
          ],
          [
           "Senior Data Analyst"
          ],
          [
           "Senior Software Developer"
          ],
          [
           "Junior Advertising Coordinator"
          ],
          [
           "Senior Sales Manager"
          ],
          [
           "Senior Accountant"
          ],
          [
           "Junior HR Generalist"
          ],
          [
           "Director of Finance"
          ],
          [
           "Senior IT Consultant"
          ],
          [
           "Junior Business Development Associate"
          ],
          [
           "Senior Software Engineer"
          ],
          [
           "Senior Project Coordinator"
          ],
          [
           "Junior Business Operations Analyst"
          ],
          [
           "Director of Marketing"
          ],
          [
           "Senior Product Development Manager"
          ],
          [
           "Junior Financial Analyst"
          ],
          [
           "Senior Data Scientist"
          ],
          [
           "Senior Software Architect"
          ],
          [
           "Junior Marketing Specialist"
          ],
          [
           "Senior Project Manager"
          ],
          [
           "Senior Operations Analyst"
          ],
          [
           "Junior Sales Representative"
          ],
          [
           "Senior Software Developer"
          ],
          [
           "Senior Marketing Specialist"
          ],
          [
           "Junior Business Analyst"
          ],
          [
           "Senior Data Analyst"
          ],
          [
           "Senior Operations Manager"
          ],
          [
           "Junior Financial Analyst"
          ],
          [
           "Director of Operations"
          ],
          [
           "Senior IT Consultant"
          ],
          [
           "Junior Business Development Associate"
          ],
          [
           "Senior Software Engineer"
          ],
          [
           "Senior Project Coordinator"
          ],
          [
           "Senior Data Scientist"
          ],
          [
           "Senior Operations Manager"
          ],
          [
           "Senior Marketing Specialist"
          ],
          [
           "Junior Operations Manager"
          ],
          [
           "Senior Data Engineer"
          ],
          [
           "Senior Financial Analyst"
          ],
          [
           "Junior Business Analyst"
          ],
          [
           "Senior Data Analyst"
          ],
          [
           "Senior Product Manager"
          ],
          [
           "Junior Operations Analyst"
          ],
          [
           "Director of Marketing"
          ],
          [
           "Senior Financial Manager"
          ],
          [
           "Junior Business Analyst"
          ],
          [
           "Senior Software Engineer"
          ],
          [
           "Junior Product Manager"
          ],
          [
           "Director of Operations"
          ],
          [
           "Senior Business Development Manager"
          ],
          [
           "Junior Financial Analyst"
          ],
          [
           "Senior Data Scientist"
          ],
          [
           "Senior Marketing Analyst"
          ],
          [
           "Junior Project Manager"
          ],
          [
           "Senior Data Engineer"
          ],
          [
           "Senior Business Analyst"
          ],
          [
           "Junior Operations Analyst"
          ],
          [
           "Director of Marketing"
          ],
          [
           "Senior Financial Manager"
          ],
          [
           "Junior Business Analyst"
          ],
          [
           "Senior Software Engineer"
          ],
          [
           "Senior Marketing Specialist"
          ],
          [
           "Senior Business Development Manager"
          ],
          [
           "Junior Financial Advisor"
          ],
          [
           "Director of Engineering"
          ],
          [
           "Senior Operations Manager"
          ],
          [
           "Junior Marketing Coordinator"
          ],
          [
           "Director of Marketing"
          ],
          [
           "Senior Financial Analyst"
          ],
          [
           "Junior Product Manager"
          ],
          [
           "Director of Operations"
          ],
          [
           "Senior Operations Coordinator"
          ],
          [
           "Junior Marketing Specialist"
          ],
          [
           "Director of Marketing"
          ],
          [
           "Senior Product Manager"
          ],
          [
           "Junior Business Analyst"
          ],
          [
           "Director of Engineering"
          ],
          [
           "Senior Business Development Manager"
          ],
          [
           "Junior Marketing Coordinator"
          ],
          [
           "Director of Marketing"
          ],
          [
           "Senior Financial Analyst"
          ],
          [
           "Junior Product Manager"
          ],
          [
           "Director of Operations"
          ],
          [
           "Senior Operations Coordinator"
          ],
          [
           "Junior Marketing Specialist"
          ],
          [
           "Director of Marketing"
          ],
          [
           "Senior Product Manager"
          ],
          [
           "Junior Business Analyst"
          ],
          [
           "Director of Operations"
          ],
          [
           "Senior Operations Coordinator"
          ]
         ],
         "hovertemplate": "Gender=Male<br>Age=%{x}<br>Salary=%{y}<br>Job Title=%{customdata[0]}<extra></extra>",
         "legendgroup": "Male",
         "marker": {
          "color": "#636efa",
          "opacity": 0.8,
          "size": 5,
          "symbol": "circle"
         },
         "mode": "markers",
         "name": "Male",
         "orientation": "v",
         "showlegend": true,
         "type": "scatter",
         "x": [
          32,
          45,
          52,
          29,
          31,
          38,
          29,
          35,
          27,
          44,
          39,
          51,
          47,
          30,
          41,
          24,
          33,
          50,
          29,
          46,
          27,
          42,
          49,
          48,
          30,
          41,
          32,
          38,
          25,
          33,
          47,
          36,
          43,
          35,
          29,
          47,
          26,
          46,
          34,
          33,
          45,
          28,
          37,
          32,
          36,
          25,
          52,
          27,
          46,
          36,
          43,
          33,
          47,
          26,
          45,
          35,
          33,
          44,
          36,
          28,
          37,
          32,
          31,
          48,
          35,
          53,
          38,
          26,
          45,
          34,
          29,
          47,
          27,
          46,
          36,
          28,
          33,
          47,
          34,
          31,
          45,
          36,
          26,
          44,
          33,
          28,
          48,
          35,
          27,
          46,
          34,
          29,
          43,
          35,
          31,
          46,
          37,
          27,
          43,
          34,
          28,
          47,
          34,
          28,
          45,
          35,
          30,
          44,
          36,
          31,
          47,
          38,
          28,
          44,
          35,
          29,
          48,
          33,
          28,
          46,
          37,
          30,
          43,
          35,
          32,
          45,
          39,
          29,
          46,
          36,
          31,
          47,
          38,
          28,
          44,
          35,
          46,
          42,
          36,
          33,
          45,
          37,
          30,
          46,
          36,
          31,
          47,
          35,
          33,
          44,
          32,
          49,
          35,
          33,
          44,
          37,
          31,
          45,
          36,
          31,
          47,
          35,
          33,
          44,
          36,
          37,
          32,
          47,
          36,
          32,
          48,
          40,
          33,
          47,
          34,
          33,
          43,
          41,
          33,
          45,
          36,
          31,
          48,
          40,
          33,
          47,
          34,
          33,
          43,
          41,
          33,
          43,
          34
         ],
         "xaxis": "x",
         "y": [
          90000,
          150000,
          200000,
          55000,
          80000,
          110000,
          75000,
          65000,
          40000,
          125000,
          115000,
          180000,
          190000,
          50000,
          140000,
          40000,
          90000,
          250000,
          75000,
          170000,
          45000,
          115000,
          160000,
          190000,
          60000,
          130000,
          75000,
          120000,
          35000,
          85000,
          200000,
          95000,
          140000,
          105000,
          50000,
          180000,
          35000,
          120000,
          90000,
          65000,
          190000,
          40000,
          95000,
          100000,
          70000,
          30000,
          250000,
          45000,
          135000,
          120000,
          105000,
          75000,
          160000,
          35000,
          110000,
          95000,
          50000,
          220000,
          60000,
          40000,
          95000,
          90000,
          95000,
          170000,
          120000,
          180000,
          80000,
          40000,
          110000,
          105000,
          45000,
          160000,
          35000,
          140000,
          60000,
          40000,
          50000,
          135000,
          90000,
          60000,
          175000,
          120000,
          35000,
          110000,
          115000,
          40000,
          175000,
          80000,
          35000,
          150000,
          105000,
          40000,
          140000,
          85000,
          50000,
          170000,
          105000,
          40000,
          130000,
          100000,
          35000,
          170000,
          95000,
          40000,
          155000,
          110000,
          45000,
          130000,
          90000,
          50000,
          170000,
          110000,
          40000,
          130000,
          95000,
          35000,
          170000,
          100000,
          40000,
          160000,
          120000,
          45000,
          120000,
          85000,
          45000,
          140000,
          120000,
          40000,
          150000,
          95000,
          50000,
          170000,
          110000,
          40000,
          130000,
          95000,
          160000,
          110000,
          95000,
          60000,
          150000,
          90000,
          40000,
          160000,
          95000,
          50000,
          170000,
          100000,
          60000,
          130000,
          65000,
          180000,
          90000,
          60000,
          160000,
          100000,
          55000,
          150000,
          95000,
          50000,
          170000,
          100000,
          60000,
          130000,
          95000,
          120000,
          65000,
          180000,
          100000,
          55000,
          180000,
          130000,
          60000,
          170000,
          90000,
          70000,
          170000,
          150000,
          60000,
          180000,
          110000,
          55000,
          180000,
          130000,
          60000,
          170000,
          90000,
          70000,
          170000,
          150000,
          60000,
          170000,
          90000
         ],
         "yaxis": "y"
        },
        {
         "customdata": [
          [
           "Data Analyst"
          ],
          [
           "Sales Associate"
          ],
          [
           "Product Manager"
          ],
          [
           "Marketing Coordinator"
          ],
          [
           "HR Manager"
          ],
          [
           "Project Manager"
          ],
          [
           "Marketing Manager"
          ],
          [
           "Data Entry Clerk"
          ],
          [
           "Business Analyst"
          ],
          [
           "Recruiter"
          ],
          [
           "Social Media Specialist"
          ],
          [
           "Software Manager"
          ],
          [
           "Senior Consultant"
          ],
          [
           "Accountant"
          ],
          [
           "Marketing Specialist"
          ],
          [
           "HR Generalist"
          ],
          [
           "Customer Success Rep"
          ],
          [
           "UX Designer"
          ],
          [
           "Administrative Assistant"
          ],
          [
           "Copywriter"
          ],
          [
           "Director of Marketing"
          ],
          [
           "Customer Service Manager"
          ],
          [
           "Event Coordinator"
          ],
          [
           "Graphic Designer"
          ],
          [
           "UX Researcher"
          ],
          [
           "Social Media Manager"
          ],
          [
           "Director of Operations"
          ],
          [
           "HR Manager"
          ],
          [
           "Digital Marketing Manager"
          ],
          [
           "Customer Service Representative"
          ],
          [
           "Senior Financial Analyst"
          ],
          [
           "Recruiter"
          ],
          [
           "Creative Director"
          ],
          [
           "Operations Manager"
          ],
          [
           "Human Resources Director"
          ],
          [
           "Content Marketing Manager"
          ],
          [
           "Data Analyst"
          ],
          [
           "Junior Designer"
          ],
          [
           "Financial Advisor"
          ],
          [
           "HR Generalist"
          ],
          [
           "Marketing Coordinator"
          ],
          [
           "Sales Associate"
          ],
          [
           "Senior Marketing Manager"
          ],
          [
           "Training Specialist"
          ],
          [
           "Public Relations Manager"
          ],
          [
           "Event Coordinator"
          ],
          [
           "Senior HR Manager"
          ],
          [
           "Senior Project Coordinator"
          ],
          [
           "Digital Content Producer"
          ],
          [
           "Senior Marketing Analyst"
          ],
          [
           "Senior Graphic Designer"
          ],
          [
           "Supply Chain Analyst"
          ],
          [
           "Junior Marketing Analyst"
          ],
          [
           "Office Manager"
          ],
          [
           "Junior HR Generalist"
          ],
          [
           "Sales Manager"
          ],
          [
           "Junior Operations Analyst"
          ],
          [
           "Senior Scientist"
          ],
          [
           "Senior HR Generalist"
          ],
          [
           "Marketing Coordinator"
          ],
          [
           "Director of Operations"
          ],
          [
           "Senior Training Specialist"
          ],
          [
           "Administrative Assistant"
          ],
          [
           "Junior Marketing Manager"
          ],
          [
           "Senior Product Marketing Manager"
          ],
          [
           "Senior Marketing Manager"
          ],
          [
           "Junior Marketing Specialist"
          ],
          [
           "Senior Data Scientist"
          ],
          [
           "Senior Accountant"
          ],
          [
           "Junior Recruiter"
          ],
          [
           "Senior Product Designer"
          ],
          [
           "Senior Marketing Analyst"
          ],
          [
           "Junior Financial Analyst"
          ],
          [
           "Director of Human Resources"
          ],
          [
           "Senior Sales Representative"
          ],
          [
           "Junior Copywriter"
          ],
          [
           "Senior Human Resources Manager"
          ],
          [
           "Senior Account Manager"
          ],
          [
           "Junior HR Coordinator"
          ],
          [
           "Director of Finance"
          ],
          [
           "Junior Data Scientist"
          ],
          [
           "Senior Marketing Manager"
          ],
          [
           "Senior Human Resources Coordinator"
          ],
          [
           "Junior Sales Representative"
          ],
          [
           "Senior UX Designer"
          ],
          [
           "Senior Marketing Specialist"
          ],
          [
           "Senior Financial Analyst"
          ],
          [
           "Director of Sales and Marketing"
          ],
          [
           "Senior Account Executive"
          ],
          [
           "Junior Social Media Manager"
          ],
          [
           "Senior Human Resources Specialist"
          ],
          [
           "Senior Marketing Coordinator"
          ],
          [
           "Junior Account Manager"
          ],
          [
           "Director of Human Capital"
          ],
          [
           "Junior UX Designer"
          ],
          [
           "Senior Marketing Director"
          ],
          [
           "Senior Operations Manager"
          ],
          [
           "Junior Marketing Coordinator"
          ],
          [
           "Senior Product Designer"
          ],
          [
           "Senior Marketing Analyst"
          ],
          [
           "Senior Financial Advisor"
          ],
          [
           "Director of Operations"
          ],
          [
           "Senior Sales Representative"
          ],
          [
           "Junior Social Media Specialist"
          ],
          [
           "Senior Human Resources Manager"
          ],
          [
           "Senior Marketing Manager"
          ],
          [
           "Junior Operations Manager"
          ],
          [
           "Director of Human Resources"
          ],
          [
           "Junior Research Scientist"
          ],
          [
           "Senior Marketing Manager"
          ],
          [
           "Senior Financial Analyst"
          ],
          [
           "Junior Operations Analyst"
          ],
          [
           "Senior HR Manager"
          ],
          [
           "Senior Product Manager"
          ],
          [
           "Junior Marketing Analyst"
          ],
          [
           "Director of Marketing"
          ],
          [
           "Senior Project Coordinator"
          ],
          [
           "Junior Marketing Coordinator"
          ],
          [
           "Senior Product Designer"
          ],
          [
           "Senior Marketing Analyst"
          ],
          [
           "Senior Financial Advisor"
          ],
          [
           "Director of Operations"
          ],
          [
           "Senior Financial Manager"
          ],
          [
           "Junior Marketing Coordinator"
          ],
          [
           "Junior Sales Representative"
          ],
          [
           "Senior HR Specialist"
          ],
          [
           "Senior Marketing Coordinator"
          ],
          [
           "Junior Marketing Manager"
          ],
          [
           "Director of Marketing"
          ],
          [
           "Senior Project Manager"
          ],
          [
           "Junior Financial Analyst"
          ],
          [
           "Director of Operations"
          ],
          [
           "Senior Project Coordinator"
          ],
          [
           "Junior Business Development Associate"
          ],
          [
           "Senior Product Designer"
          ],
          [
           "Senior Marketing Analyst"
          ],
          [
           "Senior Business Analyst"
          ],
          [
           "Junior Marketing Specialist"
          ],
          [
           "Senior HR Manager"
          ],
          [
           "Senior Marketing Manager"
          ],
          [
           "Junior Operations Coordinator"
          ],
          [
           "Director of HR"
          ],
          [
           "Senior Operations Coordinator"
          ],
          [
           "Junior Marketing Manager"
          ],
          [
           "Director of Marketing"
          ],
          [
           "Senior Project Manager"
          ],
          [
           "Junior Business Development Associate"
          ],
          [
           "Senior Product Designer"
          ],
          [
           "Senior Marketing Analyst"
          ],
          [
           "Senior Financial Advisor"
          ],
          [
           "Junior HR Coordinator"
          ],
          [
           "Senior Marketing Manager"
          ],
          [
           "Senior Project Manager"
          ],
          [
           "Junior Marketing Analyst"
          ],
          [
           "Senior Data Scientist"
          ],
          [
           "Senior Business Analyst"
          ],
          [
           "Junior Business Development Associate"
          ],
          [
           "Senior UX Designer"
          ],
          [
           "Senior Marketing Manager"
          ],
          [
           "Junior Project Manager"
          ],
          [
           "Senior Business Analyst"
          ],
          [
           "Senior Financial Manager"
          ],
          [
           "Junior Financial Analyst"
          ],
          [
           "Senior Data Engineer"
          ],
          [
           "Senior Marketing Analyst"
          ],
          [
           "Junior Operations Manager"
          ],
          [
           "Senior Data Scientist"
          ],
          [
           "Senior Business Analyst"
          ],
          [
           "Junior Business Development Associate"
          ],
          [
           "Senior UX Designer"
          ],
          [
           "Senior Marketing Manager"
          ],
          [
           "Junior Project Manager"
          ],
          [
           "Senior Business Analyst"
          ],
          [
           "Senior Financial Manager"
          ],
          [
           "Junior Financial Analyst"
          ],
          [
           "Senior Data Engineer"
          ],
          [
           "Senior Marketing Analyst"
          ],
          [
           "Junior Project Manager"
          ],
          [
           "Senior Business Analyst"
          ]
         ],
         "hovertemplate": "Gender=Female<br>Age=%{x}<br>Salary=%{y}<br>Job Title=%{customdata[0]}<extra></extra>",
         "legendgroup": "Female",
         "marker": {
          "color": "#EF553B",
          "opacity": 0.8,
          "size": 5,
          "symbol": "circle"
         },
         "mode": "markers",
         "name": "Female",
         "orientation": "v",
         "showlegend": true,
         "type": "scatter",
         "x": [
          28,
          36,
          42,
          26,
          48,
          40,
          33,
          25,
          34,
          36,
          28,
          37,
          43,
          31,
          39,
          35,
          26,
          34,
          36,
          28,
          45,
          51,
          40,
          29,
          27,
          30,
          51,
          40,
          38,
          31,
          49,
          39,
          42,
          50,
          48,
          30,
          41,
          29,
          34,
          40,
          31,
          29,
          52,
          39,
          38,
          31,
          49,
          39,
          30,
          41,
          42,
          50,
          23,
          40,
          29,
          42,
          33,
          44,
          37,
          32,
          50,
          40,
          39,
          30,
          43,
          41,
          25,
          42,
          38,
          29,
          43,
          37,
          32,
          51,
          39,
          30,
          41,
          40,
          31,
          50,
          26,
          42,
          38,
          29,
          44,
          36,
          33,
          50,
          39,
          30,
          40,
          41,
          32,
          49,
          27,
          41,
          39,
          30,
          45,
          35,
          34,
          50,
          40,
          31,
          42,
          40,
          33,
          51,
          27,
          42,
          37,
          33,
          44,
          38,
          34,
          49,
          41,
          30,
          45,
          35,
          34,
          50,
          37,
          31,
          29,
          44,
          39,
          32,
          47,
          38,
          34,
          49,
          41,
          29,
          44,
          35,
          38,
          29,
          45,
          40,
          30,
          48,
          38,
          33,
          49,
          42,
          29,
          44,
          35,
          34,
          30,
          45,
          39,
          29,
          43,
          38,
          31,
          45,
          36,
          29,
          44,
          35,
          31,
          44,
          35,
          28,
          44,
          38,
          31,
          45,
          36,
          29,
          44,
          35,
          31,
          44,
          35,
          29,
          44
         ],
         "xaxis": "x",
         "y": [
          65000,
          60000,
          120000,
          45000,
          140000,
          130000,
          90000,
          35000,
          80000,
          60000,
          45000,
          110000,
          140000,
          55000,
          65000,
          60000,
          40000,
          80000,
          45000,
          40000,
          180000,
          130000,
          60000,
          50000,
          65000,
          55000,
          170000,
          80000,
          90000,
          45000,
          150000,
          70000,
          120000,
          160000,
          180000,
          55000,
          80000,
          40000,
          95000,
          80000,
          55000,
          40000,
          170000,
          65000,
          90000,
          45000,
          150000,
          80000,
          50000,
          100000,
          110000,
          130000,
          35000,
          65000,
          45000,
          100000,
          50000,
          140000,
          95000,
          50000,
          160000,
          100000,
          55000,
          50000,
          120000,
          110000,
          40000,
          150000,
          80000,
          45000,
          140000,
          95000,
          50000,
          185000,
          90000,
          45000,
          120000,
          110000,
          50000,
          180000,
          45000,
          140000,
          80000,
          40000,
          145000,
          85000,
          95000,
          180000,
          95000,
          45000,
          120000,
          90000,
          55000,
          180000,
          45000,
          160000,
          120000,
          40000,
          150000,
          85000,
          100000,
          180000,
          100000,
          45000,
          140000,
          105000,
          70000,
          190000,
          50000,
          140000,
          100000,
          70000,
          160000,
          120000,
          70000,
          180000,
          95000,
          40000,
          150000,
          85000,
          100000,
          180000,
          120000,
          50000,
          40000,
          140000,
          110000,
          60000,
          180000,
          120000,
          70000,
          180000,
          95000,
          35000,
          150000,
          85000,
          110000,
          40000,
          140000,
          130000,
          40000,
          180000,
          120000,
          70000,
          180000,
          120000,
          35000,
          150000,
          85000,
          80000,
          40000,
          160000,
          130000,
          40000,
          150000,
          110000,
          50000,
          160000,
          95000,
          40000,
          150000,
          90000,
          50000,
          160000,
          85000,
          35000,
          160000,
          110000,
          50000,
          160000,
          95000,
          40000,
          150000,
          90000,
          50000,
          160000,
          85000,
          40000,
          150000
         ],
         "yaxis": "y"
        }
       ],
       "layout": {
        "legend": {
         "title": {
          "text": "Gender"
         },
         "tracegroupgap": 0
        },
        "template": {
         "data": {
          "bar": [
           {
            "error_x": {
             "color": "#2a3f5f"
            },
            "error_y": {
             "color": "#2a3f5f"
            },
            "marker": {
             "line": {
              "color": "#E5ECF6",
              "width": 0.5
             },
             "pattern": {
              "fillmode": "overlay",
              "size": 10,
              "solidity": 0.2
             }
            },
            "type": "bar"
           }
          ],
          "barpolar": [
           {
            "marker": {
             "line": {
              "color": "#E5ECF6",
              "width": 0.5
             },
             "pattern": {
              "fillmode": "overlay",
              "size": 10,
              "solidity": 0.2
             }
            },
            "type": "barpolar"
           }
          ],
          "carpet": [
           {
            "aaxis": {
             "endlinecolor": "#2a3f5f",
             "gridcolor": "white",
             "linecolor": "white",
             "minorgridcolor": "white",
             "startlinecolor": "#2a3f5f"
            },
            "baxis": {
             "endlinecolor": "#2a3f5f",
             "gridcolor": "white",
             "linecolor": "white",
             "minorgridcolor": "white",
             "startlinecolor": "#2a3f5f"
            },
            "type": "carpet"
           }
          ],
          "choropleth": [
           {
            "colorbar": {
             "outlinewidth": 0,
             "ticks": ""
            },
            "type": "choropleth"
           }
          ],
          "contour": [
           {
            "colorbar": {
             "outlinewidth": 0,
             "ticks": ""
            },
            "colorscale": [
             [
              0,
              "#0d0887"
             ],
             [
              0.1111111111111111,
              "#46039f"
             ],
             [
              0.2222222222222222,
              "#7201a8"
             ],
             [
              0.3333333333333333,
              "#9c179e"
             ],
             [
              0.4444444444444444,
              "#bd3786"
             ],
             [
              0.5555555555555556,
              "#d8576b"
             ],
             [
              0.6666666666666666,
              "#ed7953"
             ],
             [
              0.7777777777777778,
              "#fb9f3a"
             ],
             [
              0.8888888888888888,
              "#fdca26"
             ],
             [
              1,
              "#f0f921"
             ]
            ],
            "type": "contour"
           }
          ],
          "contourcarpet": [
           {
            "colorbar": {
             "outlinewidth": 0,
             "ticks": ""
            },
            "type": "contourcarpet"
           }
          ],
          "heatmap": [
           {
            "colorbar": {
             "outlinewidth": 0,
             "ticks": ""
            },
            "colorscale": [
             [
              0,
              "#0d0887"
             ],
             [
              0.1111111111111111,
              "#46039f"
             ],
             [
              0.2222222222222222,
              "#7201a8"
             ],
             [
              0.3333333333333333,
              "#9c179e"
             ],
             [
              0.4444444444444444,
              "#bd3786"
             ],
             [
              0.5555555555555556,
              "#d8576b"
             ],
             [
              0.6666666666666666,
              "#ed7953"
             ],
             [
              0.7777777777777778,
              "#fb9f3a"
             ],
             [
              0.8888888888888888,
              "#fdca26"
             ],
             [
              1,
              "#f0f921"
             ]
            ],
            "type": "heatmap"
           }
          ],
          "heatmapgl": [
           {
            "colorbar": {
             "outlinewidth": 0,
             "ticks": ""
            },
            "colorscale": [
             [
              0,
              "#0d0887"
             ],
             [
              0.1111111111111111,
              "#46039f"
             ],
             [
              0.2222222222222222,
              "#7201a8"
             ],
             [
              0.3333333333333333,
              "#9c179e"
             ],
             [
              0.4444444444444444,
              "#bd3786"
             ],
             [
              0.5555555555555556,
              "#d8576b"
             ],
             [
              0.6666666666666666,
              "#ed7953"
             ],
             [
              0.7777777777777778,
              "#fb9f3a"
             ],
             [
              0.8888888888888888,
              "#fdca26"
             ],
             [
              1,
              "#f0f921"
             ]
            ],
            "type": "heatmapgl"
           }
          ],
          "histogram": [
           {
            "marker": {
             "pattern": {
              "fillmode": "overlay",
              "size": 10,
              "solidity": 0.2
             }
            },
            "type": "histogram"
           }
          ],
          "histogram2d": [
           {
            "colorbar": {
             "outlinewidth": 0,
             "ticks": ""
            },
            "colorscale": [
             [
              0,
              "#0d0887"
             ],
             [
              0.1111111111111111,
              "#46039f"
             ],
             [
              0.2222222222222222,
              "#7201a8"
             ],
             [
              0.3333333333333333,
              "#9c179e"
             ],
             [
              0.4444444444444444,
              "#bd3786"
             ],
             [
              0.5555555555555556,
              "#d8576b"
             ],
             [
              0.6666666666666666,
              "#ed7953"
             ],
             [
              0.7777777777777778,
              "#fb9f3a"
             ],
             [
              0.8888888888888888,
              "#fdca26"
             ],
             [
              1,
              "#f0f921"
             ]
            ],
            "type": "histogram2d"
           }
          ],
          "histogram2dcontour": [
           {
            "colorbar": {
             "outlinewidth": 0,
             "ticks": ""
            },
            "colorscale": [
             [
              0,
              "#0d0887"
             ],
             [
              0.1111111111111111,
              "#46039f"
             ],
             [
              0.2222222222222222,
              "#7201a8"
             ],
             [
              0.3333333333333333,
              "#9c179e"
             ],
             [
              0.4444444444444444,
              "#bd3786"
             ],
             [
              0.5555555555555556,
              "#d8576b"
             ],
             [
              0.6666666666666666,
              "#ed7953"
             ],
             [
              0.7777777777777778,
              "#fb9f3a"
             ],
             [
              0.8888888888888888,
              "#fdca26"
             ],
             [
              1,
              "#f0f921"
             ]
            ],
            "type": "histogram2dcontour"
           }
          ],
          "mesh3d": [
           {
            "colorbar": {
             "outlinewidth": 0,
             "ticks": ""
            },
            "type": "mesh3d"
           }
          ],
          "parcoords": [
           {
            "line": {
             "colorbar": {
              "outlinewidth": 0,
              "ticks": ""
             }
            },
            "type": "parcoords"
           }
          ],
          "pie": [
           {
            "automargin": true,
            "type": "pie"
           }
          ],
          "scatter": [
           {
            "fillpattern": {
             "fillmode": "overlay",
             "size": 10,
             "solidity": 0.2
            },
            "type": "scatter"
           }
          ],
          "scatter3d": [
           {
            "line": {
             "colorbar": {
              "outlinewidth": 0,
              "ticks": ""
             }
            },
            "marker": {
             "colorbar": {
              "outlinewidth": 0,
              "ticks": ""
             }
            },
            "type": "scatter3d"
           }
          ],
          "scattercarpet": [
           {
            "marker": {
             "colorbar": {
              "outlinewidth": 0,
              "ticks": ""
             }
            },
            "type": "scattercarpet"
           }
          ],
          "scattergeo": [
           {
            "marker": {
             "colorbar": {
              "outlinewidth": 0,
              "ticks": ""
             }
            },
            "type": "scattergeo"
           }
          ],
          "scattergl": [
           {
            "marker": {
             "colorbar": {
              "outlinewidth": 0,
              "ticks": ""
             }
            },
            "type": "scattergl"
           }
          ],
          "scattermapbox": [
           {
            "marker": {
             "colorbar": {
              "outlinewidth": 0,
              "ticks": ""
             }
            },
            "type": "scattermapbox"
           }
          ],
          "scatterpolar": [
           {
            "marker": {
             "colorbar": {
              "outlinewidth": 0,
              "ticks": ""
             }
            },
            "type": "scatterpolar"
           }
          ],
          "scatterpolargl": [
           {
            "marker": {
             "colorbar": {
              "outlinewidth": 0,
              "ticks": ""
             }
            },
            "type": "scatterpolargl"
           }
          ],
          "scatterternary": [
           {
            "marker": {
             "colorbar": {
              "outlinewidth": 0,
              "ticks": ""
             }
            },
            "type": "scatterternary"
           }
          ],
          "surface": [
           {
            "colorbar": {
             "outlinewidth": 0,
             "ticks": ""
            },
            "colorscale": [
             [
              0,
              "#0d0887"
             ],
             [
              0.1111111111111111,
              "#46039f"
             ],
             [
              0.2222222222222222,
              "#7201a8"
             ],
             [
              0.3333333333333333,
              "#9c179e"
             ],
             [
              0.4444444444444444,
              "#bd3786"
             ],
             [
              0.5555555555555556,
              "#d8576b"
             ],
             [
              0.6666666666666666,
              "#ed7953"
             ],
             [
              0.7777777777777778,
              "#fb9f3a"
             ],
             [
              0.8888888888888888,
              "#fdca26"
             ],
             [
              1,
              "#f0f921"
             ]
            ],
            "type": "surface"
           }
          ],
          "table": [
           {
            "cells": {
             "fill": {
              "color": "#EBF0F8"
             },
             "line": {
              "color": "white"
             }
            },
            "header": {
             "fill": {
              "color": "#C8D4E3"
             },
             "line": {
              "color": "white"
             }
            },
            "type": "table"
           }
          ]
         },
         "layout": {
          "annotationdefaults": {
           "arrowcolor": "#2a3f5f",
           "arrowhead": 0,
           "arrowwidth": 1
          },
          "autotypenumbers": "strict",
          "coloraxis": {
           "colorbar": {
            "outlinewidth": 0,
            "ticks": ""
           }
          },
          "colorscale": {
           "diverging": [
            [
             0,
             "#8e0152"
            ],
            [
             0.1,
             "#c51b7d"
            ],
            [
             0.2,
             "#de77ae"
            ],
            [
             0.3,
             "#f1b6da"
            ],
            [
             0.4,
             "#fde0ef"
            ],
            [
             0.5,
             "#f7f7f7"
            ],
            [
             0.6,
             "#e6f5d0"
            ],
            [
             0.7,
             "#b8e186"
            ],
            [
             0.8,
             "#7fbc41"
            ],
            [
             0.9,
             "#4d9221"
            ],
            [
             1,
             "#276419"
            ]
           ],
           "sequential": [
            [
             0,
             "#0d0887"
            ],
            [
             0.1111111111111111,
             "#46039f"
            ],
            [
             0.2222222222222222,
             "#7201a8"
            ],
            [
             0.3333333333333333,
             "#9c179e"
            ],
            [
             0.4444444444444444,
             "#bd3786"
            ],
            [
             0.5555555555555556,
             "#d8576b"
            ],
            [
             0.6666666666666666,
             "#ed7953"
            ],
            [
             0.7777777777777778,
             "#fb9f3a"
            ],
            [
             0.8888888888888888,
             "#fdca26"
            ],
            [
             1,
             "#f0f921"
            ]
           ],
           "sequentialminus": [
            [
             0,
             "#0d0887"
            ],
            [
             0.1111111111111111,
             "#46039f"
            ],
            [
             0.2222222222222222,
             "#7201a8"
            ],
            [
             0.3333333333333333,
             "#9c179e"
            ],
            [
             0.4444444444444444,
             "#bd3786"
            ],
            [
             0.5555555555555556,
             "#d8576b"
            ],
            [
             0.6666666666666666,
             "#ed7953"
            ],
            [
             0.7777777777777778,
             "#fb9f3a"
            ],
            [
             0.8888888888888888,
             "#fdca26"
            ],
            [
             1,
             "#f0f921"
            ]
           ]
          },
          "colorway": [
           "#636efa",
           "#EF553B",
           "#00cc96",
           "#ab63fa",
           "#FFA15A",
           "#19d3f3",
           "#FF6692",
           "#B6E880",
           "#FF97FF",
           "#FECB52"
          ],
          "font": {
           "color": "#2a3f5f"
          },
          "geo": {
           "bgcolor": "white",
           "lakecolor": "white",
           "landcolor": "#E5ECF6",
           "showlakes": true,
           "showland": true,
           "subunitcolor": "white"
          },
          "hoverlabel": {
           "align": "left"
          },
          "hovermode": "closest",
          "mapbox": {
           "style": "light"
          },
          "paper_bgcolor": "white",
          "plot_bgcolor": "#E5ECF6",
          "polar": {
           "angularaxis": {
            "gridcolor": "white",
            "linecolor": "white",
            "ticks": ""
           },
           "bgcolor": "#E5ECF6",
           "radialaxis": {
            "gridcolor": "white",
            "linecolor": "white",
            "ticks": ""
           }
          },
          "scene": {
           "xaxis": {
            "backgroundcolor": "#E5ECF6",
            "gridcolor": "white",
            "gridwidth": 2,
            "linecolor": "white",
            "showbackground": true,
            "ticks": "",
            "zerolinecolor": "white"
           },
           "yaxis": {
            "backgroundcolor": "#E5ECF6",
            "gridcolor": "white",
            "gridwidth": 2,
            "linecolor": "white",
            "showbackground": true,
            "ticks": "",
            "zerolinecolor": "white"
           },
           "zaxis": {
            "backgroundcolor": "#E5ECF6",
            "gridcolor": "white",
            "gridwidth": 2,
            "linecolor": "white",
            "showbackground": true,
            "ticks": "",
            "zerolinecolor": "white"
           }
          },
          "shapedefaults": {
           "line": {
            "color": "#2a3f5f"
           }
          },
          "ternary": {
           "aaxis": {
            "gridcolor": "white",
            "linecolor": "white",
            "ticks": ""
           },
           "baxis": {
            "gridcolor": "white",
            "linecolor": "white",
            "ticks": ""
           },
           "bgcolor": "#E5ECF6",
           "caxis": {
            "gridcolor": "white",
            "linecolor": "white",
            "ticks": ""
           }
          },
          "title": {
           "x": 0.05
          },
          "xaxis": {
           "automargin": true,
           "gridcolor": "white",
           "linecolor": "white",
           "ticks": "",
           "title": {
            "standoff": 15
           },
           "zerolinecolor": "white",
           "zerolinewidth": 2
          },
          "yaxis": {
           "automargin": true,
           "gridcolor": "white",
           "linecolor": "white",
           "ticks": "",
           "title": {
            "standoff": 15
           },
           "zerolinecolor": "white",
           "zerolinewidth": 2
          }
         }
        },
        "title": {
         "text": "Age vs. Salary"
        },
        "xaxis": {
         "anchor": "y",
         "domain": [
          0,
          1
         ],
         "title": {
          "text": "Age"
         }
        },
        "yaxis": {
         "anchor": "x",
         "domain": [
          0,
          1
         ],
         "title": {
          "text": "Salary"
         }
        }
       }
      }
     },
     "metadata": {},
     "output_type": "display_data"
    }
   ],
   "source": [
    "fig = px.scatter(data, \n",
    "                 x='Age', \n",
    "                 y='Salary', \n",
    "                 color='Gender', \n",
    "                 opacity=0.8, \n",
    "                 hover_data=['Job Title'], \n",
    "                 title='Age vs. Salary')\n",
    "fig.update_traces(marker_size=5)\n",
    "fig.show()"
   ]
  },
  {
   "cell_type": "markdown",
   "metadata": {},
   "source": [
    "Based on this scatter plot, we can observe that salary increases with progressing age, but there is significant variation at each age, which means that age isn't the only factor we can use to determine salary."
   ]
  },
  {
   "cell_type": "markdown",
   "metadata": {},
   "source": [
    "### Years of Experience and Salary\n",
    "\n",
    "Let's now visualize the relationship between an employee's years of experience on the job and their salary using another scatter plot. Again, each point will represent a particular employee, and we will color the points based on gender."
   ]
  },
  {
   "cell_type": "code",
   "execution_count": 21,
   "metadata": {},
   "outputs": [
    {
     "data": {
      "application/vnd.plotly.v1+json": {
       "config": {
        "plotlyServerURL": "https://plot.ly"
       },
       "data": [
        {
         "customdata": [
          [
           "Software Engineer"
          ],
          [
           "Senior Manager"
          ],
          [
           "Director"
          ],
          [
           "Marketing Analyst"
          ],
          [
           "Sales Manager"
          ],
          [
           "Senior Scientist"
          ],
          [
           "Software Developer"
          ],
          [
           "Financial Analyst"
          ],
          [
           "Customer Service Rep"
          ],
          [
           "Operations Manager"
          ],
          [
           "Senior Engineer"
          ],
          [
           "Sales Director"
          ],
          [
           "VP of Operations"
          ],
          [
           "IT Support"
          ],
          [
           "Financial Manager"
          ],
          [
           "Junior Developer"
          ],
          [
           "Product Designer"
          ],
          [
           "CEO"
          ],
          [
           "Data Scientist"
          ],
          [
           "Senior Manager"
          ],
          [
           "Technical Writer"
          ],
          [
           "Project Engineer"
          ],
          [
           "Sales Executive"
          ],
          [
           "Operations Director"
          ],
          [
           "Network Engineer"
          ],
          [
           "Strategy Consultant"
          ],
          [
           "Account Manager"
          ],
          [
           "Senior Scientist"
          ],
          [
           "Help Desk Analyst"
          ],
          [
           "Business Intelligence Analyst"
          ],
          [
           "VP of Finance"
          ],
          [
           "Sales Manager"
          ],
          [
           "Senior Engineer"
          ],
          [
           "Product Manager"
          ],
          [
           "Marketing Analyst"
          ],
          [
           "Senior Data Scientist"
          ],
          [
           "Junior Accountant"
          ],
          [
           "IT Manager"
          ],
          [
           "Business Development Manager"
          ],
          [
           "Web Developer"
          ],
          [
           "Research Director"
          ],
          [
           "Technical Support Specialist"
          ],
          [
           "Project Manager"
          ],
          [
           "Senior Software Engineer"
          ],
          [
           "Technical Recruiter"
          ],
          [
           "Sales Representative"
          ],
          [
           "Chief Technology Officer"
          ],
          [
           "Junior Account Manager"
          ],
          [
           "Senior Project Manager"
          ],
          [
           "Principal Scientist"
          ],
          [
           "Supply Chain Manager"
          ],
          [
           "Business Analyst"
          ],
          [
           "Research Scientist"
          ],
          [
           "Junior Software Developer"
          ],
          [
           "Operations Analyst"
          ],
          [
           "Product Marketing Manager"
          ],
          [
           "Junior Web Developer"
          ],
          [
           "Chief Data Officer"
          ],
          [
           "IT Support Specialist"
          ],
          [
           "Customer Success Manager"
          ],
          [
           "Software Project Manager"
          ],
          [
           "Senior Business Analyst"
          ],
          [
           "Senior Financial Analyst"
          ],
          [
           "Principal Engineer"
          ],
          [
           "Senior Product Manager"
          ],
          [
           "Director of Marketing"
          ],
          [
           "Customer Service Manager"
          ],
          [
           "Junior Accountant"
          ],
          [
           "Sales Operations Manager"
          ],
          [
           "Senior Software Developer"
          ],
          [
           "Junior Web Designer"
          ],
          [
           "Senior Research Scientist"
          ],
          [
           "Junior Sales Representative"
          ],
          [
           "Senior Project Manager"
          ],
          [
           "Junior Data Analyst"
          ],
          [
           "Junior Business Analyst"
          ],
          [
           "Junior Software Developer"
          ],
          [
           "Senior Sales Manager"
          ],
          [
           "Senior Business Analyst"
          ],
          [
           "Junior Project Manager"
          ],
          [
           "Director of Sales"
          ],
          [
           "Senior Business Development Manager"
          ],
          [
           "Junior Customer Support Specialist"
          ],
          [
           "Senior IT Support Specialist"
          ],
          [
           "Senior Operations Manager"
          ],
          [
           "Junior Software Engineer"
          ],
          [
           "Director of Product Management"
          ],
          [
           "Senior Marketing Coordinator"
          ],
          [
           "Junior Business Development Associate"
          ],
          [
           "Senior Researcher"
          ],
          [
           "Senior Software Engineer"
          ],
          [
           "Junior Marketing Coordinator"
          ],
          [
           "Senior Project Manager"
          ],
          [
           "Senior Operations Analyst"
          ],
          [
           "Junior Accountant"
          ],
          [
           "Director of Operations"
          ],
          [
           "Senior Business Analyst"
          ],
          [
           "Junior Product Manager"
          ],
          [
           "Senior IT Project Manager"
          ],
          [
           "Senior Quality Assurance Analyst"
          ],
          [
           "Junior Operations Analyst"
          ],
          [
           "Director of Business Development"
          ],
          [
           "Senior Product Manager"
          ],
          [
           "Junior Business Analyst"
          ],
          [
           "Senior Data Analyst"
          ],
          [
           "Senior Software Developer"
          ],
          [
           "Junior Advertising Coordinator"
          ],
          [
           "Senior Sales Manager"
          ],
          [
           "Senior Accountant"
          ],
          [
           "Junior HR Generalist"
          ],
          [
           "Director of Finance"
          ],
          [
           "Senior IT Consultant"
          ],
          [
           "Junior Business Development Associate"
          ],
          [
           "Senior Software Engineer"
          ],
          [
           "Senior Project Coordinator"
          ],
          [
           "Junior Business Operations Analyst"
          ],
          [
           "Director of Marketing"
          ],
          [
           "Senior Product Development Manager"
          ],
          [
           "Junior Financial Analyst"
          ],
          [
           "Senior Data Scientist"
          ],
          [
           "Senior Software Architect"
          ],
          [
           "Junior Marketing Specialist"
          ],
          [
           "Senior Project Manager"
          ],
          [
           "Senior Operations Analyst"
          ],
          [
           "Junior Sales Representative"
          ],
          [
           "Senior Software Developer"
          ],
          [
           "Senior Marketing Specialist"
          ],
          [
           "Junior Business Analyst"
          ],
          [
           "Senior Data Analyst"
          ],
          [
           "Senior Operations Manager"
          ],
          [
           "Junior Financial Analyst"
          ],
          [
           "Director of Operations"
          ],
          [
           "Senior IT Consultant"
          ],
          [
           "Junior Business Development Associate"
          ],
          [
           "Senior Software Engineer"
          ],
          [
           "Senior Project Coordinator"
          ],
          [
           "Senior Data Scientist"
          ],
          [
           "Senior Operations Manager"
          ],
          [
           "Senior Marketing Specialist"
          ],
          [
           "Junior Operations Manager"
          ],
          [
           "Senior Data Engineer"
          ],
          [
           "Senior Financial Analyst"
          ],
          [
           "Junior Business Analyst"
          ],
          [
           "Senior Data Analyst"
          ],
          [
           "Senior Product Manager"
          ],
          [
           "Junior Operations Analyst"
          ],
          [
           "Director of Marketing"
          ],
          [
           "Senior Financial Manager"
          ],
          [
           "Junior Business Analyst"
          ],
          [
           "Senior Software Engineer"
          ],
          [
           "Junior Product Manager"
          ],
          [
           "Director of Operations"
          ],
          [
           "Senior Business Development Manager"
          ],
          [
           "Junior Financial Analyst"
          ],
          [
           "Senior Data Scientist"
          ],
          [
           "Senior Marketing Analyst"
          ],
          [
           "Junior Project Manager"
          ],
          [
           "Senior Data Engineer"
          ],
          [
           "Senior Business Analyst"
          ],
          [
           "Junior Operations Analyst"
          ],
          [
           "Director of Marketing"
          ],
          [
           "Senior Financial Manager"
          ],
          [
           "Junior Business Analyst"
          ],
          [
           "Senior Software Engineer"
          ],
          [
           "Senior Marketing Specialist"
          ],
          [
           "Senior Business Development Manager"
          ],
          [
           "Junior Financial Advisor"
          ],
          [
           "Director of Engineering"
          ],
          [
           "Senior Operations Manager"
          ],
          [
           "Junior Marketing Coordinator"
          ],
          [
           "Director of Marketing"
          ],
          [
           "Senior Financial Analyst"
          ],
          [
           "Junior Product Manager"
          ],
          [
           "Director of Operations"
          ],
          [
           "Senior Operations Coordinator"
          ],
          [
           "Junior Marketing Specialist"
          ],
          [
           "Director of Marketing"
          ],
          [
           "Senior Product Manager"
          ],
          [
           "Junior Business Analyst"
          ],
          [
           "Director of Engineering"
          ],
          [
           "Senior Business Development Manager"
          ],
          [
           "Junior Marketing Coordinator"
          ],
          [
           "Director of Marketing"
          ],
          [
           "Senior Financial Analyst"
          ],
          [
           "Junior Product Manager"
          ],
          [
           "Director of Operations"
          ],
          [
           "Senior Operations Coordinator"
          ],
          [
           "Junior Marketing Specialist"
          ],
          [
           "Director of Marketing"
          ],
          [
           "Senior Product Manager"
          ],
          [
           "Junior Business Analyst"
          ],
          [
           "Director of Operations"
          ],
          [
           "Senior Operations Coordinator"
          ]
         ],
         "hovertemplate": "Gender=Male<br>Years of Experience=%{x}<br>Salary=%{y}<br>Job Title=%{customdata[0]}<extra></extra>",
         "legendgroup": "Male",
         "marker": {
          "color": "#636efa",
          "opacity": 0.8,
          "size": 5,
          "symbol": "circle"
         },
         "mode": "markers",
         "name": "Male",
         "orientation": "v",
         "showlegend": true,
         "type": "scatter",
         "x": [
          5,
          15,
          20,
          2,
          4,
          10,
          3,
          6,
          2,
          16,
          12,
          22,
          19,
          2,
          13,
          1,
          6,
          25,
          3,
          20,
          2,
          14,
          21,
          18,
          3,
          13,
          5,
          11,
          0,
          7,
          19,
          9,
          17,
          7,
          3,
          21,
          1,
          19,
          8,
          6,
          16,
          2,
          10,
          6,
          8,
          0,
          24,
          2,
          21,
          11,
          18,
          7,
          22,
          1,
          20,
          8,
          5,
          16,
          7,
          2,
          9,
          6,
          6,
          20,
          10,
          25,
          11,
          2,
          18,
          8,
          3,
          22,
          1,
          19,
          7,
          2,
          5,
          20,
          8,
          4,
          19,
          11,
          2,
          14,
          7,
          2,
          21,
          7,
          1.5,
          18,
          9,
          2,
          16,
          7,
          4,
          20,
          9,
          2,
          14,
          9,
          1.5,
          19,
          7,
          2,
          17,
          9,
          3,
          16,
          7,
          4,
          20,
          9,
          2,
          14,
          9,
          1.5,
          19,
          7,
          2,
          18,
          9,
          3,
          15,
          8,
          3,
          16,
          10,
          1.5,
          19,
          8,
          3,
          20,
          9,
          2,
          14,
          9,
          18,
          12,
          8,
          4,
          16,
          8,
          2,
          17,
          8,
          3,
          19,
          9,
          4,
          13,
          4,
          21,
          7,
          4,
          16,
          9,
          3,
          16,
          8,
          3,
          19,
          9,
          4,
          13,
          8,
          10,
          4,
          20,
          9,
          3,
          21,
          12,
          4,
          19,
          7,
          5,
          18,
          14,
          4,
          19,
          8,
          3,
          21,
          12,
          4,
          19,
          7,
          5,
          18,
          14,
          4,
          19,
          7
         ],
         "xaxis": "x",
         "y": [
          90000,
          150000,
          200000,
          55000,
          80000,
          110000,
          75000,
          65000,
          40000,
          125000,
          115000,
          180000,
          190000,
          50000,
          140000,
          40000,
          90000,
          250000,
          75000,
          170000,
          45000,
          115000,
          160000,
          190000,
          60000,
          130000,
          75000,
          120000,
          35000,
          85000,
          200000,
          95000,
          140000,
          105000,
          50000,
          180000,
          35000,
          120000,
          90000,
          65000,
          190000,
          40000,
          95000,
          100000,
          70000,
          30000,
          250000,
          45000,
          135000,
          120000,
          105000,
          75000,
          160000,
          35000,
          110000,
          95000,
          50000,
          220000,
          60000,
          40000,
          95000,
          90000,
          95000,
          170000,
          120000,
          180000,
          80000,
          40000,
          110000,
          105000,
          45000,
          160000,
          35000,
          140000,
          60000,
          40000,
          50000,
          135000,
          90000,
          60000,
          175000,
          120000,
          35000,
          110000,
          115000,
          40000,
          175000,
          80000,
          35000,
          150000,
          105000,
          40000,
          140000,
          85000,
          50000,
          170000,
          105000,
          40000,
          130000,
          100000,
          35000,
          170000,
          95000,
          40000,
          155000,
          110000,
          45000,
          130000,
          90000,
          50000,
          170000,
          110000,
          40000,
          130000,
          95000,
          35000,
          170000,
          100000,
          40000,
          160000,
          120000,
          45000,
          120000,
          85000,
          45000,
          140000,
          120000,
          40000,
          150000,
          95000,
          50000,
          170000,
          110000,
          40000,
          130000,
          95000,
          160000,
          110000,
          95000,
          60000,
          150000,
          90000,
          40000,
          160000,
          95000,
          50000,
          170000,
          100000,
          60000,
          130000,
          65000,
          180000,
          90000,
          60000,
          160000,
          100000,
          55000,
          150000,
          95000,
          50000,
          170000,
          100000,
          60000,
          130000,
          95000,
          120000,
          65000,
          180000,
          100000,
          55000,
          180000,
          130000,
          60000,
          170000,
          90000,
          70000,
          170000,
          150000,
          60000,
          180000,
          110000,
          55000,
          180000,
          130000,
          60000,
          170000,
          90000,
          70000,
          170000,
          150000,
          60000,
          170000,
          90000
         ],
         "yaxis": "y"
        },
        {
         "customdata": [
          [
           "Data Analyst"
          ],
          [
           "Sales Associate"
          ],
          [
           "Product Manager"
          ],
          [
           "Marketing Coordinator"
          ],
          [
           "HR Manager"
          ],
          [
           "Project Manager"
          ],
          [
           "Marketing Manager"
          ],
          [
           "Data Entry Clerk"
          ],
          [
           "Business Analyst"
          ],
          [
           "Recruiter"
          ],
          [
           "Social Media Specialist"
          ],
          [
           "Software Manager"
          ],
          [
           "Senior Consultant"
          ],
          [
           "Accountant"
          ],
          [
           "Marketing Specialist"
          ],
          [
           "HR Generalist"
          ],
          [
           "Customer Success Rep"
          ],
          [
           "UX Designer"
          ],
          [
           "Administrative Assistant"
          ],
          [
           "Copywriter"
          ],
          [
           "Director of Marketing"
          ],
          [
           "Customer Service Manager"
          ],
          [
           "Event Coordinator"
          ],
          [
           "Graphic Designer"
          ],
          [
           "UX Researcher"
          ],
          [
           "Social Media Manager"
          ],
          [
           "Director of Operations"
          ],
          [
           "HR Manager"
          ],
          [
           "Digital Marketing Manager"
          ],
          [
           "Customer Service Representative"
          ],
          [
           "Senior Financial Analyst"
          ],
          [
           "Recruiter"
          ],
          [
           "Creative Director"
          ],
          [
           "Operations Manager"
          ],
          [
           "Human Resources Director"
          ],
          [
           "Content Marketing Manager"
          ],
          [
           "Data Analyst"
          ],
          [
           "Junior Designer"
          ],
          [
           "Financial Advisor"
          ],
          [
           "HR Generalist"
          ],
          [
           "Marketing Coordinator"
          ],
          [
           "Sales Associate"
          ],
          [
           "Senior Marketing Manager"
          ],
          [
           "Training Specialist"
          ],
          [
           "Public Relations Manager"
          ],
          [
           "Event Coordinator"
          ],
          [
           "Senior HR Manager"
          ],
          [
           "Senior Project Coordinator"
          ],
          [
           "Digital Content Producer"
          ],
          [
           "Senior Marketing Analyst"
          ],
          [
           "Senior Graphic Designer"
          ],
          [
           "Supply Chain Analyst"
          ],
          [
           "Junior Marketing Analyst"
          ],
          [
           "Office Manager"
          ],
          [
           "Junior HR Generalist"
          ],
          [
           "Sales Manager"
          ],
          [
           "Junior Operations Analyst"
          ],
          [
           "Senior Scientist"
          ],
          [
           "Senior HR Generalist"
          ],
          [
           "Marketing Coordinator"
          ],
          [
           "Director of Operations"
          ],
          [
           "Senior Training Specialist"
          ],
          [
           "Administrative Assistant"
          ],
          [
           "Junior Marketing Manager"
          ],
          [
           "Senior Product Marketing Manager"
          ],
          [
           "Senior Marketing Manager"
          ],
          [
           "Junior Marketing Specialist"
          ],
          [
           "Senior Data Scientist"
          ],
          [
           "Senior Accountant"
          ],
          [
           "Junior Recruiter"
          ],
          [
           "Senior Product Designer"
          ],
          [
           "Senior Marketing Analyst"
          ],
          [
           "Junior Financial Analyst"
          ],
          [
           "Director of Human Resources"
          ],
          [
           "Senior Sales Representative"
          ],
          [
           "Junior Copywriter"
          ],
          [
           "Senior Human Resources Manager"
          ],
          [
           "Senior Account Manager"
          ],
          [
           "Junior HR Coordinator"
          ],
          [
           "Director of Finance"
          ],
          [
           "Junior Data Scientist"
          ],
          [
           "Senior Marketing Manager"
          ],
          [
           "Senior Human Resources Coordinator"
          ],
          [
           "Junior Sales Representative"
          ],
          [
           "Senior UX Designer"
          ],
          [
           "Senior Marketing Specialist"
          ],
          [
           "Senior Financial Analyst"
          ],
          [
           "Director of Sales and Marketing"
          ],
          [
           "Senior Account Executive"
          ],
          [
           "Junior Social Media Manager"
          ],
          [
           "Senior Human Resources Specialist"
          ],
          [
           "Senior Marketing Coordinator"
          ],
          [
           "Junior Account Manager"
          ],
          [
           "Director of Human Capital"
          ],
          [
           "Junior UX Designer"
          ],
          [
           "Senior Marketing Director"
          ],
          [
           "Senior Operations Manager"
          ],
          [
           "Junior Marketing Coordinator"
          ],
          [
           "Senior Product Designer"
          ],
          [
           "Senior Marketing Analyst"
          ],
          [
           "Senior Financial Advisor"
          ],
          [
           "Director of Operations"
          ],
          [
           "Senior Sales Representative"
          ],
          [
           "Junior Social Media Specialist"
          ],
          [
           "Senior Human Resources Manager"
          ],
          [
           "Senior Marketing Manager"
          ],
          [
           "Junior Operations Manager"
          ],
          [
           "Director of Human Resources"
          ],
          [
           "Junior Research Scientist"
          ],
          [
           "Senior Marketing Manager"
          ],
          [
           "Senior Financial Analyst"
          ],
          [
           "Junior Operations Analyst"
          ],
          [
           "Senior HR Manager"
          ],
          [
           "Senior Product Manager"
          ],
          [
           "Junior Marketing Analyst"
          ],
          [
           "Director of Marketing"
          ],
          [
           "Senior Project Coordinator"
          ],
          [
           "Junior Marketing Coordinator"
          ],
          [
           "Senior Product Designer"
          ],
          [
           "Senior Marketing Analyst"
          ],
          [
           "Senior Financial Advisor"
          ],
          [
           "Director of Operations"
          ],
          [
           "Senior Financial Manager"
          ],
          [
           "Junior Marketing Coordinator"
          ],
          [
           "Junior Sales Representative"
          ],
          [
           "Senior HR Specialist"
          ],
          [
           "Senior Marketing Coordinator"
          ],
          [
           "Junior Marketing Manager"
          ],
          [
           "Director of Marketing"
          ],
          [
           "Senior Project Manager"
          ],
          [
           "Junior Financial Analyst"
          ],
          [
           "Director of Operations"
          ],
          [
           "Senior Project Coordinator"
          ],
          [
           "Junior Business Development Associate"
          ],
          [
           "Senior Product Designer"
          ],
          [
           "Senior Marketing Analyst"
          ],
          [
           "Senior Business Analyst"
          ],
          [
           "Junior Marketing Specialist"
          ],
          [
           "Senior HR Manager"
          ],
          [
           "Senior Marketing Manager"
          ],
          [
           "Junior Operations Coordinator"
          ],
          [
           "Director of HR"
          ],
          [
           "Senior Operations Coordinator"
          ],
          [
           "Junior Marketing Manager"
          ],
          [
           "Director of Marketing"
          ],
          [
           "Senior Project Manager"
          ],
          [
           "Junior Business Development Associate"
          ],
          [
           "Senior Product Designer"
          ],
          [
           "Senior Marketing Analyst"
          ],
          [
           "Senior Financial Advisor"
          ],
          [
           "Junior HR Coordinator"
          ],
          [
           "Senior Marketing Manager"
          ],
          [
           "Senior Project Manager"
          ],
          [
           "Junior Marketing Analyst"
          ],
          [
           "Senior Data Scientist"
          ],
          [
           "Senior Business Analyst"
          ],
          [
           "Junior Business Development Associate"
          ],
          [
           "Senior UX Designer"
          ],
          [
           "Senior Marketing Manager"
          ],
          [
           "Junior Project Manager"
          ],
          [
           "Senior Business Analyst"
          ],
          [
           "Senior Financial Manager"
          ],
          [
           "Junior Financial Analyst"
          ],
          [
           "Senior Data Engineer"
          ],
          [
           "Senior Marketing Analyst"
          ],
          [
           "Junior Operations Manager"
          ],
          [
           "Senior Data Scientist"
          ],
          [
           "Senior Business Analyst"
          ],
          [
           "Junior Business Development Associate"
          ],
          [
           "Senior UX Designer"
          ],
          [
           "Senior Marketing Manager"
          ],
          [
           "Junior Project Manager"
          ],
          [
           "Senior Business Analyst"
          ],
          [
           "Senior Financial Manager"
          ],
          [
           "Junior Financial Analyst"
          ],
          [
           "Senior Data Engineer"
          ],
          [
           "Senior Marketing Analyst"
          ],
          [
           "Junior Project Manager"
          ],
          [
           "Senior Business Analyst"
          ]
         ],
         "hovertemplate": "Gender=Female<br>Years of Experience=%{x}<br>Salary=%{y}<br>Job Title=%{customdata[0]}<extra></extra>",
         "legendgroup": "Female",
         "marker": {
          "color": "#EF553B",
          "opacity": 0.8,
          "size": 5,
          "symbol": "circle"
         },
         "mode": "markers",
         "name": "Female",
         "orientation": "v",
         "showlegend": true,
         "type": "scatter",
         "x": [
          3,
          7,
          12,
          1,
          18,
          14,
          7,
          0,
          5,
          9,
          3,
          11,
          15,
          4,
          10,
          7,
          1,
          5,
          8,
          2,
          16,
          22,
          12,
          3,
          2,
          4,
          23,
          12,
          10,
          5,
          18,
          11,
          14,
          22,
          20,
          3,
          13,
          2,
          10,
          15,
          6,
          3,
          25,
          12,
          10,
          5,
          19,
          13,
          3,
          14,
          15,
          22,
          0.5,
          15,
          3,
          17,
          5,
          16,
          9,
          4,
          21,
          12,
          10,
          4,
          14,
          13,
          1.5,
          16,
          10,
          3,
          18,
          9,
          5,
          23,
          12,
          3,
          13,
          14,
          4,
          20,
          1.5,
          18,
          10,
          2,
          15,
          8,
          6,
          22,
          12,
          3,
          13,
          11,
          5,
          21,
          1.5,
          17,
          10,
          2,
          15,
          8,
          6,
          22,
          12,
          3,
          13,
          11,
          5,
          21,
          1.5,
          13,
          9,
          5,
          18,
          10,
          6,
          21,
          11,
          2,
          15,
          8,
          6,
          22,
          10,
          3,
          1.5,
          15,
          9,
          4,
          20,
          9,
          5,
          21,
          11,
          1.5,
          15,
          8,
          10,
          2,
          14,
          12,
          2,
          20,
          9,
          5,
          21,
          12,
          1.5,
          15,
          8,
          6,
          2,
          16,
          12,
          2,
          15,
          10,
          3,
          16,
          8,
          2,
          15,
          8,
          3,
          16,
          8,
          1,
          16,
          10,
          3,
          16,
          8,
          2,
          15,
          8,
          3,
          16,
          8,
          2,
          15
         ],
         "xaxis": "x",
         "y": [
          65000,
          60000,
          120000,
          45000,
          140000,
          130000,
          90000,
          35000,
          80000,
          60000,
          45000,
          110000,
          140000,
          55000,
          65000,
          60000,
          40000,
          80000,
          45000,
          40000,
          180000,
          130000,
          60000,
          50000,
          65000,
          55000,
          170000,
          80000,
          90000,
          45000,
          150000,
          70000,
          120000,
          160000,
          180000,
          55000,
          80000,
          40000,
          95000,
          80000,
          55000,
          40000,
          170000,
          65000,
          90000,
          45000,
          150000,
          80000,
          50000,
          100000,
          110000,
          130000,
          35000,
          65000,
          45000,
          100000,
          50000,
          140000,
          95000,
          50000,
          160000,
          100000,
          55000,
          50000,
          120000,
          110000,
          40000,
          150000,
          80000,
          45000,
          140000,
          95000,
          50000,
          185000,
          90000,
          45000,
          120000,
          110000,
          50000,
          180000,
          45000,
          140000,
          80000,
          40000,
          145000,
          85000,
          95000,
          180000,
          95000,
          45000,
          120000,
          90000,
          55000,
          180000,
          45000,
          160000,
          120000,
          40000,
          150000,
          85000,
          100000,
          180000,
          100000,
          45000,
          140000,
          105000,
          70000,
          190000,
          50000,
          140000,
          100000,
          70000,
          160000,
          120000,
          70000,
          180000,
          95000,
          40000,
          150000,
          85000,
          100000,
          180000,
          120000,
          50000,
          40000,
          140000,
          110000,
          60000,
          180000,
          120000,
          70000,
          180000,
          95000,
          35000,
          150000,
          85000,
          110000,
          40000,
          140000,
          130000,
          40000,
          180000,
          120000,
          70000,
          180000,
          120000,
          35000,
          150000,
          85000,
          80000,
          40000,
          160000,
          130000,
          40000,
          150000,
          110000,
          50000,
          160000,
          95000,
          40000,
          150000,
          90000,
          50000,
          160000,
          85000,
          35000,
          160000,
          110000,
          50000,
          160000,
          95000,
          40000,
          150000,
          90000,
          50000,
          160000,
          85000,
          40000,
          150000
         ],
         "yaxis": "y"
        }
       ],
       "layout": {
        "legend": {
         "title": {
          "text": "Gender"
         },
         "tracegroupgap": 0
        },
        "template": {
         "data": {
          "bar": [
           {
            "error_x": {
             "color": "#2a3f5f"
            },
            "error_y": {
             "color": "#2a3f5f"
            },
            "marker": {
             "line": {
              "color": "#E5ECF6",
              "width": 0.5
             },
             "pattern": {
              "fillmode": "overlay",
              "size": 10,
              "solidity": 0.2
             }
            },
            "type": "bar"
           }
          ],
          "barpolar": [
           {
            "marker": {
             "line": {
              "color": "#E5ECF6",
              "width": 0.5
             },
             "pattern": {
              "fillmode": "overlay",
              "size": 10,
              "solidity": 0.2
             }
            },
            "type": "barpolar"
           }
          ],
          "carpet": [
           {
            "aaxis": {
             "endlinecolor": "#2a3f5f",
             "gridcolor": "white",
             "linecolor": "white",
             "minorgridcolor": "white",
             "startlinecolor": "#2a3f5f"
            },
            "baxis": {
             "endlinecolor": "#2a3f5f",
             "gridcolor": "white",
             "linecolor": "white",
             "minorgridcolor": "white",
             "startlinecolor": "#2a3f5f"
            },
            "type": "carpet"
           }
          ],
          "choropleth": [
           {
            "colorbar": {
             "outlinewidth": 0,
             "ticks": ""
            },
            "type": "choropleth"
           }
          ],
          "contour": [
           {
            "colorbar": {
             "outlinewidth": 0,
             "ticks": ""
            },
            "colorscale": [
             [
              0,
              "#0d0887"
             ],
             [
              0.1111111111111111,
              "#46039f"
             ],
             [
              0.2222222222222222,
              "#7201a8"
             ],
             [
              0.3333333333333333,
              "#9c179e"
             ],
             [
              0.4444444444444444,
              "#bd3786"
             ],
             [
              0.5555555555555556,
              "#d8576b"
             ],
             [
              0.6666666666666666,
              "#ed7953"
             ],
             [
              0.7777777777777778,
              "#fb9f3a"
             ],
             [
              0.8888888888888888,
              "#fdca26"
             ],
             [
              1,
              "#f0f921"
             ]
            ],
            "type": "contour"
           }
          ],
          "contourcarpet": [
           {
            "colorbar": {
             "outlinewidth": 0,
             "ticks": ""
            },
            "type": "contourcarpet"
           }
          ],
          "heatmap": [
           {
            "colorbar": {
             "outlinewidth": 0,
             "ticks": ""
            },
            "colorscale": [
             [
              0,
              "#0d0887"
             ],
             [
              0.1111111111111111,
              "#46039f"
             ],
             [
              0.2222222222222222,
              "#7201a8"
             ],
             [
              0.3333333333333333,
              "#9c179e"
             ],
             [
              0.4444444444444444,
              "#bd3786"
             ],
             [
              0.5555555555555556,
              "#d8576b"
             ],
             [
              0.6666666666666666,
              "#ed7953"
             ],
             [
              0.7777777777777778,
              "#fb9f3a"
             ],
             [
              0.8888888888888888,
              "#fdca26"
             ],
             [
              1,
              "#f0f921"
             ]
            ],
            "type": "heatmap"
           }
          ],
          "heatmapgl": [
           {
            "colorbar": {
             "outlinewidth": 0,
             "ticks": ""
            },
            "colorscale": [
             [
              0,
              "#0d0887"
             ],
             [
              0.1111111111111111,
              "#46039f"
             ],
             [
              0.2222222222222222,
              "#7201a8"
             ],
             [
              0.3333333333333333,
              "#9c179e"
             ],
             [
              0.4444444444444444,
              "#bd3786"
             ],
             [
              0.5555555555555556,
              "#d8576b"
             ],
             [
              0.6666666666666666,
              "#ed7953"
             ],
             [
              0.7777777777777778,
              "#fb9f3a"
             ],
             [
              0.8888888888888888,
              "#fdca26"
             ],
             [
              1,
              "#f0f921"
             ]
            ],
            "type": "heatmapgl"
           }
          ],
          "histogram": [
           {
            "marker": {
             "pattern": {
              "fillmode": "overlay",
              "size": 10,
              "solidity": 0.2
             }
            },
            "type": "histogram"
           }
          ],
          "histogram2d": [
           {
            "colorbar": {
             "outlinewidth": 0,
             "ticks": ""
            },
            "colorscale": [
             [
              0,
              "#0d0887"
             ],
             [
              0.1111111111111111,
              "#46039f"
             ],
             [
              0.2222222222222222,
              "#7201a8"
             ],
             [
              0.3333333333333333,
              "#9c179e"
             ],
             [
              0.4444444444444444,
              "#bd3786"
             ],
             [
              0.5555555555555556,
              "#d8576b"
             ],
             [
              0.6666666666666666,
              "#ed7953"
             ],
             [
              0.7777777777777778,
              "#fb9f3a"
             ],
             [
              0.8888888888888888,
              "#fdca26"
             ],
             [
              1,
              "#f0f921"
             ]
            ],
            "type": "histogram2d"
           }
          ],
          "histogram2dcontour": [
           {
            "colorbar": {
             "outlinewidth": 0,
             "ticks": ""
            },
            "colorscale": [
             [
              0,
              "#0d0887"
             ],
             [
              0.1111111111111111,
              "#46039f"
             ],
             [
              0.2222222222222222,
              "#7201a8"
             ],
             [
              0.3333333333333333,
              "#9c179e"
             ],
             [
              0.4444444444444444,
              "#bd3786"
             ],
             [
              0.5555555555555556,
              "#d8576b"
             ],
             [
              0.6666666666666666,
              "#ed7953"
             ],
             [
              0.7777777777777778,
              "#fb9f3a"
             ],
             [
              0.8888888888888888,
              "#fdca26"
             ],
             [
              1,
              "#f0f921"
             ]
            ],
            "type": "histogram2dcontour"
           }
          ],
          "mesh3d": [
           {
            "colorbar": {
             "outlinewidth": 0,
             "ticks": ""
            },
            "type": "mesh3d"
           }
          ],
          "parcoords": [
           {
            "line": {
             "colorbar": {
              "outlinewidth": 0,
              "ticks": ""
             }
            },
            "type": "parcoords"
           }
          ],
          "pie": [
           {
            "automargin": true,
            "type": "pie"
           }
          ],
          "scatter": [
           {
            "fillpattern": {
             "fillmode": "overlay",
             "size": 10,
             "solidity": 0.2
            },
            "type": "scatter"
           }
          ],
          "scatter3d": [
           {
            "line": {
             "colorbar": {
              "outlinewidth": 0,
              "ticks": ""
             }
            },
            "marker": {
             "colorbar": {
              "outlinewidth": 0,
              "ticks": ""
             }
            },
            "type": "scatter3d"
           }
          ],
          "scattercarpet": [
           {
            "marker": {
             "colorbar": {
              "outlinewidth": 0,
              "ticks": ""
             }
            },
            "type": "scattercarpet"
           }
          ],
          "scattergeo": [
           {
            "marker": {
             "colorbar": {
              "outlinewidth": 0,
              "ticks": ""
             }
            },
            "type": "scattergeo"
           }
          ],
          "scattergl": [
           {
            "marker": {
             "colorbar": {
              "outlinewidth": 0,
              "ticks": ""
             }
            },
            "type": "scattergl"
           }
          ],
          "scattermapbox": [
           {
            "marker": {
             "colorbar": {
              "outlinewidth": 0,
              "ticks": ""
             }
            },
            "type": "scattermapbox"
           }
          ],
          "scatterpolar": [
           {
            "marker": {
             "colorbar": {
              "outlinewidth": 0,
              "ticks": ""
             }
            },
            "type": "scatterpolar"
           }
          ],
          "scatterpolargl": [
           {
            "marker": {
             "colorbar": {
              "outlinewidth": 0,
              "ticks": ""
             }
            },
            "type": "scatterpolargl"
           }
          ],
          "scatterternary": [
           {
            "marker": {
             "colorbar": {
              "outlinewidth": 0,
              "ticks": ""
             }
            },
            "type": "scatterternary"
           }
          ],
          "surface": [
           {
            "colorbar": {
             "outlinewidth": 0,
             "ticks": ""
            },
            "colorscale": [
             [
              0,
              "#0d0887"
             ],
             [
              0.1111111111111111,
              "#46039f"
             ],
             [
              0.2222222222222222,
              "#7201a8"
             ],
             [
              0.3333333333333333,
              "#9c179e"
             ],
             [
              0.4444444444444444,
              "#bd3786"
             ],
             [
              0.5555555555555556,
              "#d8576b"
             ],
             [
              0.6666666666666666,
              "#ed7953"
             ],
             [
              0.7777777777777778,
              "#fb9f3a"
             ],
             [
              0.8888888888888888,
              "#fdca26"
             ],
             [
              1,
              "#f0f921"
             ]
            ],
            "type": "surface"
           }
          ],
          "table": [
           {
            "cells": {
             "fill": {
              "color": "#EBF0F8"
             },
             "line": {
              "color": "white"
             }
            },
            "header": {
             "fill": {
              "color": "#C8D4E3"
             },
             "line": {
              "color": "white"
             }
            },
            "type": "table"
           }
          ]
         },
         "layout": {
          "annotationdefaults": {
           "arrowcolor": "#2a3f5f",
           "arrowhead": 0,
           "arrowwidth": 1
          },
          "autotypenumbers": "strict",
          "coloraxis": {
           "colorbar": {
            "outlinewidth": 0,
            "ticks": ""
           }
          },
          "colorscale": {
           "diverging": [
            [
             0,
             "#8e0152"
            ],
            [
             0.1,
             "#c51b7d"
            ],
            [
             0.2,
             "#de77ae"
            ],
            [
             0.3,
             "#f1b6da"
            ],
            [
             0.4,
             "#fde0ef"
            ],
            [
             0.5,
             "#f7f7f7"
            ],
            [
             0.6,
             "#e6f5d0"
            ],
            [
             0.7,
             "#b8e186"
            ],
            [
             0.8,
             "#7fbc41"
            ],
            [
             0.9,
             "#4d9221"
            ],
            [
             1,
             "#276419"
            ]
           ],
           "sequential": [
            [
             0,
             "#0d0887"
            ],
            [
             0.1111111111111111,
             "#46039f"
            ],
            [
             0.2222222222222222,
             "#7201a8"
            ],
            [
             0.3333333333333333,
             "#9c179e"
            ],
            [
             0.4444444444444444,
             "#bd3786"
            ],
            [
             0.5555555555555556,
             "#d8576b"
            ],
            [
             0.6666666666666666,
             "#ed7953"
            ],
            [
             0.7777777777777778,
             "#fb9f3a"
            ],
            [
             0.8888888888888888,
             "#fdca26"
            ],
            [
             1,
             "#f0f921"
            ]
           ],
           "sequentialminus": [
            [
             0,
             "#0d0887"
            ],
            [
             0.1111111111111111,
             "#46039f"
            ],
            [
             0.2222222222222222,
             "#7201a8"
            ],
            [
             0.3333333333333333,
             "#9c179e"
            ],
            [
             0.4444444444444444,
             "#bd3786"
            ],
            [
             0.5555555555555556,
             "#d8576b"
            ],
            [
             0.6666666666666666,
             "#ed7953"
            ],
            [
             0.7777777777777778,
             "#fb9f3a"
            ],
            [
             0.8888888888888888,
             "#fdca26"
            ],
            [
             1,
             "#f0f921"
            ]
           ]
          },
          "colorway": [
           "#636efa",
           "#EF553B",
           "#00cc96",
           "#ab63fa",
           "#FFA15A",
           "#19d3f3",
           "#FF6692",
           "#B6E880",
           "#FF97FF",
           "#FECB52"
          ],
          "font": {
           "color": "#2a3f5f"
          },
          "geo": {
           "bgcolor": "white",
           "lakecolor": "white",
           "landcolor": "#E5ECF6",
           "showlakes": true,
           "showland": true,
           "subunitcolor": "white"
          },
          "hoverlabel": {
           "align": "left"
          },
          "hovermode": "closest",
          "mapbox": {
           "style": "light"
          },
          "paper_bgcolor": "white",
          "plot_bgcolor": "#E5ECF6",
          "polar": {
           "angularaxis": {
            "gridcolor": "white",
            "linecolor": "white",
            "ticks": ""
           },
           "bgcolor": "#E5ECF6",
           "radialaxis": {
            "gridcolor": "white",
            "linecolor": "white",
            "ticks": ""
           }
          },
          "scene": {
           "xaxis": {
            "backgroundcolor": "#E5ECF6",
            "gridcolor": "white",
            "gridwidth": 2,
            "linecolor": "white",
            "showbackground": true,
            "ticks": "",
            "zerolinecolor": "white"
           },
           "yaxis": {
            "backgroundcolor": "#E5ECF6",
            "gridcolor": "white",
            "gridwidth": 2,
            "linecolor": "white",
            "showbackground": true,
            "ticks": "",
            "zerolinecolor": "white"
           },
           "zaxis": {
            "backgroundcolor": "#E5ECF6",
            "gridcolor": "white",
            "gridwidth": 2,
            "linecolor": "white",
            "showbackground": true,
            "ticks": "",
            "zerolinecolor": "white"
           }
          },
          "shapedefaults": {
           "line": {
            "color": "#2a3f5f"
           }
          },
          "ternary": {
           "aaxis": {
            "gridcolor": "white",
            "linecolor": "white",
            "ticks": ""
           },
           "baxis": {
            "gridcolor": "white",
            "linecolor": "white",
            "ticks": ""
           },
           "bgcolor": "#E5ECF6",
           "caxis": {
            "gridcolor": "white",
            "linecolor": "white",
            "ticks": ""
           }
          },
          "title": {
           "x": 0.05
          },
          "xaxis": {
           "automargin": true,
           "gridcolor": "white",
           "linecolor": "white",
           "ticks": "",
           "title": {
            "standoff": 15
           },
           "zerolinecolor": "white",
           "zerolinewidth": 2
          },
          "yaxis": {
           "automargin": true,
           "gridcolor": "white",
           "linecolor": "white",
           "ticks": "",
           "title": {
            "standoff": 15
           },
           "zerolinecolor": "white",
           "zerolinewidth": 2
          }
         }
        },
        "title": {
         "text": "Years of Experience vs. Salary"
        },
        "xaxis": {
         "anchor": "y",
         "domain": [
          0,
          1
         ],
         "title": {
          "text": "Years of Experience"
         }
        },
        "yaxis": {
         "anchor": "x",
         "domain": [
          0,
          1
         ],
         "title": {
          "text": "Salary"
         }
        }
       }
      }
     },
     "metadata": {},
     "output_type": "display_data"
    }
   ],
   "source": [
    "fig = px.scatter(data, \n",
    "                 x='Years of Experience', \n",
    "                 y='Salary', \n",
    "                 color='Gender', \n",
    "                 opacity=0.8, \n",
    "                 hover_data=['Job Title'], \n",
    "                 title='Years of Experience vs. Salary')\n",
    "fig.update_traces(marker_size=5)\n",
    "fig.show()"
   ]
  },
  {
   "cell_type": "markdown",
   "metadata": {},
   "source": [
    "Based on this scatter plot, we can observe that salary increases with years of experience, but as with age, there is significant variation at each year, which means that years of experience can't be the only factor used to determine salary."
   ]
  },
  {
   "cell_type": "markdown",
   "metadata": {},
   "source": [
    "### Correlations\n",
    "\n",
    "Let's take a look at how each of the columns are correlated to each other with a correlation matrix; this will be a reference for our linear regression model later.\n",
    "\n",
    "We should first look at the categorical columns, because they can't be apart of the correlation matrix. Let's begin with the gender column."
   ]
  },
  {
   "cell_type": "code",
   "execution_count": 22,
   "metadata": {},
   "outputs": [
    {
     "data": {
      "text/plain": [
       "0.07702208472341511"
      ]
     },
     "execution_count": 22,
     "metadata": {},
     "output_type": "execute_result"
    }
   ],
   "source": [
    "gender_values = {'Male': 1, 'Female': 0}\n",
    "gender_numeric = data.Gender.map(gender_values)\n",
    "data.Salary.corr(gender_numeric)"
   ]
  },
  {
   "cell_type": "markdown",
   "metadata": {},
   "source": [
    "Based on this value, there is an extremely weak positive correlation between gender and salary. Let's now look at education level."
   ]
  },
  {
   "cell_type": "code",
   "execution_count": 23,
   "metadata": {},
   "outputs": [
    {
     "data": {
      "text/plain": [
       "0.6706272916052559"
      ]
     },
     "execution_count": 23,
     "metadata": {},
     "output_type": "execute_result"
    }
   ],
   "source": [
    "education_values = {\"Bachelor's\": 0, \"Master's\": 1, \"PhD\": 2}\n",
    "education_numeric = data[\"Education Level\"].map(education_values)\n",
    "data.Salary.corr(education_numeric)"
   ]
  },
  {
   "cell_type": "markdown",
   "metadata": {},
   "source": [
    "Based on this value, there is a relatively strong positive correlation between one's education level and their salary.\n",
    "\n",
    "Now that we have looked at the necessary correlations for the categorical columns, let's now use a correlation matrix to view the correlations for the numerical columns."
   ]
  },
  {
   "cell_type": "code",
   "execution_count": 24,
   "metadata": {},
   "outputs": [
    {
     "data": {
      "text/html": [
       "<div>\n",
       "<style scoped>\n",
       "    .dataframe tbody tr th:only-of-type {\n",
       "        vertical-align: middle;\n",
       "    }\n",
       "\n",
       "    .dataframe tbody tr th {\n",
       "        vertical-align: top;\n",
       "    }\n",
       "\n",
       "    .dataframe thead th {\n",
       "        text-align: right;\n",
       "    }\n",
       "</style>\n",
       "<table border=\"1\" class=\"dataframe\">\n",
       "  <thead>\n",
       "    <tr style=\"text-align: right;\">\n",
       "      <th></th>\n",
       "      <th>Age</th>\n",
       "      <th>Years of Experience</th>\n",
       "      <th>Salary</th>\n",
       "    </tr>\n",
       "  </thead>\n",
       "  <tbody>\n",
       "    <tr>\n",
       "      <th>0</th>\n",
       "      <td>32.0</td>\n",
       "      <td>5.0</td>\n",
       "      <td>90000.0</td>\n",
       "    </tr>\n",
       "    <tr>\n",
       "      <th>1</th>\n",
       "      <td>28.0</td>\n",
       "      <td>3.0</td>\n",
       "      <td>65000.0</td>\n",
       "    </tr>\n",
       "    <tr>\n",
       "      <th>2</th>\n",
       "      <td>45.0</td>\n",
       "      <td>15.0</td>\n",
       "      <td>150000.0</td>\n",
       "    </tr>\n",
       "    <tr>\n",
       "      <th>3</th>\n",
       "      <td>36.0</td>\n",
       "      <td>7.0</td>\n",
       "      <td>60000.0</td>\n",
       "    </tr>\n",
       "    <tr>\n",
       "      <th>4</th>\n",
       "      <td>52.0</td>\n",
       "      <td>20.0</td>\n",
       "      <td>200000.0</td>\n",
       "    </tr>\n",
       "    <tr>\n",
       "      <th>...</th>\n",
       "      <td>...</td>\n",
       "      <td>...</td>\n",
       "      <td>...</td>\n",
       "    </tr>\n",
       "    <tr>\n",
       "      <th>370</th>\n",
       "      <td>35.0</td>\n",
       "      <td>8.0</td>\n",
       "      <td>85000.0</td>\n",
       "    </tr>\n",
       "    <tr>\n",
       "      <th>371</th>\n",
       "      <td>43.0</td>\n",
       "      <td>19.0</td>\n",
       "      <td>170000.0</td>\n",
       "    </tr>\n",
       "    <tr>\n",
       "      <th>372</th>\n",
       "      <td>29.0</td>\n",
       "      <td>2.0</td>\n",
       "      <td>40000.0</td>\n",
       "    </tr>\n",
       "    <tr>\n",
       "      <th>373</th>\n",
       "      <td>34.0</td>\n",
       "      <td>7.0</td>\n",
       "      <td>90000.0</td>\n",
       "    </tr>\n",
       "    <tr>\n",
       "      <th>374</th>\n",
       "      <td>44.0</td>\n",
       "      <td>15.0</td>\n",
       "      <td>150000.0</td>\n",
       "    </tr>\n",
       "  </tbody>\n",
       "</table>\n",
       "<p>372 rows × 3 columns</p>\n",
       "</div>"
      ],
      "text/plain": [
       "      Age  Years of Experience    Salary\n",
       "0    32.0                  5.0   90000.0\n",
       "1    28.0                  3.0   65000.0\n",
       "2    45.0                 15.0  150000.0\n",
       "3    36.0                  7.0   60000.0\n",
       "4    52.0                 20.0  200000.0\n",
       "..    ...                  ...       ...\n",
       "370  35.0                  8.0   85000.0\n",
       "371  43.0                 19.0  170000.0\n",
       "372  29.0                  2.0   40000.0\n",
       "373  34.0                  7.0   90000.0\n",
       "374  44.0                 15.0  150000.0\n",
       "\n",
       "[372 rows x 3 columns]"
      ]
     },
     "execution_count": 24,
     "metadata": {},
     "output_type": "execute_result"
    }
   ],
   "source": [
    "numerical_df = data.drop(columns=['Gender', 'Education Level', 'Job Title'])\n",
    "numerical_df"
   ]
  },
  {
   "cell_type": "code",
   "execution_count": 25,
   "metadata": {},
   "outputs": [
    {
     "data": {
      "text/html": [
       "<div>\n",
       "<style scoped>\n",
       "    .dataframe tbody tr th:only-of-type {\n",
       "        vertical-align: middle;\n",
       "    }\n",
       "\n",
       "    .dataframe tbody tr th {\n",
       "        vertical-align: top;\n",
       "    }\n",
       "\n",
       "    .dataframe thead th {\n",
       "        text-align: right;\n",
       "    }\n",
       "</style>\n",
       "<table border=\"1\" class=\"dataframe\">\n",
       "  <thead>\n",
       "    <tr style=\"text-align: right;\">\n",
       "      <th></th>\n",
       "      <th>Age</th>\n",
       "      <th>Years of Experience</th>\n",
       "      <th>Salary</th>\n",
       "    </tr>\n",
       "  </thead>\n",
       "  <tbody>\n",
       "    <tr>\n",
       "      <th>Age</th>\n",
       "      <td>1.000000</td>\n",
       "      <td>0.979056</td>\n",
       "      <td>0.922801</td>\n",
       "    </tr>\n",
       "    <tr>\n",
       "      <th>Years of Experience</th>\n",
       "      <td>0.979056</td>\n",
       "      <td>1.000000</td>\n",
       "      <td>0.930594</td>\n",
       "    </tr>\n",
       "    <tr>\n",
       "      <th>Salary</th>\n",
       "      <td>0.922801</td>\n",
       "      <td>0.930594</td>\n",
       "      <td>1.000000</td>\n",
       "    </tr>\n",
       "  </tbody>\n",
       "</table>\n",
       "</div>"
      ],
      "text/plain": [
       "                          Age  Years of Experience    Salary\n",
       "Age                  1.000000             0.979056  0.922801\n",
       "Years of Experience  0.979056             1.000000  0.930594\n",
       "Salary               0.922801             0.930594  1.000000"
      ]
     },
     "execution_count": 25,
     "metadata": {},
     "output_type": "execute_result"
    }
   ],
   "source": [
    "numerical_df.corr()"
   ]
  },
  {
   "cell_type": "code",
   "execution_count": 26,
   "metadata": {},
   "outputs": [
    {
     "data": {
      "image/png": "[encoded data removed]",
      "text/plain": [
       "<Figure size 1000x600 with 2 Axes>"
      ]
     },
     "metadata": {
      "needs_background": "light"
     },
     "output_type": "display_data"
    }
   ],
   "source": [
    "sns.heatmap(numerical_df.corr(), cmap='Reds', annot=True)\n",
    "plt.title('Correlation Matrix');"
   ]
  },
  {
   "cell_type": "markdown",
   "metadata": {},
   "source": [
    "## Linear Regression\n",
    "\n",
    "### Using One Feature\n",
    "\n",
    "We will now use age and salary in a linear regression model and the least squares optimization technique. \n",
    "\n",
    "First, let's quickly visualize the relationship between age and salary."
   ]
  },
  {
   "cell_type": "code",
   "execution_count": 27,
   "metadata": {},
   "outputs": [
    {
     "data": {
      "text/plain": [
       "<Axes: title={'center': 'Age vs Salary'}, xlabel='Age', ylabel='Salary'>"
      ]
     },
     "execution_count": 27,
     "metadata": {},
     "output_type": "execute_result"
    },
    {
     "data": {
      "image/png": "[encoded data removed]",
      "text/plain": [
       "<Figure size 1000x600 with 1 Axes>"
      ]
     },
     "metadata": {
      "needs_background": "light"
     },
     "output_type": "display_data"
    }
   ],
   "source": [
    "plt.title('Age vs Salary')\n",
    "sns.scatterplot(data=data, x='Age', y='Salary')"
   ]
  },
  {
   "cell_type": "markdown",
   "metadata": {},
   "source": [
    "The relationship between age and salary is as follows:\n",
    "\n",
    "$salary = w \\times age + b$\n",
    "\n",
    "Now, let's create some helper functions to estimate the value for charges."
   ]
  },
  {
   "cell_type": "code",
   "execution_count": 28,
   "metadata": {},
   "outputs": [],
   "source": [
    "import numpy as np\n",
    "\n",
    "def estimate_salary(age, w, b):\n",
    "    return w * age + b\n",
    "\n",
    "def rmse(targets, predictions):\n",
    "    return np.sqrt(np.mean(np.square(targets - predictions)))\n",
    "\n",
    "def try_parameters(w, b):\n",
    "    ages = data.Age\n",
    "    target = data.Salary\n",
    "    predictions = estimate_salary(ages, w, b)\n",
    "    \n",
    "    plt.plot(ages, predictions, 'r', alpha=0.9)\n",
    "    plt.scatter(ages, target, s=8,alpha=0.8)\n",
    "    plt.xlabel('Age')\n",
    "    plt.ylabel('Charges')\n",
    "    plt.legend(['Estimate', 'Actual'])\n",
    "\n",
    "    loss = rmse(target, predictions)\n",
    "    print(\"RMSE Loss: \", loss)"
   ]
  },
  {
   "cell_type": "markdown",
   "metadata": {},
   "source": [
    "Now we can train the machine learning model using linear regression."
   ]
  },
  {
   "cell_type": "code",
   "execution_count": 29,
   "metadata": {},
   "outputs": [
    {
     "name": "stdout",
     "output_type": "stream",
     "text": [
      "Note: you may need to restart the kernel to use updated packages.\n"
     ]
    }
   ],
   "source": [
    "%pip install scikit-learn --quiet"
   ]
  },
  {
   "cell_type": "code",
   "execution_count": 30,
   "metadata": {},
   "outputs": [
    {
     "data": {
      "text/html": [
       "<style>#sk-container-id-1 {color: black;background-color: white;}#sk-container-id-1 pre{padding: 0;}#sk-container-id-1 div.sk-toggleable {background-color: white;}#sk-container-id-1 label.sk-toggleable__label {cursor: pointer;display: block;width: 100%;margin-bottom: 0;padding: 0.3em;box-sizing: border-box;text-align: center;}#sk-container-id-1 label.sk-toggleable__label-arrow:before {content: \"▸\";float: left;margin-right: 0.25em;color: #696969;}#sk-container-id-1 label.sk-toggleable__label-arrow:hover:before {color: black;}#sk-container-id-1 div.sk-estimator:hover label.sk-toggleable__label-arrow:before {color: black;}#sk-container-id-1 div.sk-toggleable__content {max-height: 0;max-width: 0;overflow: hidden;text-align: left;background-color: #f0f8ff;}#sk-container-id-1 div.sk-toggleable__content pre {margin: 0.2em;color: black;border-radius: 0.25em;background-color: #f0f8ff;}#sk-container-id-1 input.sk-toggleable__control:checked~div.sk-toggleable__content {max-height: 200px;max-width: 100%;overflow: auto;}#sk-container-id-1 input.sk-toggleable__control:checked~label.sk-toggleable__label-arrow:before {content: \"▾\";}#sk-container-id-1 div.sk-estimator input.sk-toggleable__control:checked~label.sk-toggleable__label {background-color: #d4ebff;}#sk-container-id-1 div.sk-label input.sk-toggleable__control:checked~label.sk-toggleable__label {background-color: #d4ebff;}#sk-container-id-1 input.sk-hidden--visually {border: 0;clip: rect(1px 1px 1px 1px);clip: rect(1px, 1px, 1px, 1px);height: 1px;margin: -1px;overflow: hidden;padding: 0;position: absolute;width: 1px;}#sk-container-id-1 div.sk-estimator {font-family: monospace;background-color: #f0f8ff;border: 1px dotted black;border-radius: 0.25em;box-sizing: border-box;margin-bottom: 0.5em;}#sk-container-id-1 div.sk-estimator:hover {background-color: #d4ebff;}#sk-container-id-1 div.sk-parallel-item::after {content: \"\";width: 100%;border-bottom: 1px solid gray;flex-grow: 1;}#sk-container-id-1 div.sk-label:hover label.sk-toggleable__label {background-color: #d4ebff;}#sk-container-id-1 div.sk-serial::before {content: \"\";position: absolute;border-left: 1px solid gray;box-sizing: border-box;top: 0;bottom: 0;left: 50%;z-index: 0;}#sk-container-id-1 div.sk-serial {display: flex;flex-direction: column;align-items: center;background-color: white;padding-right: 0.2em;padding-left: 0.2em;position: relative;}#sk-container-id-1 div.sk-item {position: relative;z-index: 1;}#sk-container-id-1 div.sk-parallel {display: flex;align-items: stretch;justify-content: center;background-color: white;position: relative;}#sk-container-id-1 div.sk-item::before, #sk-container-id-1 div.sk-parallel-item::before {content: \"\";position: absolute;border-left: 1px solid gray;box-sizing: border-box;top: 0;bottom: 0;left: 50%;z-index: -1;}#sk-container-id-1 div.sk-parallel-item {display: flex;flex-direction: column;z-index: 1;position: relative;background-color: white;}#sk-container-id-1 div.sk-parallel-item:first-child::after {align-self: flex-end;width: 50%;}#sk-container-id-1 div.sk-parallel-item:last-child::after {align-self: flex-start;width: 50%;}#sk-container-id-1 div.sk-parallel-item:only-child::after {width: 0;}#sk-container-id-1 div.sk-dashed-wrapped {border: 1px dashed gray;margin: 0 0.4em 0.5em 0.4em;box-sizing: border-box;padding-bottom: 0.4em;background-color: white;}#sk-container-id-1 div.sk-label label {font-family: monospace;font-weight: bold;display: inline-block;line-height: 1.2em;}#sk-container-id-1 div.sk-label-container {text-align: center;}#sk-container-id-1 div.sk-container {/* jupyter's `normalize.less` sets `[hidden] { display: none; }` but bootstrap.min.css set `[hidden] { display: none !important; }` so we also need the `!important` here to be able to override the default hidden behavior on the sphinx rendered scikit-learn.org. See: https://github.com/scikit-learn/scikit-learn/issues/21755 */display: inline-block !important;position: relative;}#sk-container-id-1 div.sk-text-repr-fallback {display: none;}</style><div id=\"sk-container-id-1\" class=\"sk-top-container\"><div class=\"sk-text-repr-fallback\"><pre>LinearRegression()</pre><b>In a Jupyter environment, please rerun this cell to show the HTML representation or trust the notebook. <br />On GitHub, the HTML representation is unable to render, please try loading this page with nbviewer.org.</b></div><div class=\"sk-container\" hidden><div class=\"sk-item\"><div class=\"sk-estimator sk-toggleable\"><input class=\"sk-toggleable__control sk-hidden--visually\" id=\"sk-estimator-id-1\" type=\"checkbox\" checked><label for=\"sk-estimator-id-1\" class=\"sk-toggleable__label sk-toggleable__label-arrow\">LinearRegression</label><div class=\"sk-toggleable__content\"><pre>LinearRegression()</pre></div></div></div></div></div>"
      ],
      "text/plain": [
       "LinearRegression()"
      ]
     },
     "execution_count": 30,
     "metadata": {},
     "output_type": "execute_result"
    }
   ],
   "source": [
    "from sklearn.linear_model import LinearRegression\n",
    "\n",
    "model = LinearRegression()\n",
    "\n",
    "inputs = data[['Age']]\n",
    "targets = data.Salary\n",
    "\n",
    "model.fit(inputs, targets)"
   ]
  },
  {
   "cell_type": "markdown",
   "metadata": {},
   "source": [
    "Now that we have our model, we can now make predictions using the linear regression model. Let's compute the predictions for the entire set of inputs."
   ]
  },
  {
   "cell_type": "code",
   "execution_count": 31,
   "metadata": {},
   "outputs": [],
   "source": [
    "predictions = model.predict(inputs)"
   ]
  },
  {
   "cell_type": "code",
   "execution_count": 32,
   "metadata": {},
   "outputs": [
    {
     "data": {
      "text/plain": [
       "array([ 66634.2758274 ,  41543.98624197, 148177.71698003,  91724.56541283,\n",
       "       192085.72375453,  47816.55863833, 129359.99979096,  60361.70343104,\n",
       "        28998.84144926, 104269.71020554,  47816.55863833, 166995.4341691 ,\n",
       "        85451.99301647, 116814.85499825,  35271.41384562, 141905.14458368,\n",
       "        72906.84822376, 110542.2826019 ,  22726.2690529 , 185813.15135817,\n",
       "        79179.42062011, 160722.86177275,  54089.13103469,  91724.56541283,\n",
       "       123087.42739461,  41543.98624197,  97997.13780918,  16453.69665655,\n",
       "       135632.57218732,  72906.84822376, 179540.57896182,  60361.70343104,\n",
       "        47816.55863833, 110542.2826019 , 154450.28937639,  35271.41384562,\n",
       "        85451.99301647, 129359.99979096,  28998.84144926, 173268.00656546,\n",
       "        79179.42062011, 166995.4341691 ,  54089.13103469,  91724.56541283,\n",
       "       123087.42739461,  41543.98624197,  66634.2758274 , 148177.71698003,\n",
       "       104269.71020554,  22726.2690529 , 185813.15135817,  72906.84822376,\n",
       "       116814.85499825, 160722.86177275,  47816.55863833,  91724.56541283,\n",
       "        35271.41384562, 135632.57218732,  54089.13103469,  85451.99301647,\n",
       "       185813.15135817,  47816.55863833, 116814.85499825, 160722.86177275,\n",
       "        28998.84144926, 104269.71020554, 154450.28937639,  60361.70343104,\n",
       "        79179.42062011, 173268.00656546,  72906.84822376, 110542.2826019 ,\n",
       "       148177.71698003,  41543.98624197, 129359.99979096,  97997.13780918,\n",
       "       179540.57896182,  66634.2758274 , 166995.4341691 ,  54089.13103469,\n",
       "        91724.56541283, 123087.42739461,  22726.2690529 , 192085.72375453,\n",
       "        47816.55863833,  79179.42062011,  35271.41384562, 116814.85499825,\n",
       "       154450.28937639,  60361.70343104,  91724.56541283,  47816.55863833,\n",
       "       135632.57218732, 192085.72375453,  72906.84822376, 110542.2826019 ,\n",
       "       160722.86177275,  28998.84144926, 104269.71020554, 148177.71698003,\n",
       "        60361.70343104,  85451.99301647, 173268.00656546,  72906.84822376,\n",
       "       110542.2826019 , 141905.14458368,  54089.13103469,  91724.56541283,\n",
       "       123087.42739461,  41543.98624197, 129359.99979096,  97997.13780918,\n",
       "       179540.57896182,  66634.2758274 ,  10181.12426019,  60361.70343104,\n",
       "       116814.85499825, 166995.4341691 ,  47816.55863833,  85451.99301647,\n",
       "       129359.99979096, 198358.29615089,  72906.84822376, 104269.71020554,\n",
       "       141905.14458368,  28998.84144926,  97997.13780918, 148177.71698003,\n",
       "        66634.2758274 ,  79179.42062011, 179540.57896182,  47816.55863833,\n",
       "       116814.85499825, 160722.86177275,  35271.41384562, 110542.2826019 ,\n",
       "       154450.28937639,  54089.13103469,  91724.56541283, 135632.57218732,\n",
       "        41543.98624197, 123087.42739461,  72906.84822376, 160722.86177275,\n",
       "        22726.2690529 ,  79179.42062011, 129359.99979096,  60361.70343104,\n",
       "       104269.71020554, 148177.71698003,  47816.55863833,  91724.56541283,\n",
       "       135632.57218732,  28998.84144926,  97997.13780918, 141905.14458368,\n",
       "        66634.2758274 ,  72906.84822376, 185813.15135817,  41543.98624197,\n",
       "       110542.2826019 , 166995.4341691 ,  54089.13103469,  85451.99301647,\n",
       "       123087.42739461,  35271.41384562, 116814.85499825, 154450.28937639,\n",
       "        60361.70343104,  79179.42062011, 179540.57896182,  47816.55863833,\n",
       "       135632.57218732,  28998.84144926,  85451.99301647, 129359.99979096,\n",
       "        60361.70343104, 104269.71020554, 154450.28937639,  47816.55863833,\n",
       "        97997.13780918, 141905.14458368,  35271.41384562,  91724.56541283,\n",
       "       135632.57218732,  72906.84822376,  79179.42062011, 179540.57896182,\n",
       "        41543.98624197, 110542.2826019 , 160722.86177275,  54089.13103469,\n",
       "        79179.42062011, 116814.85499825,  41543.98624197, 123087.42739461,\n",
       "       148177.71698003,  66634.2758274 ,  85451.99301647, 173268.00656546,\n",
       "        54089.13103469, 141905.14458368,  35271.41384562,  91724.56541283,\n",
       "       123087.42739461,  60361.70343104, 110542.2826019 , 160722.86177275,\n",
       "        54089.13103469, 104269.71020554, 148177.71698003,  41543.98624197,\n",
       "        85451.99301647, 141905.14458368,  79179.42062011,  85451.99301647,\n",
       "       179540.57896182,  47816.55863833, 116814.85499825, 166995.4341691 ,\n",
       "        60361.70343104,  72906.84822376, 129359.99979096,  41543.98624197,\n",
       "       116814.85499825, 154450.28937639,  72906.84822376,  97997.13780918,\n",
       "       185813.15135817,  54089.13103469, 135632.57218732,  35271.41384562,\n",
       "        85451.99301647, 129359.99979096,  66634.2758274 ,  97997.13780918,\n",
       "       148177.71698003,  72906.84822376, 110542.2826019 , 141905.14458368,\n",
       "        47816.55863833, 104269.71020554, 154450.28937639,  79179.42062011,\n",
       "        91724.56541283, 173268.00656546,  60361.70343104, 123087.42739461,\n",
       "       160722.86177275,  54089.13103469, 104269.71020554, 148177.71698003,\n",
       "        41543.98624197,  85451.99301647, 141905.14458368,  79179.42062011,\n",
       "        85451.99301647, 179540.57896182,  97997.13780918, 154450.28937639,\n",
       "        60361.70343104, 129359.99979096,  47816.55863833,  91724.56541283,\n",
       "       141905.14458368,  72906.84822376, 110542.2826019 , 148177.71698003,\n",
       "        66634.2758274 ,  97997.13780918, 160722.86177275,  54089.13103469,\n",
       "       104269.71020554, 154450.28937639,  79179.42062011,  91724.56541283,\n",
       "       173268.00656546,  60361.70343104, 123087.42739461, 160722.86177275,\n",
       "        47816.55863833,  85451.99301647, 141905.14458368,  72906.84822376,\n",
       "        85451.99301647, 141905.14458368,  66634.2758274 , 104269.71020554,\n",
       "       173268.00656546,  47816.55863833,  85451.99301647, 148177.71698003,\n",
       "        72906.84822376, 116814.85499825, 141905.14458368,  54089.13103469,\n",
       "        97997.13780918, 166995.4341691 ,  60361.70343104, 104269.71020554,\n",
       "       148177.71698003,  72906.84822376,  91724.56541283, 173268.00656546,\n",
       "        60361.70343104, 129359.99979096, 160722.86177275,  47816.55863833,\n",
       "        85451.99301647, 141905.14458368,  72906.84822376,  85451.99301647,\n",
       "       141905.14458368,  79179.42062011,  91724.56541283,  54089.13103469,\n",
       "        97997.13780918, 148177.71698003,  66634.2758274 , 110542.2826019 ,\n",
       "       160722.86177275,  47816.55863833,  91724.56541283, 135632.57218732,\n",
       "        66634.2758274 , 104269.71020554, 166995.4341691 ,  60361.70343104,\n",
       "       116814.85499825, 148177.71698003,  72906.84822376,  91724.56541283,\n",
       "       160722.86177275,  47816.55863833,  79179.42062011, 141905.14458368,\n",
       "        72906.84822376,  85451.99301647, 135632.57218732,  60361.70343104,\n",
       "       123087.42739461, 141905.14458368,  72906.84822376,  85451.99301647,\n",
       "       148177.71698003,  41543.98624197,  91724.56541283, 141905.14458368,\n",
       "        60361.70343104, 104269.71020554, 166995.4341691 ,  60361.70343104,\n",
       "       116814.85499825, 148177.71698003,  72906.84822376,  91724.56541283,\n",
       "       160722.86177275,  47816.55863833,  79179.42062011, 141905.14458368,\n",
       "        72906.84822376,  85451.99301647, 135632.57218732,  60361.70343104,\n",
       "       123087.42739461, 141905.14458368,  72906.84822376,  85451.99301647,\n",
       "       135632.57218732,  47816.55863833,  79179.42062011, 141905.14458368])"
      ]
     },
     "execution_count": 32,
     "metadata": {},
     "output_type": "execute_result"
    }
   ],
   "source": [
    "predictions"
   ]
  },
  {
   "cell_type": "markdown",
   "metadata": {},
   "source": [
    "Let's now compute the RMSE loss to evaluate our model."
   ]
  },
  {
   "cell_type": "code",
   "execution_count": 33,
   "metadata": {},
   "outputs": [
    {
     "data": {
      "text/plain": [
       "18477.371506228174"
      ]
     },
     "execution_count": 33,
     "metadata": {},
     "output_type": "execute_result"
    }
   ],
   "source": [
    "rmse(targets, predictions)"
   ]
  },
  {
   "cell_type": "markdown",
   "metadata": {},
   "source": [
    "It seems that our prediction is off by about $19,000 on average, which is a little high, but that might be because we only have implemented one feature right now. \n",
    "\n",
    "Let's now try visualize the regression line."
   ]
  },
  {
   "cell_type": "code",
   "execution_count": 34,
   "metadata": {},
   "outputs": [
    {
     "name": "stdout",
     "output_type": "stream",
     "text": [
      "RMSE Loss:  18477.371506228174\n"
     ]
    },
    {
     "data": {
      "image/png": "[encoded data removed]",
      "text/plain": [
       "<Figure size 1000x600 with 1 Axes>"
      ]
     },
     "metadata": {
      "needs_background": "light"
     },
     "output_type": "display_data"
    }
   ],
   "source": [
    "try_parameters(model.coef_, model.intercept_)"
   ]
  },
  {
   "cell_type": "markdown",
   "metadata": {},
   "source": [
    "### Adding More Features\n",
    "\n",
    "Now we are going to add another feature, years of experience, to our machine learning model to reduce the loss.\n",
    "\n",
    "This means that our new relationship is as follows: \n",
    "\n",
    "$salary = w_1 \\times age + w_2 \\times years + b$"
   ]
  },
  {
   "cell_type": "code",
   "execution_count": 35,
   "metadata": {},
   "outputs": [
    {
     "name": "stdout",
     "output_type": "stream",
     "text": [
      "Loss: 17337.75558422663\n"
     ]
    }
   ],
   "source": [
    "# Create inputs and targets\n",
    "inputs, targets = data[['Age', 'Years of Experience']], data['Salary']\n",
    "\n",
    "# Create and train the model\n",
    "model = LinearRegression().fit(inputs, targets)\n",
    "\n",
    "# Generate predictions\n",
    "predictions = model.predict(inputs)\n",
    "\n",
    "# Compute loss to evalute the model\n",
    "loss = rmse(targets, predictions)\n",
    "print('Loss:', loss)\n"
   ]
  },
  {
   "cell_type": "markdown",
   "metadata": {},
   "source": [
    "We reduced the loss by about $1,000, which is a good improvement. Let's now check the parameters of the model."
   ]
  },
  {
   "cell_type": "code",
   "execution_count": 36,
   "metadata": {},
   "outputs": [
    {
     "data": {
      "text/plain": [
       "(array([1918.12753396, 4796.68039592]), -19220.041966122153)"
      ]
     },
     "execution_count": 36,
     "metadata": {},
     "output_type": "execute_result"
    }
   ],
   "source": [
    "model.coef_, model.intercept_"
   ]
  },
  {
   "cell_type": "markdown",
   "metadata": {},
   "source": [
    "Based on this, years of experience has a much higher weightage compared to age when predicting salary, which could be because years of experience as a higher correlation than age."
   ]
  },
  {
   "cell_type": "markdown",
   "metadata": {},
   "source": [
    "### Adding Categorical Features\n",
    "\n",
    "We will now add the remanining columns to our model, and they are all categorical ones. First, we'll use binary encoding with the gender category and add it to the model."
   ]
  },
  {
   "cell_type": "code",
   "execution_count": 37,
   "metadata": {},
   "outputs": [],
   "source": [
    "gender_codes = {'Female': 0, 'Male': 1}\n",
    "data[\"Gender Code\"] = data.Gender.map(gender_codes)"
   ]
  },
  {
   "cell_type": "code",
   "execution_count": 38,
   "metadata": {},
   "outputs": [
    {
     "data": {
      "text/plain": [
       "0.07702208472341511"
      ]
     },
     "execution_count": 38,
     "metadata": {},
     "output_type": "execute_result"
    }
   ],
   "source": [
    "data.Salary.corr(data[\"Gender Code\"])"
   ]
  },
  {
   "cell_type": "code",
   "execution_count": 39,
   "metadata": {},
   "outputs": [
    {
     "data": {
      "text/html": [
       "<div>\n",
       "<style scoped>\n",
       "    .dataframe tbody tr th:only-of-type {\n",
       "        vertical-align: middle;\n",
       "    }\n",
       "\n",
       "    .dataframe tbody tr th {\n",
       "        vertical-align: top;\n",
       "    }\n",
       "\n",
       "    .dataframe thead th {\n",
       "        text-align: right;\n",
       "    }\n",
       "</style>\n",
       "<table border=\"1\" class=\"dataframe\">\n",
       "  <thead>\n",
       "    <tr style=\"text-align: right;\">\n",
       "      <th></th>\n",
       "      <th>Age</th>\n",
       "      <th>Gender</th>\n",
       "      <th>Education Level</th>\n",
       "      <th>Job Title</th>\n",
       "      <th>Years of Experience</th>\n",
       "      <th>Salary</th>\n",
       "      <th>Gender Code</th>\n",
       "    </tr>\n",
       "  </thead>\n",
       "  <tbody>\n",
       "    <tr>\n",
       "      <th>0</th>\n",
       "      <td>32.0</td>\n",
       "      <td>Male</td>\n",
       "      <td>Bachelor's</td>\n",
       "      <td>Software Engineer</td>\n",
       "      <td>5.0</td>\n",
       "      <td>90000.0</td>\n",
       "      <td>1</td>\n",
       "    </tr>\n",
       "    <tr>\n",
       "      <th>1</th>\n",
       "      <td>28.0</td>\n",
       "      <td>Female</td>\n",
       "      <td>Master's</td>\n",
       "      <td>Data Analyst</td>\n",
       "      <td>3.0</td>\n",
       "      <td>65000.0</td>\n",
       "      <td>0</td>\n",
       "    </tr>\n",
       "    <tr>\n",
       "      <th>2</th>\n",
       "      <td>45.0</td>\n",
       "      <td>Male</td>\n",
       "      <td>PhD</td>\n",
       "      <td>Senior Manager</td>\n",
       "      <td>15.0</td>\n",
       "      <td>150000.0</td>\n",
       "      <td>1</td>\n",
       "    </tr>\n",
       "    <tr>\n",
       "      <th>3</th>\n",
       "      <td>36.0</td>\n",
       "      <td>Female</td>\n",
       "      <td>Bachelor's</td>\n",
       "      <td>Sales Associate</td>\n",
       "      <td>7.0</td>\n",
       "      <td>60000.0</td>\n",
       "      <td>0</td>\n",
       "    </tr>\n",
       "    <tr>\n",
       "      <th>4</th>\n",
       "      <td>52.0</td>\n",
       "      <td>Male</td>\n",
       "      <td>Master's</td>\n",
       "      <td>Director</td>\n",
       "      <td>20.0</td>\n",
       "      <td>200000.0</td>\n",
       "      <td>1</td>\n",
       "    </tr>\n",
       "    <tr>\n",
       "      <th>...</th>\n",
       "      <td>...</td>\n",
       "      <td>...</td>\n",
       "      <td>...</td>\n",
       "      <td>...</td>\n",
       "      <td>...</td>\n",
       "      <td>...</td>\n",
       "      <td>...</td>\n",
       "    </tr>\n",
       "    <tr>\n",
       "      <th>370</th>\n",
       "      <td>35.0</td>\n",
       "      <td>Female</td>\n",
       "      <td>Bachelor's</td>\n",
       "      <td>Senior Marketing Analyst</td>\n",
       "      <td>8.0</td>\n",
       "      <td>85000.0</td>\n",
       "      <td>0</td>\n",
       "    </tr>\n",
       "    <tr>\n",
       "      <th>371</th>\n",
       "      <td>43.0</td>\n",
       "      <td>Male</td>\n",
       "      <td>Master's</td>\n",
       "      <td>Director of Operations</td>\n",
       "      <td>19.0</td>\n",
       "      <td>170000.0</td>\n",
       "      <td>1</td>\n",
       "    </tr>\n",
       "    <tr>\n",
       "      <th>372</th>\n",
       "      <td>29.0</td>\n",
       "      <td>Female</td>\n",
       "      <td>Bachelor's</td>\n",
       "      <td>Junior Project Manager</td>\n",
       "      <td>2.0</td>\n",
       "      <td>40000.0</td>\n",
       "      <td>0</td>\n",
       "    </tr>\n",
       "    <tr>\n",
       "      <th>373</th>\n",
       "      <td>34.0</td>\n",
       "      <td>Male</td>\n",
       "      <td>Bachelor's</td>\n",
       "      <td>Senior Operations Coordinator</td>\n",
       "      <td>7.0</td>\n",
       "      <td>90000.0</td>\n",
       "      <td>1</td>\n",
       "    </tr>\n",
       "    <tr>\n",
       "      <th>374</th>\n",
       "      <td>44.0</td>\n",
       "      <td>Female</td>\n",
       "      <td>PhD</td>\n",
       "      <td>Senior Business Analyst</td>\n",
       "      <td>15.0</td>\n",
       "      <td>150000.0</td>\n",
       "      <td>0</td>\n",
       "    </tr>\n",
       "  </tbody>\n",
       "</table>\n",
       "<p>372 rows × 7 columns</p>\n",
       "</div>"
      ],
      "text/plain": [
       "      Age  Gender Education Level                      Job Title  \\\n",
       "0    32.0    Male      Bachelor's              Software Engineer   \n",
       "1    28.0  Female        Master's                   Data Analyst   \n",
       "2    45.0    Male             PhD                 Senior Manager   \n",
       "3    36.0  Female      Bachelor's                Sales Associate   \n",
       "4    52.0    Male        Master's                       Director   \n",
       "..    ...     ...             ...                            ...   \n",
       "370  35.0  Female      Bachelor's       Senior Marketing Analyst   \n",
       "371  43.0    Male        Master's         Director of Operations   \n",
       "372  29.0  Female      Bachelor's         Junior Project Manager   \n",
       "373  34.0    Male      Bachelor's  Senior Operations Coordinator   \n",
       "374  44.0  Female             PhD        Senior Business Analyst   \n",
       "\n",
       "     Years of Experience    Salary  Gender Code  \n",
       "0                    5.0   90000.0            1  \n",
       "1                    3.0   65000.0            0  \n",
       "2                   15.0  150000.0            1  \n",
       "3                    7.0   60000.0            0  \n",
       "4                   20.0  200000.0            1  \n",
       "..                   ...       ...          ...  \n",
       "370                  8.0   85000.0            0  \n",
       "371                 19.0  170000.0            1  \n",
       "372                  2.0   40000.0            0  \n",
       "373                  7.0   90000.0            1  \n",
       "374                 15.0  150000.0            0  \n",
       "\n",
       "[372 rows x 7 columns]"
      ]
     },
     "execution_count": 39,
     "metadata": {},
     "output_type": "execute_result"
    }
   ],
   "source": [
    "data"
   ]
  },
  {
   "cell_type": "markdown",
   "metadata": {},
   "source": [
    "Now we can use gender for the linear regression. The new relationship would be:\n",
    "\n",
    "$salary = w_1 \\times age + w_2 \\times years + w_3 \\times gender + b$"
   ]
  },
  {
   "cell_type": "code",
   "execution_count": 40,
   "metadata": {},
   "outputs": [
    {
     "name": "stdout",
     "output_type": "stream",
     "text": [
      "Loss: 16925.974212053392\n"
     ]
    }
   ],
   "source": [
    "# Create inputs and targets\n",
    "inputs, targets = data[['Age', 'Years of Experience', 'Gender Code']], data['Salary']\n",
    "\n",
    "# Create and train the model\n",
    "model = LinearRegression().fit(inputs, targets)\n",
    "\n",
    "# Generate predictions\n",
    "predictions = model.predict(inputs)\n",
    "\n",
    "# Compute loss to evalute the model\n",
    "loss = rmse(targets, predictions)\n",
    "print('Loss:', loss)\n"
   ]
  },
  {
   "cell_type": "markdown",
   "metadata": {},
   "source": [
    "The loss was reduced from $17,337 to $16,925, which is around a $400 difference. The miniscule difference is likely due to the fact that gender is not as correlated with salary as the other columns.\n",
    "\n",
    "Let's now add the education level column to our model using one hot encoding."
   ]
  },
  {
   "cell_type": "code",
   "execution_count": 41,
   "metadata": {},
   "outputs": [
    {
     "data": {
      "text/plain": [
       "[array([\"Bachelor's\", \"Master's\", 'PhD'], dtype=object)]"
      ]
     },
     "execution_count": 41,
     "metadata": {},
     "output_type": "execute_result"
    }
   ],
   "source": [
    "from sklearn import preprocessing\n",
    "\n",
    "enc = preprocessing.OneHotEncoder()\n",
    "enc.fit(data[['Education Level']])\n",
    "enc.categories_"
   ]
  },
  {
   "cell_type": "code",
   "execution_count": 42,
   "metadata": {},
   "outputs": [
    {
     "data": {
      "text/plain": [
       "array([[1., 0., 0.],\n",
       "       [0., 1., 0.],\n",
       "       [0., 0., 1.],\n",
       "       ...,\n",
       "       [1., 0., 0.],\n",
       "       [1., 0., 0.],\n",
       "       [0., 0., 1.]])"
      ]
     },
     "execution_count": 42,
     "metadata": {},
     "output_type": "execute_result"
    }
   ],
   "source": [
    "one_hot = enc.transform(data[['Education Level']]).toarray()\n",
    "one_hot"
   ]
  },
  {
   "cell_type": "code",
   "execution_count": 43,
   "metadata": {},
   "outputs": [],
   "source": [
    "data[[\"Bachelor's\", \"Master's\", 'PhD']] = one_hot"
   ]
  },
  {
   "cell_type": "code",
   "execution_count": 44,
   "metadata": {},
   "outputs": [
    {
     "data": {
      "text/html": [
       "<div>\n",
       "<style scoped>\n",
       "    .dataframe tbody tr th:only-of-type {\n",
       "        vertical-align: middle;\n",
       "    }\n",
       "\n",
       "    .dataframe tbody tr th {\n",
       "        vertical-align: top;\n",
       "    }\n",
       "\n",
       "    .dataframe thead th {\n",
       "        text-align: right;\n",
       "    }\n",
       "</style>\n",
       "<table border=\"1\" class=\"dataframe\">\n",
       "  <thead>\n",
       "    <tr style=\"text-align: right;\">\n",
       "      <th></th>\n",
       "      <th>Age</th>\n",
       "      <th>Gender</th>\n",
       "      <th>Education Level</th>\n",
       "      <th>Job Title</th>\n",
       "      <th>Years of Experience</th>\n",
       "      <th>Salary</th>\n",
       "      <th>Gender Code</th>\n",
       "      <th>Bachelor's</th>\n",
       "      <th>Master's</th>\n",
       "      <th>PhD</th>\n",
       "    </tr>\n",
       "  </thead>\n",
       "  <tbody>\n",
       "    <tr>\n",
       "      <th>0</th>\n",
       "      <td>32.0</td>\n",
       "      <td>Male</td>\n",
       "      <td>Bachelor's</td>\n",
       "      <td>Software Engineer</td>\n",
       "      <td>5.0</td>\n",
       "      <td>90000.0</td>\n",
       "      <td>1</td>\n",
       "      <td>1.0</td>\n",
       "      <td>0.0</td>\n",
       "      <td>0.0</td>\n",
       "    </tr>\n",
       "    <tr>\n",
       "      <th>1</th>\n",
       "      <td>28.0</td>\n",
       "      <td>Female</td>\n",
       "      <td>Master's</td>\n",
       "      <td>Data Analyst</td>\n",
       "      <td>3.0</td>\n",
       "      <td>65000.0</td>\n",
       "      <td>0</td>\n",
       "      <td>0.0</td>\n",
       "      <td>1.0</td>\n",
       "      <td>0.0</td>\n",
       "    </tr>\n",
       "    <tr>\n",
       "      <th>2</th>\n",
       "      <td>45.0</td>\n",
       "      <td>Male</td>\n",
       "      <td>PhD</td>\n",
       "      <td>Senior Manager</td>\n",
       "      <td>15.0</td>\n",
       "      <td>150000.0</td>\n",
       "      <td>1</td>\n",
       "      <td>0.0</td>\n",
       "      <td>0.0</td>\n",
       "      <td>1.0</td>\n",
       "    </tr>\n",
       "    <tr>\n",
       "      <th>3</th>\n",
       "      <td>36.0</td>\n",
       "      <td>Female</td>\n",
       "      <td>Bachelor's</td>\n",
       "      <td>Sales Associate</td>\n",
       "      <td>7.0</td>\n",
       "      <td>60000.0</td>\n",
       "      <td>0</td>\n",
       "      <td>1.0</td>\n",
       "      <td>0.0</td>\n",
       "      <td>0.0</td>\n",
       "    </tr>\n",
       "    <tr>\n",
       "      <th>4</th>\n",
       "      <td>52.0</td>\n",
       "      <td>Male</td>\n",
       "      <td>Master's</td>\n",
       "      <td>Director</td>\n",
       "      <td>20.0</td>\n",
       "      <td>200000.0</td>\n",
       "      <td>1</td>\n",
       "      <td>0.0</td>\n",
       "      <td>1.0</td>\n",
       "      <td>0.0</td>\n",
       "    </tr>\n",
       "    <tr>\n",
       "      <th>...</th>\n",
       "      <td>...</td>\n",
       "      <td>...</td>\n",
       "      <td>...</td>\n",
       "      <td>...</td>\n",
       "      <td>...</td>\n",
       "      <td>...</td>\n",
       "      <td>...</td>\n",
       "      <td>...</td>\n",
       "      <td>...</td>\n",
       "      <td>...</td>\n",
       "    </tr>\n",
       "    <tr>\n",
       "      <th>370</th>\n",
       "      <td>35.0</td>\n",
       "      <td>Female</td>\n",
       "      <td>Bachelor's</td>\n",
       "      <td>Senior Marketing Analyst</td>\n",
       "      <td>8.0</td>\n",
       "      <td>85000.0</td>\n",
       "      <td>0</td>\n",
       "      <td>1.0</td>\n",
       "      <td>0.0</td>\n",
       "      <td>0.0</td>\n",
       "    </tr>\n",
       "    <tr>\n",
       "      <th>371</th>\n",
       "      <td>43.0</td>\n",
       "      <td>Male</td>\n",
       "      <td>Master's</td>\n",
       "      <td>Director of Operations</td>\n",
       "      <td>19.0</td>\n",
       "      <td>170000.0</td>\n",
       "      <td>1</td>\n",
       "      <td>0.0</td>\n",
       "      <td>1.0</td>\n",
       "      <td>0.0</td>\n",
       "    </tr>\n",
       "    <tr>\n",
       "      <th>372</th>\n",
       "      <td>29.0</td>\n",
       "      <td>Female</td>\n",
       "      <td>Bachelor's</td>\n",
       "      <td>Junior Project Manager</td>\n",
       "      <td>2.0</td>\n",
       "      <td>40000.0</td>\n",
       "      <td>0</td>\n",
       "      <td>1.0</td>\n",
       "      <td>0.0</td>\n",
       "      <td>0.0</td>\n",
       "    </tr>\n",
       "    <tr>\n",
       "      <th>373</th>\n",
       "      <td>34.0</td>\n",
       "      <td>Male</td>\n",
       "      <td>Bachelor's</td>\n",
       "      <td>Senior Operations Coordinator</td>\n",
       "      <td>7.0</td>\n",
       "      <td>90000.0</td>\n",
       "      <td>1</td>\n",
       "      <td>1.0</td>\n",
       "      <td>0.0</td>\n",
       "      <td>0.0</td>\n",
       "    </tr>\n",
       "    <tr>\n",
       "      <th>374</th>\n",
       "      <td>44.0</td>\n",
       "      <td>Female</td>\n",
       "      <td>PhD</td>\n",
       "      <td>Senior Business Analyst</td>\n",
       "      <td>15.0</td>\n",
       "      <td>150000.0</td>\n",
       "      <td>0</td>\n",
       "      <td>0.0</td>\n",
       "      <td>0.0</td>\n",
       "      <td>1.0</td>\n",
       "    </tr>\n",
       "  </tbody>\n",
       "</table>\n",
       "<p>372 rows × 10 columns</p>\n",
       "</div>"
      ],
      "text/plain": [
       "      Age  Gender Education Level                      Job Title  \\\n",
       "0    32.0    Male      Bachelor's              Software Engineer   \n",
       "1    28.0  Female        Master's                   Data Analyst   \n",
       "2    45.0    Male             PhD                 Senior Manager   \n",
       "3    36.0  Female      Bachelor's                Sales Associate   \n",
       "4    52.0    Male        Master's                       Director   \n",
       "..    ...     ...             ...                            ...   \n",
       "370  35.0  Female      Bachelor's       Senior Marketing Analyst   \n",
       "371  43.0    Male        Master's         Director of Operations   \n",
       "372  29.0  Female      Bachelor's         Junior Project Manager   \n",
       "373  34.0    Male      Bachelor's  Senior Operations Coordinator   \n",
       "374  44.0  Female             PhD        Senior Business Analyst   \n",
       "\n",
       "     Years of Experience    Salary  Gender Code  Bachelor's  Master's  PhD  \n",
       "0                    5.0   90000.0            1         1.0       0.0  0.0  \n",
       "1                    3.0   65000.0            0         0.0       1.0  0.0  \n",
       "2                   15.0  150000.0            1         0.0       0.0  1.0  \n",
       "3                    7.0   60000.0            0         1.0       0.0  0.0  \n",
       "4                   20.0  200000.0            1         0.0       1.0  0.0  \n",
       "..                   ...       ...          ...         ...       ...  ...  \n",
       "370                  8.0   85000.0            0         1.0       0.0  0.0  \n",
       "371                 19.0  170000.0            1         0.0       1.0  0.0  \n",
       "372                  2.0   40000.0            0         1.0       0.0  0.0  \n",
       "373                  7.0   90000.0            1         1.0       0.0  0.0  \n",
       "374                 15.0  150000.0            0         0.0       0.0  1.0  \n",
       "\n",
       "[372 rows x 10 columns]"
      ]
     },
     "execution_count": 44,
     "metadata": {},
     "output_type": "execute_result"
    }
   ],
   "source": [
    "data"
   ]
  },
  {
   "cell_type": "markdown",
   "metadata": {},
   "source": [
    "The new relationship once we add in the education level is: \n",
    "\n",
    "$salary = w_1 \\times age + w_2 \\times years + w_3 \\times gender + w_4 \\times education + b$"
   ]
  },
  {
   "cell_type": "code",
   "execution_count": 46,
   "metadata": {},
   "outputs": [
    {
     "name": "stdout",
     "output_type": "stream",
     "text": [
      "Loss: 14822.447105065145\n"
     ]
    }
   ],
   "source": [
    "# Create inputs and targets\n",
    "inputs = data[['Age', 'Years of Experience', 'Gender Code', \"Bachelor's\", \"Master's\", 'PhD']]\n",
    "targets = data['Salary']\n",
    "\n",
    "# Create and train the model\n",
    "model = LinearRegression().fit(inputs, targets)\n",
    "\n",
    "# Generate predictions\n",
    "predictions = model.predict(inputs)\n",
    "\n",
    "# Compute loss to evalute the model\n",
    "loss = rmse(targets, predictions)\n",
    "print('Loss:', loss)"
   ]
  },
  {
   "cell_type": "markdown",
   "metadata": {},
   "source": [
    "The loss was reduced from $16,925 to $14,822, which is around a $2,000 difference. This reduction in loss was extremely significant because education level had an extremely high correlation with salary. "
   ]
  }
 ],
 "metadata": {
  "kernelspec": {
   "display_name": "base",
   "language": "python",
   "name": "python3"
  },
  "language_info": {
   "codemirror_mode": {
    "name": "ipython",
    "version": 3
   },
   "file_extension": ".py",
   "mimetype": "text/x-python",
   "name": "python",
   "nbconvert_exporter": "python",
   "pygments_lexer": "ipython3",
   "version": "3.11.7"
  }
 },
 "nbformat": 4,
 "nbformat_minor": 2
}
